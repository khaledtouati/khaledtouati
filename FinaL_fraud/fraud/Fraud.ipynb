{
  "nbformat": 4,
  "nbformat_minor": 0,
  "metadata": {
    "colab": {
      "name": "Fraud.ipynb",
      "provenance": [],
      "collapsed_sections": []
    },
    "kernelspec": {
      "name": "python3",
      "display_name": "Python 3"
    },
    "language_info": {
      "name": "python"
    }
  },
  "cells": [
    {
      "cell_type": "code",
      "metadata": {
        "id": "vEp_pDM4AMnq"
      },
      "source": [
        "import sys\n",
        "import numpy\n",
        "import pandas\n",
        "import matplotlib\n",
        "import seaborn\n",
        "import scipy"
      ],
      "execution_count": null,
      "outputs": []
    },
    {
      "cell_type": "code",
      "metadata": {
        "id": "qHLfkm3VAT7S"
      },
      "source": [
        "import numpy as np # linear algebra\n",
        "import pandas as pd "
      ],
      "execution_count": null,
      "outputs": []
    },
    {
      "cell_type": "code",
      "metadata": {
        "colab": {
          "resources": {
            "http://localhost:8080/nbextensions/google.colab/files.js": {
              "data": "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",
              "ok": true,
              "headers": [
                [
                  "content-type",
                  "application/javascript"
                ]
              ],
              "status": 200,
              "status_text": "OK"
            }
          },
          "base_uri": "https://localhost:8080/",
          "height": 75
        },
        "id": "gxfNeNbO9lz5",
        "outputId": "287b8032-e949-49be-ce71-ee82c2b4b790"
      },
      "source": [
        "from google.colab import files\n",
        "  \n",
        "  \n",
        "uploaded = files.upload()"
      ],
      "execution_count": null,
      "outputs": [
        {
          "output_type": "display_data",
          "data": {
            "text/html": [
              "\n",
              "     <input type=\"file\" id=\"files-4800420e-0769-4ebe-b717-a9490b7238e3\" name=\"files[]\" multiple disabled\n",
              "        style=\"border:none\" />\n",
              "     <output id=\"result-4800420e-0769-4ebe-b717-a9490b7238e3\">\n",
              "      Upload widget is only available when the cell has been executed in the\n",
              "      current browser session. Please rerun this cell to enable.\n",
              "      </output>\n",
              "      <script src=\"/nbextensions/google.colab/files.js\"></script> "
            ],
            "text/plain": [
              "<IPython.core.display.HTML object>"
            ]
          },
          "metadata": {
            "tags": []
          }
        },
        {
          "output_type": "stream",
          "text": [
            "Saving primary_transaction(1).csv to primary_transaction(1).csv\n"
          ],
          "name": "stdout"
        }
      ]
    },
    {
      "cell_type": "code",
      "metadata": {
        "colab": {
          "base_uri": "https://localhost:8080/"
        },
        "id": "1OAxTc89_OuD",
        "outputId": "987ebfeb-569b-45ae-c032-7f4308092dbf"
      },
      "source": [
        "import pandas as pd\n",
        "import io\n",
        "\n",
        "df = pd.read_csv(io.BytesIO(uploaded['primary_transaction(1).csv']))\n",
        "print(df)\n"
      ],
      "execution_count": null,
      "outputs": [
        {
          "output_type": "stream",
          "text": [
            "    id  amount  available_balance  ...    status      type primary_account_id\n",
            "0   15     133             1000.0  ...  Finished   Account                 11\n",
            "1   17      10              990.0  ...  Finished   Account                 11\n",
            "2   19     170             6545.0  ...  Finished   Account                 11\n",
            "3   21      10             6535.0  ...  Finished   Account                 11\n",
            "4   23     100             6435.0  ...  Finished   Account                 11\n",
            "5   28      55             6446.0  ...  Finished  Transfer                 11\n",
            "6   33      10             6456.0  ...  Finished   Account                 11\n",
            "7   35      10             6466.0  ...  Finished   Account                 11\n",
            "8   37      67             6399.0  ...  Finished   Account                 11\n",
            "9   39       8             6391.0  ...  Finished   Account                 11\n",
            "10  41      66             6547.0  ...  Finished  Transfer                 11\n",
            "11  43     104             1000.0  ...  Finished   Account                  2\n",
            "12  45      55              945.0  ...  Finished   Account                  2\n",
            "13  47       5               25.0  ...  Finished   Account                  1\n",
            "14  48       5               20.0  ...  Finished   Account                  1\n",
            "15  49     100             1000.0  ...  Finished   Account                 53\n",
            "16  57      10              935.0  ...  Finished   Account                  2\n",
            "17  59      10             6537.0  ...  Finished  Transfer                 11\n",
            "18  61      10               10.0  ...  Finished  Transfer                  1\n",
            "\n",
            "[19 rows x 8 columns]\n"
          ],
          "name": "stdout"
        }
      ]
    },
    {
      "cell_type": "code",
      "metadata": {
        "colab": {
          "base_uri": "https://localhost:8080/",
          "height": 293
        },
        "id": "9eIHTCL8_eCO",
        "outputId": "a28a63c4-94ba-4621-9ec2-2bff5de2df0c"
      },
      "source": [
        "df.head()"
      ],
      "execution_count": null,
      "outputs": [
        {
          "output_type": "execute_result",
          "data": {
            "text/html": [
              "<div>\n",
              "<style scoped>\n",
              "    .dataframe tbody tr th:only-of-type {\n",
              "        vertical-align: middle;\n",
              "    }\n",
              "\n",
              "    .dataframe tbody tr th {\n",
              "        vertical-align: top;\n",
              "    }\n",
              "\n",
              "    .dataframe thead th {\n",
              "        text-align: right;\n",
              "    }\n",
              "</style>\n",
              "<table border=\"1\" class=\"dataframe\">\n",
              "  <thead>\n",
              "    <tr style=\"text-align: right;\">\n",
              "      <th></th>\n",
              "      <th>id</th>\n",
              "      <th>amount</th>\n",
              "      <th>available_balance</th>\n",
              "      <th>date</th>\n",
              "      <th>description</th>\n",
              "      <th>status</th>\n",
              "      <th>type</th>\n",
              "      <th>primary_account_id</th>\n",
              "    </tr>\n",
              "  </thead>\n",
              "  <tbody>\n",
              "    <tr>\n",
              "      <th>0</th>\n",
              "      <td>15</td>\n",
              "      <td>133</td>\n",
              "      <td>1000.0</td>\n",
              "      <td>2021-05-28 12:13:28</td>\n",
              "      <td>Deposit to Primary Account</td>\n",
              "      <td>Finished</td>\n",
              "      <td>Account</td>\n",
              "      <td>11</td>\n",
              "    </tr>\n",
              "    <tr>\n",
              "      <th>1</th>\n",
              "      <td>17</td>\n",
              "      <td>10</td>\n",
              "      <td>990.0</td>\n",
              "      <td>2021-05-28 12:13:52</td>\n",
              "      <td>Withdraw from Primary Account</td>\n",
              "      <td>Finished</td>\n",
              "      <td>Account</td>\n",
              "      <td>11</td>\n",
              "    </tr>\n",
              "    <tr>\n",
              "      <th>2</th>\n",
              "      <td>19</td>\n",
              "      <td>170</td>\n",
              "      <td>6545.0</td>\n",
              "      <td>2021-05-28 12:15:44</td>\n",
              "      <td>Deposit to Primary Account</td>\n",
              "      <td>Finished</td>\n",
              "      <td>Account</td>\n",
              "      <td>11</td>\n",
              "    </tr>\n",
              "    <tr>\n",
              "      <th>3</th>\n",
              "      <td>21</td>\n",
              "      <td>10</td>\n",
              "      <td>6535.0</td>\n",
              "      <td>2021-05-28 12:15:59</td>\n",
              "      <td>Withdraw from Primary Account</td>\n",
              "      <td>Finished</td>\n",
              "      <td>Account</td>\n",
              "      <td>11</td>\n",
              "    </tr>\n",
              "    <tr>\n",
              "      <th>4</th>\n",
              "      <td>23</td>\n",
              "      <td>100</td>\n",
              "      <td>6435.0</td>\n",
              "      <td>2021-05-28 12:16:35</td>\n",
              "      <td>Between account transfer from Primary to Savings</td>\n",
              "      <td>Finished</td>\n",
              "      <td>Account</td>\n",
              "      <td>11</td>\n",
              "    </tr>\n",
              "  </tbody>\n",
              "</table>\n",
              "</div>"
            ],
            "text/plain": [
              "   id  amount  available_balance  ...    status     type primary_account_id\n",
              "0  15     133             1000.0  ...  Finished  Account                 11\n",
              "1  17      10              990.0  ...  Finished  Account                 11\n",
              "2  19     170             6545.0  ...  Finished  Account                 11\n",
              "3  21      10             6535.0  ...  Finished  Account                 11\n",
              "4  23     100             6435.0  ...  Finished  Account                 11\n",
              "\n",
              "[5 rows x 8 columns]"
            ]
          },
          "metadata": {
            "tags": []
          },
          "execution_count": 136
        }
      ]
    },
    {
      "cell_type": "code",
      "metadata": {
        "colab": {
          "base_uri": "https://localhost:8080/"
        },
        "id": "U6C0Ol3S_42i",
        "outputId": "e4939336-4164-427c-e679-78bc074ca443"
      },
      "source": [
        "df.shape"
      ],
      "execution_count": null,
      "outputs": [
        {
          "output_type": "execute_result",
          "data": {
            "text/plain": [
              "(19, 8)"
            ]
          },
          "metadata": {
            "tags": []
          },
          "execution_count": 137
        }
      ]
    },
    {
      "cell_type": "code",
      "metadata": {
        "colab": {
          "base_uri": "https://localhost:8080/"
        },
        "id": "I25nG6uE_7xL",
        "outputId": "1eca1ed3-41b5-44d5-84ab-e77a4f0acb6c"
      },
      "source": [
        "\n",
        "\n",
        "print(df.columns)\n",
        "\n"
      ],
      "execution_count": null,
      "outputs": [
        {
          "output_type": "stream",
          "text": [
            "Index(['id', 'amount', 'available_balance', 'date', 'description', 'status',\n",
            "       'type', 'primary_account_id'],\n",
            "      dtype='object')\n"
          ],
          "name": "stdout"
        }
      ]
    },
    {
      "cell_type": "code",
      "metadata": {
        "colab": {
          "base_uri": "https://localhost:8080/"
        },
        "id": "BAdeEINRAAiD",
        "outputId": "1d31d188-59b6-46f5-d206-6a30194fc724"
      },
      "source": [
        "df = df.sample(frac=0.9, random_state = 1) # taking only one percent of data \n",
        "print(df.shape)\n",
        "print(df.describe())"
      ],
      "execution_count": null,
      "outputs": [
        {
          "output_type": "stream",
          "text": [
            "(17, 8)\n",
            "              id      amount  available_balance  primary_account_id\n",
            "count  17.000000   17.000000          17.000000           17.000000\n",
            "mean   38.000000   45.823529        3719.764706           10.647059\n",
            "std    14.941553   52.187445        3034.743204           11.789514\n",
            "min    15.000000    5.000000          10.000000            1.000000\n",
            "25%    23.000000   10.000000         945.000000            2.000000\n",
            "50%    39.000000   10.000000        6391.000000           11.000000\n",
            "75%    48.000000   67.000000        6466.000000           11.000000\n",
            "max    61.000000  170.000000        6547.000000           53.000000\n"
          ],
          "name": "stdout"
        }
      ]
    },
    {
      "cell_type": "code",
      "metadata": {
        "id": "zuAea3E8Acnj"
      },
      "source": [
        "import numpy as np\n",
        "import pandas as pd\n",
        "import matplotlib.pyplot as plt\n",
        "import seaborn as sns"
      ],
      "execution_count": null,
      "outputs": []
    },
    {
      "cell_type": "markdown",
      "metadata": {
        "id": "JhNoLdxnLG6X"
      },
      "source": [
        ""
      ]
    },
    {
      "cell_type": "code",
      "metadata": {
        "colab": {
          "base_uri": "https://localhost:8080/",
          "height": 1000
        },
        "id": "exeiv0viAGHB",
        "outputId": "642a2143-932a-472f-efd4-567b772e09ad"
      },
      "source": [
        "df.hist(figsize = (20, 20))\n",
        "plt.show()"
      ],
      "execution_count": null,
      "outputs": [
        {
          "output_type": "display_data",
          "data": {
            "image/png": "[encoded data removed]",
            "text/plain": [
              "<Figure size 1440x1440 with 4 Axes>"
            ]
          },
          "metadata": {
            "tags": [],
            "needs_background": "light"
          }
        }
      ]
    },
    {
      "cell_type": "code",
      "metadata": {
        "id": "beWr92bH1iu-"
      },
      "source": [
        ""
      ],
      "execution_count": null,
      "outputs": []
    },
    {
      "cell_type": "code",
      "metadata": {
        "colab": {
          "base_uri": "https://localhost:8080/"
        },
        "id": "v0YYqw3uAkS5",
        "outputId": "2ab60136-5f2e-4ac0-ef88-7e30c0611d67"
      },
      "source": [
        "# Determine number of fraud cases in dataset\n",
        "\n",
        "Fraud = df[df['amount'] == 5]\n",
        "Valid = df[df['amount'] >10]\n",
        "\n",
        "outlier_fraction = len(Fraud)/float(len(Valid))\n",
        "print(outlier_fraction)\n",
        "\n",
        "print('Fraud Cases: {}'.format(len(df[df['amount'] == 5])))\n",
        "print('Valid Transactions: {}'.format(len(df[df['amount'] > 10])))"
      ],
      "execution_count": null,
      "outputs": [
        {
          "output_type": "stream",
          "text": [
            "0.2857142857142857\n",
            "Fraud Cases: 2\n",
            "Valid Transactions: 7\n"
          ],
          "name": "stdout"
        }
      ]
    },
    {
      "cell_type": "code",
      "metadata": {
        "colab": {
          "base_uri": "https://localhost:8080/",
          "height": 557
        },
        "id": "RjWkXdorPkax",
        "outputId": "2ec2b334-e534-42c0-cac2-efb31c63811d"
      },
      "source": [
        "corrmat = df.corr()\n",
        "fig = plt.figure(figsize = (12, 9))\n",
        "\n",
        "sns.heatmap(corrmat, vmax = .8, square = True)\n",
        "plt.show()"
      ],
      "execution_count": null,
      "outputs": [
        {
          "output_type": "display_data",
          "data": {
            "image/png": "[encoded data removed]",
            "text/plain": [
              "<Figure size 864x648 with 2 Axes>"
            ]
          },
          "metadata": {
            "tags": [],
            "needs_background": "light"
          }
        }
      ]
    },
    {
      "cell_type": "code",
      "metadata": {
        "colab": {
          "base_uri": "https://localhost:8080/"
        },
        "id": "OL_9tyZzPoc9",
        "outputId": "d4847e6d-eeee-4023-9b85-16dbea072a8a"
      },
      "source": [
        "\n",
        "\n",
        "# Get all the columns from the dataFrame\n",
        "columns = df.columns.tolist()\n",
        "\n",
        "# Filter the columns to remove data we do not want\n",
        "columns = [c for c in columns if c != 'amount' and c != 'date' and c !='description' and c !='status' and c !='type']\n",
        "\n",
        "# Store the variable we'll be predicting on\n",
        "target = \"amount\"\n",
        "\n",
        "X = df[columns]\n",
        "Y = df[target]\n",
        "print(X)\n",
        "print(Y)\n",
        "# Print shapes\n",
        "print(X.shape)\n",
        "print(Y.shape)\n",
        "\n",
        "import sklearn\n",
        "from sklearn.metrics import accuracy_score, classification_report\n",
        "from sklearn.ensemble import IsolationForest\n",
        "from sklearn.neighbors import LocalOutlierFactor\n",
        "\n",
        "# define random states\n",
        "state = 1\n",
        "\n",
        "classifier = {\n",
        "    'isolation_forest':IsolationForest(max_samples=len(X), contamination=outlier_fraction,\n",
        "                                      random_state = state),\n",
        "                                      \n",
        "    'local_outlierfactor':LocalOutlierFactor(\n",
        "    n_neighbors=20 , contamination= outlier_fraction, novelty=True\n",
        "    )\n",
        "}\n",
        "\n",
        "\n"
      ],
      "execution_count": null,
      "outputs": [
        {
          "output_type": "stream",
          "text": [
            "    id  available_balance  primary_account_id\n",
            "3   21             6535.0                  11\n",
            "15  49             1000.0                  53\n",
            "6   33             6456.0                  11\n",
            "10  41             6547.0                  11\n",
            "2   19             6545.0                  11\n",
            "14  48               20.0                   1\n",
            "4   23             6435.0                  11\n",
            "16  57              935.0                   2\n",
            "7   35             6466.0                  11\n",
            "1   17              990.0                  11\n",
            "13  47               25.0                   1\n",
            "0   15             1000.0                  11\n",
            "18  61               10.0                   1\n",
            "17  59             6537.0                  11\n",
            "9   39             6391.0                  11\n",
            "8   37             6399.0                  11\n",
            "12  45              945.0                   2\n",
            "3      10\n",
            "15    100\n",
            "6      10\n",
            "10     66\n",
            "2     170\n",
            "14      5\n",
            "4     100\n",
            "16     10\n",
            "7      10\n",
            "1      10\n",
            "13      5\n",
            "0     133\n",
            "18     10\n",
            "17     10\n",
            "9       8\n",
            "8      67\n",
            "12     55\n",
            "Name: amount, dtype: int64\n",
            "(17, 3)\n",
            "(17,)\n"
          ],
          "name": "stdout"
        }
      ]
    },
    {
      "cell_type": "code",
      "metadata": {
        "id": "cCS6gF5VbCrX",
        "colab": {
          "base_uri": "https://localhost:8080/",
          "height": 955
        },
        "outputId": "b82092a1-e30a-4cd7-a814-51eb82813025"
      },
      "source": [
        "# the model dont know yet that how many outliers are there in our X data \n",
        "plt.figure(figsize=(9, 7))\n",
        "n_outliers = len(Fraud)\n",
        "\n",
        "for i ,(clf_name, clf) in enumerate(classifier.items()):\n",
        "    if clf_name == 'localoutlierfactor':\n",
        "        y_pred = clf.fit_predict(X)\n",
        "        scores_pred = clf.negative_outlier_factor_\n",
        "    else:\n",
        "        clf.fit(X)\n",
        "        scores_pred = clf.decision_function(X)\n",
        "        y_pred = clf.predict(X)\n",
        "        \n",
        "    # Reshape the prediction values to 0 for valid, 1 for fraud. \n",
        "    y_pred[y_pred == 1] = 0\n",
        "    y_pred[y_pred == -1] = 1    \n",
        "    \n",
        "    \n",
        "    n_errors = (y_pred != Y).sum()\n",
        "    \n",
        "    # Run classification metrics\n",
        "    print('{}: {}'.format(clf_name, n_errors))\n",
        "    print(accuracy_score(Y, y_pred))\n",
        "    print(classification_report(Y, y_pred))"
      ],
      "execution_count": null,
      "outputs": [
        {
          "output_type": "stream",
          "text": [
            "isolation_forest: 17\n",
            "0.0\n",
            "              precision    recall  f1-score   support\n",
            "\n",
            "           0       0.00      0.00      0.00       0.0\n",
            "           1       0.00      0.00      0.00       0.0\n",
            "           5       0.00      0.00      0.00       2.0\n",
            "           8       0.00      0.00      0.00       1.0\n",
            "          10       0.00      0.00      0.00       7.0\n",
            "          55       0.00      0.00      0.00       1.0\n",
            "          66       0.00      0.00      0.00       1.0\n",
            "          67       0.00      0.00      0.00       1.0\n",
            "         100       0.00      0.00      0.00       2.0\n",
            "         133       0.00      0.00      0.00       1.0\n",
            "         170       0.00      0.00      0.00       1.0\n",
            "\n",
            "    accuracy                           0.00      17.0\n",
            "   macro avg       0.00      0.00      0.00      17.0\n",
            "weighted avg       0.00      0.00      0.00      17.0\n",
            "\n",
            "local_outlierfactor: 17\n",
            "0.0\n",
            "              precision    recall  f1-score   support\n",
            "\n",
            "           0       0.00      0.00      0.00       0.0\n",
            "           5       0.00      0.00      0.00       2.0\n",
            "           8       0.00      0.00      0.00       1.0\n",
            "          10       0.00      0.00      0.00       7.0\n",
            "          55       0.00      0.00      0.00       1.0\n",
            "          66       0.00      0.00      0.00       1.0\n",
            "          67       0.00      0.00      0.00       1.0\n",
            "         100       0.00      0.00      0.00       2.0\n",
            "         133       0.00      0.00      0.00       1.0\n",
            "         170       0.00      0.00      0.00       1.0\n",
            "\n",
            "    accuracy                           0.00      17.0\n",
            "   macro avg       0.00      0.00      0.00      17.0\n",
            "weighted avg       0.00      0.00      0.00      17.0\n",
            "\n"
          ],
          "name": "stdout"
        },
        {
          "output_type": "stream",
          "text": [
            "/usr/local/lib/python3.7/dist-packages/sklearn/metrics/_classification.py:1272: UndefinedMetricWarning: Precision and F-score are ill-defined and being set to 0.0 in labels with no predicted samples. Use `zero_division` parameter to control this behavior.\n",
            "  _warn_prf(average, modifier, msg_start, len(result))\n",
            "/usr/local/lib/python3.7/dist-packages/sklearn/metrics/_classification.py:1272: UndefinedMetricWarning: Recall and F-score are ill-defined and being set to 0.0 in labels with no true samples. Use `zero_division` parameter to control this behavior.\n",
            "  _warn_prf(average, modifier, msg_start, len(result))\n",
            "/usr/local/lib/python3.7/dist-packages/sklearn/neighbors/_lof.py:259: UserWarning: n_neighbors (20) is greater than the total number of samples (17). n_neighbors will be set to (n_samples - 1) for estimation.\n",
            "  % (self.n_neighbors, n_samples))\n",
            "/usr/local/lib/python3.7/dist-packages/sklearn/metrics/_classification.py:1272: UndefinedMetricWarning: Precision and F-score are ill-defined and being set to 0.0 in labels with no predicted samples. Use `zero_division` parameter to control this behavior.\n",
            "  _warn_prf(average, modifier, msg_start, len(result))\n",
            "/usr/local/lib/python3.7/dist-packages/sklearn/metrics/_classification.py:1272: UndefinedMetricWarning: Recall and F-score are ill-defined and being set to 0.0 in labels with no true samples. Use `zero_division` parameter to control this behavior.\n",
            "  _warn_prf(average, modifier, msg_start, len(result))\n"
          ],
          "name": "stderr"
        },
        {
          "output_type": "display_data",
          "data": {
            "text/plain": [
              "<Figure size 648x504 with 0 Axes>"
            ]
          },
          "metadata": {
            "tags": []
          }
        }
      ]
    },
    {
      "cell_type": "code",
      "metadata": {
        "colab": {
          "base_uri": "https://localhost:8080/"
        },
        "id": "iOm-sTLMvGT6",
        "outputId": "6d4d127d-29f9-44b9-eee3-bbdf5a86e30e"
      },
      "source": [
        "\n",
        "\n",
        "df.info()\n",
        "\n"
      ],
      "execution_count": null,
      "outputs": [
        {
          "output_type": "stream",
          "text": [
            "<class 'pandas.core.frame.DataFrame'>\n",
            "Int64Index: 17 entries, 3 to 12\n",
            "Data columns (total 8 columns):\n",
            " #   Column              Non-Null Count  Dtype  \n",
            "---  ------              --------------  -----  \n",
            " 0   id                  17 non-null     int64  \n",
            " 1   amount              17 non-null     int64  \n",
            " 2   available_balance   17 non-null     float64\n",
            " 3   date                17 non-null     object \n",
            " 4   description         17 non-null     object \n",
            " 5   status              17 non-null     object \n",
            " 6   type                17 non-null     object \n",
            " 7   primary_account_id  17 non-null     int64  \n",
            "dtypes: float64(1), int64(3), object(4)\n",
            "memory usage: 1.2+ KB\n"
          ],
          "name": "stdout"
        }
      ]
    },
    {
      "cell_type": "code",
      "metadata": {
        "colab": {
          "base_uri": "https://localhost:8080/"
        },
        "id": "FS57aiD5vLuu",
        "outputId": "6d50e74d-d731-478b-c277-81d616fac859"
      },
      "source": [
        "\n",
        "\n",
        "df.isnull().any()\n",
        "\n"
      ],
      "execution_count": null,
      "outputs": [
        {
          "output_type": "execute_result",
          "data": {
            "text/plain": [
              "id                    False\n",
              "amount                False\n",
              "available_balance     False\n",
              "date                  False\n",
              "description           False\n",
              "status                False\n",
              "type                  False\n",
              "primary_account_id    False\n",
              "dtype: bool"
            ]
          },
          "metadata": {
            "tags": []
          },
          "execution_count": 222
        }
      ]
    },
    {
      "cell_type": "code",
      "metadata": {
        "id": "sedAuW9svNn-"
      },
      "source": [
        "\n",
        "\n",
        "import matplotlib.pyplot as plt \n",
        "import seaborn as sns"
      ],
      "execution_count": null,
      "outputs": []
    },
    {
      "cell_type": "code",
      "metadata": {
        "colab": {
          "base_uri": "https://localhost:8080/",
          "height": 279
        },
        "id": "RMoRrEOGvP2d",
        "outputId": "c780d40d-238c-4e13-f34c-6c3c4654c1c2"
      },
      "source": [
        "sns.histplot(df['amount'],bins =40,color=\"green\")\n",
        "sns.set_style(\"darkgrid\")"
      ],
      "execution_count": null,
      "outputs": [
        {
          "output_type": "display_data",
          "data": {
            "image/png": "[encoded data removed]",
            "text/plain": [
              "<Figure size 432x288 with 1 Axes>"
            ]
          },
          "metadata": {
            "tags": [],
            "needs_background": "light"
          }
        }
      ]
    },
    {
      "cell_type": "code",
      "metadata": {
        "id": "voInsPgB1kHm"
      },
      "source": [
        ""
      ],
      "execution_count": null,
      "outputs": []
    },
    {
      "cell_type": "code",
      "metadata": {
        "colab": {
          "base_uri": "https://localhost:8080/",
          "height": 938
        },
        "id": "RYjnwnZNvXiI",
        "outputId": "04a25a55-bc23-4b74-fa59-b6465aaa795f"
      },
      "source": [
        "\n",
        "\n",
        "sns.set_style(\"whitegrid\")\n",
        "df[\"log_amount\"] = np.log2(df[\"amount\"]+0.01)\n",
        "sns.displot(x = \"log_amount\",bins = 25, kde = True, hue = \"available_balance\", data=df)\n",
        "\n"
      ],
      "execution_count": null,
      "outputs": [
        {
          "output_type": "stream",
          "text": [
            "/usr/local/lib/python3.7/dist-packages/seaborn/distributions.py:306: UserWarning: Dataset has 0 variance; skipping density estimate.\n",
            "  warnings.warn(msg, UserWarning)\n",
            "/usr/local/lib/python3.7/dist-packages/seaborn/distributions.py:306: UserWarning: Dataset has 0 variance; skipping density estimate.\n",
            "  warnings.warn(msg, UserWarning)\n",
            "/usr/local/lib/python3.7/dist-packages/seaborn/distributions.py:306: UserWarning: Dataset has 0 variance; skipping density estimate.\n",
            "  warnings.warn(msg, UserWarning)\n",
            "/usr/local/lib/python3.7/dist-packages/seaborn/distributions.py:306: UserWarning: Dataset has 0 variance; skipping density estimate.\n",
            "  warnings.warn(msg, UserWarning)\n",
            "/usr/local/lib/python3.7/dist-packages/seaborn/distributions.py:306: UserWarning: Dataset has 0 variance; skipping density estimate.\n",
            "  warnings.warn(msg, UserWarning)\n",
            "/usr/local/lib/python3.7/dist-packages/seaborn/distributions.py:306: UserWarning: Dataset has 0 variance; skipping density estimate.\n",
            "  warnings.warn(msg, UserWarning)\n",
            "/usr/local/lib/python3.7/dist-packages/seaborn/distributions.py:306: UserWarning: Dataset has 0 variance; skipping density estimate.\n",
            "  warnings.warn(msg, UserWarning)\n",
            "/usr/local/lib/python3.7/dist-packages/seaborn/distributions.py:306: UserWarning: Dataset has 0 variance; skipping density estimate.\n",
            "  warnings.warn(msg, UserWarning)\n",
            "/usr/local/lib/python3.7/dist-packages/seaborn/distributions.py:306: UserWarning: Dataset has 0 variance; skipping density estimate.\n",
            "  warnings.warn(msg, UserWarning)\n",
            "/usr/local/lib/python3.7/dist-packages/seaborn/distributions.py:306: UserWarning: Dataset has 0 variance; skipping density estimate.\n",
            "  warnings.warn(msg, UserWarning)\n",
            "/usr/local/lib/python3.7/dist-packages/seaborn/distributions.py:306: UserWarning: Dataset has 0 variance; skipping density estimate.\n",
            "  warnings.warn(msg, UserWarning)\n",
            "/usr/local/lib/python3.7/dist-packages/seaborn/distributions.py:306: UserWarning: Dataset has 0 variance; skipping density estimate.\n",
            "  warnings.warn(msg, UserWarning)\n",
            "/usr/local/lib/python3.7/dist-packages/seaborn/distributions.py:306: UserWarning: Dataset has 0 variance; skipping density estimate.\n",
            "  warnings.warn(msg, UserWarning)\n",
            "/usr/local/lib/python3.7/dist-packages/seaborn/distributions.py:306: UserWarning: Dataset has 0 variance; skipping density estimate.\n",
            "  warnings.warn(msg, UserWarning)\n",
            "/usr/local/lib/python3.7/dist-packages/seaborn/distributions.py:306: UserWarning: Dataset has 0 variance; skipping density estimate.\n",
            "  warnings.warn(msg, UserWarning)\n"
          ],
          "name": "stderr"
        },
        {
          "output_type": "execute_result",
          "data": {
            "text/plain": [
              "<seaborn.axisgrid.FacetGrid at 0x7f1522535050>"
            ]
          },
          "metadata": {
            "tags": []
          },
          "execution_count": 233
        },
        {
          "output_type": "display_data",
          "data": {
            "image/png": "[encoded data removed]",
            "text/plain": [
              "<Figure size 457.625x360 with 1 Axes>"
            ]
          },
          "metadata": {
            "tags": []
          }
        }
      ]
    },
    {
      "cell_type": "code",
      "metadata": {
        "colab": {
          "base_uri": "https://localhost:8080/",
          "height": 624
        },
        "id": "fYqXnR4Cw8z4",
        "outputId": "6e2eab4e-906e-4da0-caf5-642e1e625ce8"
      },
      "source": [
        "sns.set_style(\"ticks\")\n",
        "fig,ax  = plt.subplots(ncols = 2,nrows =1,figsize = (10,10))\n",
        "ax.flatten()\n",
        "sns.boxplot(x = \"available_balance\", y = \"amount\", data=df, ax = ax[0])\n",
        "sns.boxplot(x = \"available_balance\",y = \"log_amount\", data =df, ax = ax[1])"
      ],
      "execution_count": null,
      "outputs": [
        {
          "output_type": "execute_result",
          "data": {
            "text/plain": [
              "<matplotlib.axes._subplots.AxesSubplot at 0x7f1521a03f10>"
            ]
          },
          "metadata": {
            "tags": []
          },
          "execution_count": 237
        },
        {
          "output_type": "display_data",
          "data": {
            "image/png": "[encoded data removed]",
            "text/plain": [
              "<Figure size 720x720 with 2 Axes>"
            ]
          },
          "metadata": {
            "tags": []
          }
        }
      ]
    },
    {
      "cell_type": "markdown",
      "metadata": {
        "id": "bzDFkiYz1l-0"
      },
      "source": [
        "sns.set_style(\"darkgrid\")\n",
        "plt.figure(figsize = (10,6))\n",
        "sns.countplot(x = \"amount\", data=df)"
      ]
    },
    {
      "cell_type": "code",
      "metadata": {
        "colab": {
          "base_uri": "https://localhost:8080/",
          "height": 406
        },
        "id": "2YZc_ENG1oIH",
        "outputId": "5b7ff45f-480d-4eee-ac96-70d3b615175b"
      },
      "source": [
        "sns.set_style(\"darkgrid\")\n",
        "plt.figure(figsize = (10,6))\n",
        "sns.countplot(x = \"amount\", data=df)"
      ],
      "execution_count": null,
      "outputs": [
        {
          "output_type": "execute_result",
          "data": {
            "text/plain": [
              "<matplotlib.axes._subplots.AxesSubplot at 0x7f1521786310>"
            ]
          },
          "metadata": {
            "tags": []
          },
          "execution_count": 238
        },
        {
          "output_type": "display_data",
          "data": {
            "image/png": "[encoded data removed]",
            "text/plain": [
              "<Figure size 720x432 with 1 Axes>"
            ]
          },
          "metadata": {
            "tags": []
          }
        }
      ]
    },
    {
      "cell_type": "code",
      "metadata": {
        "id": "KRHCscDY1q2N"
      },
      "source": [
        "# Determine number of fraud cases in dataset\n",
        "\n",
        "fraud = df[df['amount'] == 5]\n",
        "not_fraud = df[df['amount'] >10]"
      ],
      "execution_count": null,
      "outputs": []
    },
    {
      "cell_type": "code",
      "metadata": {
        "colab": {
          "base_uri": "https://localhost:8080/"
        },
        "id": "WxqMh1KZ19BT",
        "outputId": "e7d00ead-0400-4c47-cf83-8115236945a8"
      },
      "source": [
        "print(fraud.shape,not_fraud.shape)"
      ],
      "execution_count": null,
      "outputs": [
        {
          "output_type": "stream",
          "text": [
            "(2, 9) (7, 9)\n"
          ],
          "name": "stdout"
        }
      ]
    },
    {
      "cell_type": "code",
      "metadata": {
        "colab": {
          "base_uri": "https://localhost:8080/"
        },
        "id": "jjQvYR_g2Pmm",
        "outputId": "58670b8b-b9a3-44d8-99cd-53771140817d"
      },
      "source": [
        "x = df.drop([\"amount\" , \"date\", \"description\" , \"status\", \"type\" ], axis = 1)\n",
        "y = df[\"amount\"]\n",
        "print(x)\n",
        "print(y)\n",
        " \n",
        "print(x.shape,y.shape)"
      ],
      "execution_count": null,
      "outputs": [
        {
          "output_type": "stream",
          "text": [
            "    id  available_balance  primary_account_id  log_amount\n",
            "3   21             6535.0                  11    3.323370\n",
            "15  49             1000.0                  53    6.644000\n",
            "6   33             6456.0                  11    3.323370\n",
            "10  41             6547.0                  11    6.044613\n",
            "2   19             6545.0                  11    7.409476\n",
            "14  48               20.0                   1    2.324811\n",
            "4   23             6435.0                  11    6.644000\n",
            "16  57              935.0                   2    3.323370\n",
            "7   35             6466.0                  11    3.323370\n",
            "1   17              990.0                  11    3.323370\n",
            "13  47               25.0                   1    2.324811\n",
            "0   15             1000.0                  11    7.055391\n",
            "18  61               10.0                   1    3.323370\n",
            "17  59             6537.0                  11    3.323370\n",
            "9   39             6391.0                  11    3.001802\n",
            "8   37             6399.0                  11    6.066305\n",
            "12  45              945.0                   2    5.781622\n",
            "3      10\n",
            "15    100\n",
            "6      10\n",
            "10     66\n",
            "2     170\n",
            "14      5\n",
            "4     100\n",
            "16     10\n",
            "7      10\n",
            "1      10\n",
            "13      5\n",
            "0     133\n",
            "18     10\n",
            "17     10\n",
            "9       8\n",
            "8      67\n",
            "12     55\n",
            "Name: amount, dtype: int64\n",
            "(17, 4) (17,)\n"
          ],
          "name": "stdout"
        }
      ]
    },
    {
      "cell_type": "markdown",
      "metadata": {
        "id": "tjZxGBRMARBH"
      },
      "source": [
        ""
      ]
    },
    {
      "cell_type": "markdown",
      "metadata": {
        "id": "CO-16Te6AQyk"
      },
      "source": [
        ""
      ]
    },
    {
      "cell_type": "code",
      "metadata": {
        "colab": {
          "base_uri": "https://localhost:8080/",
          "height": 206
        },
        "id": "0tN-986e2TME",
        "outputId": "8b30e0b0-393f-4bed-9af0-1bbeefcb79ed"
      },
      "source": [
        "x.head()"
      ],
      "execution_count": null,
      "outputs": [
        {
          "output_type": "execute_result",
          "data": {
            "text/html": [
              "<div>\n",
              "<style scoped>\n",
              "    .dataframe tbody tr th:only-of-type {\n",
              "        vertical-align: middle;\n",
              "    }\n",
              "\n",
              "    .dataframe tbody tr th {\n",
              "        vertical-align: top;\n",
              "    }\n",
              "\n",
              "    .dataframe thead th {\n",
              "        text-align: right;\n",
              "    }\n",
              "</style>\n",
              "<table border=\"1\" class=\"dataframe\">\n",
              "  <thead>\n",
              "    <tr style=\"text-align: right;\">\n",
              "      <th></th>\n",
              "      <th>id</th>\n",
              "      <th>amount</th>\n",
              "      <th>available_balance</th>\n",
              "      <th>date</th>\n",
              "      <th>description</th>\n",
              "      <th>status</th>\n",
              "      <th>primary_account_id</th>\n",
              "      <th>log_amount</th>\n",
              "    </tr>\n",
              "  </thead>\n",
              "  <tbody>\n",
              "    <tr>\n",
              "      <th>3</th>\n",
              "      <td>21</td>\n",
              "      <td>10</td>\n",
              "      <td>6535.0</td>\n",
              "      <td>2021-05-28 12:15:59</td>\n",
              "      <td>Withdraw from Primary Account</td>\n",
              "      <td>Finished</td>\n",
              "      <td>11</td>\n",
              "      <td>3.323370</td>\n",
              "    </tr>\n",
              "    <tr>\n",
              "      <th>15</th>\n",
              "      <td>49</td>\n",
              "      <td>100</td>\n",
              "      <td>1000.0</td>\n",
              "      <td>2021-06-02 22:55:11</td>\n",
              "      <td>Deposit to Primary Account</td>\n",
              "      <td>Finished</td>\n",
              "      <td>53</td>\n",
              "      <td>6.644000</td>\n",
              "    </tr>\n",
              "    <tr>\n",
              "      <th>6</th>\n",
              "      <td>33</td>\n",
              "      <td>10</td>\n",
              "      <td>6456.0</td>\n",
              "      <td>2021-05-31 18:25:46</td>\n",
              "      <td>Deposit to Primary Account</td>\n",
              "      <td>Finished</td>\n",
              "      <td>11</td>\n",
              "      <td>3.323370</td>\n",
              "    </tr>\n",
              "    <tr>\n",
              "      <th>10</th>\n",
              "      <td>41</td>\n",
              "      <td>66</td>\n",
              "      <td>6547.0</td>\n",
              "      <td>2021-06-02 11:53:59</td>\n",
              "      <td>Transfer to recipient ahmed</td>\n",
              "      <td>Finished</td>\n",
              "      <td>11</td>\n",
              "      <td>6.044613</td>\n",
              "    </tr>\n",
              "    <tr>\n",
              "      <th>2</th>\n",
              "      <td>19</td>\n",
              "      <td>170</td>\n",
              "      <td>6545.0</td>\n",
              "      <td>2021-05-28 12:15:44</td>\n",
              "      <td>Deposit to Primary Account</td>\n",
              "      <td>Finished</td>\n",
              "      <td>11</td>\n",
              "      <td>7.409476</td>\n",
              "    </tr>\n",
              "  </tbody>\n",
              "</table>\n",
              "</div>"
            ],
            "text/plain": [
              "    id  amount  available_balance  ...    status primary_account_id log_amount\n",
              "3   21      10             6535.0  ...  Finished                 11   3.323370\n",
              "15  49     100             1000.0  ...  Finished                 53   6.644000\n",
              "6   33      10             6456.0  ...  Finished                 11   3.323370\n",
              "10  41      66             6547.0  ...  Finished                 11   6.044613\n",
              "2   19     170             6545.0  ...  Finished                 11   7.409476\n",
              "\n",
              "[5 rows x 8 columns]"
            ]
          },
          "metadata": {
            "tags": []
          },
          "execution_count": 278
        }
      ]
    },
    {
      "cell_type": "code",
      "metadata": {
        "id": "cxTNVQdRBESp"
      },
      "source": [
        ""
      ],
      "execution_count": null,
      "outputs": []
    }
  ]
}