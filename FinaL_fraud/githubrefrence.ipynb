{
  "nbformat": 4,
  "nbformat_minor": 0,
  "metadata": {
    "kernelspec": {
      "display_name": "Python 3",
      "language": "python",
      "name": "python3"
    },
    "language_info": {
      "codemirror_mode": {
        "name": "ipython",
        "version": 3
      },
      "file_extension": ".py",
      "mimetype": "text/x-python",
      "name": "python",
      "nbconvert_exporter": "python",
      "pygments_lexer": "ipython3",
      "version": "3.7.4"
    },
    "colab": {
      "name": "credit_card_fraud_detection.ipynb",
      "provenance": []
    }
  },
  "cells": [
    {
      "cell_type": "code",
      "metadata": {
        "id": "vOyoKaIjHgqI"
      },
      "source": [
        "import pandas as pd\n",
        "import seaborn as sns\n",
        "import matplotlib as plt\n",
        "import matplotlib.pyplot as plt\n",
        "from mlxtend.plotting import plot_confusion_matrix\n",
        "import matplotlib.pyplot as plt\n",
        "import numpy as np"
      ],
      "execution_count": 1,
      "outputs": []
    },
    {
      "cell_type": "code",
      "metadata": {
        "id": "eLNKnucjHndG"
      },
      "source": [
        "!pip install -U -q PyDrive"
      ],
      "execution_count": null,
      "outputs": []
    },
    {
      "cell_type": "code",
      "metadata": {
        "id": "akvghpNNHrPv"
      },
      "source": [
        "from pydrive.auth import GoogleAuth\n",
        "from pydrive.drive import GoogleDrive\n",
        "from google.colab import auth\n",
        "from oauth2client.client import GoogleCredentials\n",
        "  \n",
        "  \n",
        "# Authenticate and create the PyDrive client.\n",
        "auth.authenticate_user()\n",
        "gauth = GoogleAuth()\n",
        "gauth.credentials = GoogleCredentials.get_application_default()\n",
        "drive = GoogleDrive(gauth)"
      ],
      "execution_count": 2,
      "outputs": []
    },
    {
      "cell_type": "code",
      "metadata": {
        "id": "8T2CuKWwH6p0"
      },
      "source": [
        "# loading the dataset to a Pandas DataFrame\n",
        "link =  'https://drive.google.com/file/d/1y2g5lIU9bLcDBoafJXD9ORKQoAm4hCqj/view?usp=sharing'\n",
        "\n",
        "import pandas as pd\n",
        "\n",
        "# to get the id part of the file\n",
        "id = link.split(\"/\")[-2]\n",
        "\n",
        "downloaded = drive.CreateFile({'id':id})\n",
        "downloaded.GetContentFile('primary_account(2).csv')\n",
        "\n",
        "data = pd.read_csv('primary_account(2).csv', sep = ',')"
      ],
      "execution_count": 3,
      "outputs": []
    },
    {
      "cell_type": "markdown",
      "metadata": {
        "id": "xsYsM4E6HgqQ"
      },
      "source": [
        "# Exploratory Data Analysis"
      ]
    },
    {
      "cell_type": "code",
      "metadata": {
        "colab": {
          "base_uri": "https://localhost:8080/"
        },
        "id": "QsMShoG8HgqR",
        "outputId": "ff7a62ba-d115-49e8-8c4a-5b98283318fe"
      },
      "source": [
        "data.shape"
      ],
      "execution_count": 4,
      "outputs": [
        {
          "output_type": "execute_result",
          "data": {
            "text/plain": [
              "(19, 5)"
            ]
          },
          "metadata": {
            "tags": []
          },
          "execution_count": 4
        }
      ]
    },
    {
      "cell_type": "code",
      "metadata": {
        "colab": {
          "base_uri": "https://localhost:8080/",
          "height": 0
        },
        "id": "0VdvzgmCHgqU",
        "outputId": "fcea046c-abf3-4d02-a801-f7689ab613a6"
      },
      "source": [
        "data.head(10)"
      ],
      "execution_count": 5,
      "outputs": [
        {
          "output_type": "execute_result",
          "data": {
            "text/html": [
              "<div>\n",
              "<style scoped>\n",
              "    .dataframe tbody tr th:only-of-type {\n",
              "        vertical-align: middle;\n",
              "    }\n",
              "\n",
              "    .dataframe tbody tr th {\n",
              "        vertical-align: top;\n",
              "    }\n",
              "\n",
              "    .dataframe thead th {\n",
              "        text-align: right;\n",
              "    }\n",
              "</style>\n",
              "<table border=\"1\" class=\"dataframe\">\n",
              "  <thead>\n",
              "    <tr style=\"text-align: right;\">\n",
              "      <th></th>\n",
              "      <th>id</th>\n",
              "      <th>amount</th>\n",
              "      <th>available_balance</th>\n",
              "      <th>primary_account_id</th>\n",
              "      <th>Class</th>\n",
              "    </tr>\n",
              "  </thead>\n",
              "  <tbody>\n",
              "    <tr>\n",
              "      <th>0</th>\n",
              "      <td>15</td>\n",
              "      <td>133</td>\n",
              "      <td>1000.0</td>\n",
              "      <td>11</td>\n",
              "      <td>0</td>\n",
              "    </tr>\n",
              "    <tr>\n",
              "      <th>1</th>\n",
              "      <td>17</td>\n",
              "      <td>10</td>\n",
              "      <td>990.0</td>\n",
              "      <td>11</td>\n",
              "      <td>1</td>\n",
              "    </tr>\n",
              "    <tr>\n",
              "      <th>2</th>\n",
              "      <td>19</td>\n",
              "      <td>170</td>\n",
              "      <td>6545.0</td>\n",
              "      <td>11</td>\n",
              "      <td>0</td>\n",
              "    </tr>\n",
              "    <tr>\n",
              "      <th>3</th>\n",
              "      <td>21</td>\n",
              "      <td>10</td>\n",
              "      <td>6535.0</td>\n",
              "      <td>11</td>\n",
              "      <td>1</td>\n",
              "    </tr>\n",
              "    <tr>\n",
              "      <th>4</th>\n",
              "      <td>23</td>\n",
              "      <td>100</td>\n",
              "      <td>6435.0</td>\n",
              "      <td>11</td>\n",
              "      <td>0</td>\n",
              "    </tr>\n",
              "    <tr>\n",
              "      <th>5</th>\n",
              "      <td>28</td>\n",
              "      <td>55</td>\n",
              "      <td>6446.0</td>\n",
              "      <td>11</td>\n",
              "      <td>0</td>\n",
              "    </tr>\n",
              "    <tr>\n",
              "      <th>6</th>\n",
              "      <td>33</td>\n",
              "      <td>10</td>\n",
              "      <td>6456.0</td>\n",
              "      <td>11</td>\n",
              "      <td>0</td>\n",
              "    </tr>\n",
              "    <tr>\n",
              "      <th>7</th>\n",
              "      <td>35</td>\n",
              "      <td>10</td>\n",
              "      <td>6466.0</td>\n",
              "      <td>11</td>\n",
              "      <td>0</td>\n",
              "    </tr>\n",
              "    <tr>\n",
              "      <th>8</th>\n",
              "      <td>37</td>\n",
              "      <td>67</td>\n",
              "      <td>6399.0</td>\n",
              "      <td>11</td>\n",
              "      <td>1</td>\n",
              "    </tr>\n",
              "    <tr>\n",
              "      <th>9</th>\n",
              "      <td>39</td>\n",
              "      <td>8</td>\n",
              "      <td>6391.0</td>\n",
              "      <td>11</td>\n",
              "      <td>0</td>\n",
              "    </tr>\n",
              "  </tbody>\n",
              "</table>\n",
              "</div>"
            ],
            "text/plain": [
              "   id  amount  available_balance  primary_account_id  Class\n",
              "0  15     133             1000.0                  11      0\n",
              "1  17      10              990.0                  11      1\n",
              "2  19     170             6545.0                  11      0\n",
              "3  21      10             6535.0                  11      1\n",
              "4  23     100             6435.0                  11      0\n",
              "5  28      55             6446.0                  11      0\n",
              "6  33      10             6456.0                  11      0\n",
              "7  35      10             6466.0                  11      0\n",
              "8  37      67             6399.0                  11      1\n",
              "9  39       8             6391.0                  11      0"
            ]
          },
          "metadata": {
            "tags": []
          },
          "execution_count": 5
        }
      ]
    },
    {
      "cell_type": "code",
      "metadata": {
        "scrolled": true,
        "colab": {
          "base_uri": "https://localhost:8080/",
          "height": 0
        },
        "id": "wyu9vqSoHgqW",
        "outputId": "eec5b9e3-8fca-49f6-fd2b-2e4e9d79a579"
      },
      "source": [
        "data.describe()"
      ],
      "execution_count": 6,
      "outputs": [
        {
          "output_type": "execute_result",
          "data": {
            "text/html": [
              "<div>\n",
              "<style scoped>\n",
              "    .dataframe tbody tr th:only-of-type {\n",
              "        vertical-align: middle;\n",
              "    }\n",
              "\n",
              "    .dataframe tbody tr th {\n",
              "        vertical-align: top;\n",
              "    }\n",
              "\n",
              "    .dataframe thead th {\n",
              "        text-align: right;\n",
              "    }\n",
              "</style>\n",
              "<table border=\"1\" class=\"dataframe\">\n",
              "  <thead>\n",
              "    <tr style=\"text-align: right;\">\n",
              "      <th></th>\n",
              "      <th>id</th>\n",
              "      <th>amount</th>\n",
              "      <th>available_balance</th>\n",
              "      <th>primary_account_id</th>\n",
              "      <th>Class</th>\n",
              "    </tr>\n",
              "  </thead>\n",
              "  <tbody>\n",
              "    <tr>\n",
              "      <th>count</th>\n",
              "      <td>19.000000</td>\n",
              "      <td>19.000000</td>\n",
              "      <td>19.000000</td>\n",
              "      <td>19.000000</td>\n",
              "      <td>19.000000</td>\n",
              "    </tr>\n",
              "    <tr>\n",
              "      <th>mean</th>\n",
              "      <td>37.736842</td>\n",
              "      <td>49.368421</td>\n",
              "      <td>3720.105263</td>\n",
              "      <td>10.210526</td>\n",
              "      <td>0.210526</td>\n",
              "    </tr>\n",
              "    <tr>\n",
              "      <th>std</th>\n",
              "      <td>14.328845</td>\n",
              "      <td>50.993693</td>\n",
              "      <td>3001.704495</td>\n",
              "      <td>11.291978</td>\n",
              "      <td>0.418854</td>\n",
              "    </tr>\n",
              "    <tr>\n",
              "      <th>min</th>\n",
              "      <td>15.000000</td>\n",
              "      <td>5.000000</td>\n",
              "      <td>10.000000</td>\n",
              "      <td>1.000000</td>\n",
              "      <td>0.000000</td>\n",
              "    </tr>\n",
              "    <tr>\n",
              "      <th>25%</th>\n",
              "      <td>25.500000</td>\n",
              "      <td>10.000000</td>\n",
              "      <td>967.500000</td>\n",
              "      <td>2.000000</td>\n",
              "      <td>0.000000</td>\n",
              "    </tr>\n",
              "    <tr>\n",
              "      <th>50%</th>\n",
              "      <td>39.000000</td>\n",
              "      <td>10.000000</td>\n",
              "      <td>6391.000000</td>\n",
              "      <td>11.000000</td>\n",
              "      <td>0.000000</td>\n",
              "    </tr>\n",
              "    <tr>\n",
              "      <th>75%</th>\n",
              "      <td>47.500000</td>\n",
              "      <td>83.500000</td>\n",
              "      <td>6461.000000</td>\n",
              "      <td>11.000000</td>\n",
              "      <td>0.000000</td>\n",
              "    </tr>\n",
              "    <tr>\n",
              "      <th>max</th>\n",
              "      <td>61.000000</td>\n",
              "      <td>170.000000</td>\n",
              "      <td>6547.000000</td>\n",
              "      <td>53.000000</td>\n",
              "      <td>1.000000</td>\n",
              "    </tr>\n",
              "  </tbody>\n",
              "</table>\n",
              "</div>"
            ],
            "text/plain": [
              "              id      amount  available_balance  primary_account_id      Class\n",
              "count  19.000000   19.000000          19.000000           19.000000  19.000000\n",
              "mean   37.736842   49.368421        3720.105263           10.210526   0.210526\n",
              "std    14.328845   50.993693        3001.704495           11.291978   0.418854\n",
              "min    15.000000    5.000000          10.000000            1.000000   0.000000\n",
              "25%    25.500000   10.000000         967.500000            2.000000   0.000000\n",
              "50%    39.000000   10.000000        6391.000000           11.000000   0.000000\n",
              "75%    47.500000   83.500000        6461.000000           11.000000   0.000000\n",
              "max    61.000000  170.000000        6547.000000           53.000000   1.000000"
            ]
          },
          "metadata": {
            "tags": []
          },
          "execution_count": 6
        }
      ]
    },
    {
      "cell_type": "code",
      "metadata": {
        "id": "iUnx2-z-HgqX"
      },
      "source": [
        "cor1= data.corr() "
      ],
      "execution_count": 7,
      "outputs": []
    },
    {
      "cell_type": "code",
      "metadata": {
        "colab": {
          "base_uri": "https://localhost:8080/",
          "height": 0
        },
        "id": "dqDWFsG3HgqX",
        "outputId": "ba8f1a85-d048-47bf-cc8b-6fb92520837d"
      },
      "source": [
        "f, ax = plt.subplots(figsize =(9, 8)) \n",
        "sns.heatmap(cor1, ax = ax, cmap =\"YlGnBu\", linewidths = 0.1)"
      ],
      "execution_count": 8,
      "outputs": [
        {
          "output_type": "execute_result",
          "data": {
            "text/plain": [
              "<matplotlib.axes._subplots.AxesSubplot at 0x7fc8861330d0>"
            ]
          },
          "metadata": {
            "tags": []
          },
          "execution_count": 8
        },
        {
          "output_type": "display_data",
          "data": {
            "image/png": "[encoded data removed]",
            "text/plain": [
              "<Figure size 648x576 with 2 Axes>"
            ]
          },
          "metadata": {
            "tags": [],
            "needs_background": "light"
          }
        }
      ]
    },
    {
      "cell_type": "markdown",
      "metadata": {
        "id": "wlDpSxd3HgqY"
      },
      "source": [
        "# DATA PREPROCESSING"
      ]
    },
    {
      "cell_type": "code",
      "metadata": {
        "colab": {
          "base_uri": "https://localhost:8080/"
        },
        "id": "xjxgcQATHgqZ",
        "outputId": "e2a02e24-6f52-40a4-f1f0-51ebd1a88076"
      },
      "source": [
        "data.dtypes == object\n",
        "# Checking for Character Data Type"
      ],
      "execution_count": 9,
      "outputs": [
        {
          "output_type": "execute_result",
          "data": {
            "text/plain": [
              "id                    False\n",
              "amount                False\n",
              "available_balance     False\n",
              "primary_account_id    False\n",
              "Class                 False\n",
              "dtype: bool"
            ]
          },
          "metadata": {
            "tags": []
          },
          "execution_count": 9
        }
      ]
    },
    {
      "cell_type": "code",
      "metadata": {
        "colab": {
          "base_uri": "https://localhost:8080/"
        },
        "id": "YbbZjO6LHgqa",
        "outputId": "6229b192-868b-4bd8-b48a-f8066e1da5c4"
      },
      "source": [
        "data.columns"
      ],
      "execution_count": 10,
      "outputs": [
        {
          "output_type": "execute_result",
          "data": {
            "text/plain": [
              "Index(['id', 'amount', 'available_balance', 'primary_account_id', 'Class'], dtype='object')"
            ]
          },
          "metadata": {
            "tags": []
          },
          "execution_count": 10
        }
      ]
    },
    {
      "cell_type": "code",
      "metadata": {
        "colab": {
          "base_uri": "https://localhost:8080/"
        },
        "id": "ROquaJfvHgqc",
        "outputId": "a3b2e4d5-d99c-4252-c527-cb51e14880ea"
      },
      "source": [
        "data.std() \n",
        "#Checking for Variance "
      ],
      "execution_count": 11,
      "outputs": [
        {
          "output_type": "execute_result",
          "data": {
            "text/plain": [
              "id                      14.328845\n",
              "amount                  50.993693\n",
              "available_balance     3001.704495\n",
              "primary_account_id      11.291978\n",
              "Class                    0.418854\n",
              "dtype: float64"
            ]
          },
          "metadata": {
            "tags": []
          },
          "execution_count": 11
        }
      ]
    },
    {
      "cell_type": "code",
      "metadata": {
        "colab": {
          "base_uri": "https://localhost:8080/"
        },
        "id": "_ctEggqlHgqc",
        "outputId": "abb70846-d7f7-40d3-d12d-762591f70cdc"
      },
      "source": [
        "data.isnull().sum()\n",
        "# To check whether the dataset has missing values "
      ],
      "execution_count": 12,
      "outputs": [
        {
          "output_type": "execute_result",
          "data": {
            "text/plain": [
              "id                    0\n",
              "amount                0\n",
              "available_balance     0\n",
              "primary_account_id    0\n",
              "Class                 0\n",
              "dtype: int64"
            ]
          },
          "metadata": {
            "tags": []
          },
          "execution_count": 12
        }
      ]
    },
    {
      "cell_type": "code",
      "metadata": {
        "colab": {
          "base_uri": "https://localhost:8080/"
        },
        "id": "Sric-KnPHgqd",
        "outputId": "b0d47e56-f635-47af-e153-122ce4439dd3"
      },
      "source": [
        "data[\"Class\"].value_counts()"
      ],
      "execution_count": 13,
      "outputs": [
        {
          "output_type": "execute_result",
          "data": {
            "text/plain": [
              "0    15\n",
              "1     4\n",
              "Name: Class, dtype: int64"
            ]
          },
          "metadata": {
            "tags": []
          },
          "execution_count": 13
        }
      ]
    },
    {
      "cell_type": "code",
      "metadata": {
        "colab": {
          "base_uri": "https://localhost:8080/",
          "height": 297
        },
        "id": "m-LgEMhTHgqd",
        "outputId": "def4c0e3-98cd-4a53-d463-dbb7267acaf4"
      },
      "source": [
        "sns.countplot(x= \"Class\", data = data, color = \"red\")\n",
        "#checking for imbalance on the dependent Variable "
      ],
      "execution_count": 14,
      "outputs": [
        {
          "output_type": "execute_result",
          "data": {
            "text/plain": [
              "<matplotlib.axes._subplots.AxesSubplot at 0x7fc8861c4d90>"
            ]
          },
          "metadata": {
            "tags": []
          },
          "execution_count": 14
        },
        {
          "output_type": "display_data",
          "data": {
            "image/png": "[encoded data removed]",
            "text/plain": [
              "<Figure size 432x288 with 1 Axes>"
            ]
          },
          "metadata": {
            "tags": [],
            "needs_background": "light"
          }
        }
      ]
    },
    {
      "cell_type": "code",
      "metadata": {
        "id": "c8ArTPFVHgqe",
        "colab": {
          "base_uri": "https://localhost:8080/",
          "height": 600
        },
        "outputId": "259eaba8-de3f-431e-8f22-07036ea9338d"
      },
      "source": [
        "sns.distplot(data[\"Time\"], bins = 20, color = \"purple\")\n",
        "sns.set(style = \"darkgrid\")"
      ],
      "execution_count": 15,
      "outputs": [
        {
          "output_type": "error",
          "ename": "KeyError",
          "evalue": "ignored",
          "traceback": [
            "\u001b[0;31m---------------------------------------------------------------------------\u001b[0m",
            "\u001b[0;31mKeyError\u001b[0m                                  Traceback (most recent call last)",
            "\u001b[0;32m/usr/local/lib/python3.7/dist-packages/pandas/core/indexes/base.py\u001b[0m in \u001b[0;36mget_loc\u001b[0;34m(self, key, method, tolerance)\u001b[0m\n\u001b[1;32m   2897\u001b[0m             \u001b[0;32mtry\u001b[0m\u001b[0;34m:\u001b[0m\u001b[0;34m\u001b[0m\u001b[0;34m\u001b[0m\u001b[0m\n\u001b[0;32m-> 2898\u001b[0;31m                 \u001b[0;32mreturn\u001b[0m \u001b[0mself\u001b[0m\u001b[0;34m.\u001b[0m\u001b[0m_engine\u001b[0m\u001b[0;34m.\u001b[0m\u001b[0mget_loc\u001b[0m\u001b[0;34m(\u001b[0m\u001b[0mcasted_key\u001b[0m\u001b[0;34m)\u001b[0m\u001b[0;34m\u001b[0m\u001b[0;34m\u001b[0m\u001b[0m\n\u001b[0m\u001b[1;32m   2899\u001b[0m             \u001b[0;32mexcept\u001b[0m \u001b[0mKeyError\u001b[0m \u001b[0;32mas\u001b[0m \u001b[0merr\u001b[0m\u001b[0;34m:\u001b[0m\u001b[0;34m\u001b[0m\u001b[0;34m\u001b[0m\u001b[0m\n",
            "\u001b[0;32mpandas/_libs/index.pyx\u001b[0m in \u001b[0;36mpandas._libs.index.IndexEngine.get_loc\u001b[0;34m()\u001b[0m\n",
            "\u001b[0;32mpandas/_libs/index.pyx\u001b[0m in \u001b[0;36mpandas._libs.index.IndexEngine.get_loc\u001b[0;34m()\u001b[0m\n",
            "\u001b[0;32mpandas/_libs/hashtable_class_helper.pxi\u001b[0m in \u001b[0;36mpandas._libs.hashtable.PyObjectHashTable.get_item\u001b[0;34m()\u001b[0m\n",
            "\u001b[0;32mpandas/_libs/hashtable_class_helper.pxi\u001b[0m in \u001b[0;36mpandas._libs.hashtable.PyObjectHashTable.get_item\u001b[0;34m()\u001b[0m\n",
            "\u001b[0;31mKeyError\u001b[0m: 'Time'",
            "\nThe above exception was the direct cause of the following exception:\n",
            "\u001b[0;31mKeyError\u001b[0m                                  Traceback (most recent call last)",
            "\u001b[0;32m<ipython-input-15-5328e3e03b43>\u001b[0m in \u001b[0;36m<module>\u001b[0;34m()\u001b[0m\n\u001b[0;32m----> 1\u001b[0;31m \u001b[0msns\u001b[0m\u001b[0;34m.\u001b[0m\u001b[0mdistplot\u001b[0m\u001b[0;34m(\u001b[0m\u001b[0mdata\u001b[0m\u001b[0;34m[\u001b[0m\u001b[0;34m\"Time\"\u001b[0m\u001b[0;34m]\u001b[0m\u001b[0;34m,\u001b[0m \u001b[0mbins\u001b[0m \u001b[0;34m=\u001b[0m \u001b[0;36m20\u001b[0m\u001b[0;34m,\u001b[0m \u001b[0mcolor\u001b[0m \u001b[0;34m=\u001b[0m \u001b[0;34m\"purple\"\u001b[0m\u001b[0;34m)\u001b[0m\u001b[0;34m\u001b[0m\u001b[0;34m\u001b[0m\u001b[0m\n\u001b[0m\u001b[1;32m      2\u001b[0m \u001b[0msns\u001b[0m\u001b[0;34m.\u001b[0m\u001b[0mset\u001b[0m\u001b[0;34m(\u001b[0m\u001b[0mstyle\u001b[0m \u001b[0;34m=\u001b[0m \u001b[0;34m\"darkgrid\"\u001b[0m\u001b[0;34m)\u001b[0m\u001b[0;34m\u001b[0m\u001b[0;34m\u001b[0m\u001b[0m\n",
            "\u001b[0;32m/usr/local/lib/python3.7/dist-packages/pandas/core/frame.py\u001b[0m in \u001b[0;36m__getitem__\u001b[0;34m(self, key)\u001b[0m\n\u001b[1;32m   2904\u001b[0m             \u001b[0;32mif\u001b[0m \u001b[0mself\u001b[0m\u001b[0;34m.\u001b[0m\u001b[0mcolumns\u001b[0m\u001b[0;34m.\u001b[0m\u001b[0mnlevels\u001b[0m \u001b[0;34m>\u001b[0m \u001b[0;36m1\u001b[0m\u001b[0;34m:\u001b[0m\u001b[0;34m\u001b[0m\u001b[0;34m\u001b[0m\u001b[0m\n\u001b[1;32m   2905\u001b[0m                 \u001b[0;32mreturn\u001b[0m \u001b[0mself\u001b[0m\u001b[0;34m.\u001b[0m\u001b[0m_getitem_multilevel\u001b[0m\u001b[0;34m(\u001b[0m\u001b[0mkey\u001b[0m\u001b[0;34m)\u001b[0m\u001b[0;34m\u001b[0m\u001b[0;34m\u001b[0m\u001b[0m\n\u001b[0;32m-> 2906\u001b[0;31m             \u001b[0mindexer\u001b[0m \u001b[0;34m=\u001b[0m \u001b[0mself\u001b[0m\u001b[0;34m.\u001b[0m\u001b[0mcolumns\u001b[0m\u001b[0;34m.\u001b[0m\u001b[0mget_loc\u001b[0m\u001b[0;34m(\u001b[0m\u001b[0mkey\u001b[0m\u001b[0;34m)\u001b[0m\u001b[0;34m\u001b[0m\u001b[0;34m\u001b[0m\u001b[0m\n\u001b[0m\u001b[1;32m   2907\u001b[0m             \u001b[0;32mif\u001b[0m \u001b[0mis_integer\u001b[0m\u001b[0;34m(\u001b[0m\u001b[0mindexer\u001b[0m\u001b[0;34m)\u001b[0m\u001b[0;34m:\u001b[0m\u001b[0;34m\u001b[0m\u001b[0;34m\u001b[0m\u001b[0m\n\u001b[1;32m   2908\u001b[0m                 \u001b[0mindexer\u001b[0m \u001b[0;34m=\u001b[0m \u001b[0;34m[\u001b[0m\u001b[0mindexer\u001b[0m\u001b[0;34m]\u001b[0m\u001b[0;34m\u001b[0m\u001b[0;34m\u001b[0m\u001b[0m\n",
            "\u001b[0;32m/usr/local/lib/python3.7/dist-packages/pandas/core/indexes/base.py\u001b[0m in \u001b[0;36mget_loc\u001b[0;34m(self, key, method, tolerance)\u001b[0m\n\u001b[1;32m   2898\u001b[0m                 \u001b[0;32mreturn\u001b[0m \u001b[0mself\u001b[0m\u001b[0;34m.\u001b[0m\u001b[0m_engine\u001b[0m\u001b[0;34m.\u001b[0m\u001b[0mget_loc\u001b[0m\u001b[0;34m(\u001b[0m\u001b[0mcasted_key\u001b[0m\u001b[0;34m)\u001b[0m\u001b[0;34m\u001b[0m\u001b[0;34m\u001b[0m\u001b[0m\n\u001b[1;32m   2899\u001b[0m             \u001b[0;32mexcept\u001b[0m \u001b[0mKeyError\u001b[0m \u001b[0;32mas\u001b[0m \u001b[0merr\u001b[0m\u001b[0;34m:\u001b[0m\u001b[0;34m\u001b[0m\u001b[0;34m\u001b[0m\u001b[0m\n\u001b[0;32m-> 2900\u001b[0;31m                 \u001b[0;32mraise\u001b[0m \u001b[0mKeyError\u001b[0m\u001b[0;34m(\u001b[0m\u001b[0mkey\u001b[0m\u001b[0;34m)\u001b[0m \u001b[0;32mfrom\u001b[0m \u001b[0merr\u001b[0m\u001b[0;34m\u001b[0m\u001b[0;34m\u001b[0m\u001b[0m\n\u001b[0m\u001b[1;32m   2901\u001b[0m \u001b[0;34m\u001b[0m\u001b[0m\n\u001b[1;32m   2902\u001b[0m         \u001b[0;32mif\u001b[0m \u001b[0mtolerance\u001b[0m \u001b[0;32mis\u001b[0m \u001b[0;32mnot\u001b[0m \u001b[0;32mNone\u001b[0m\u001b[0;34m:\u001b[0m\u001b[0;34m\u001b[0m\u001b[0;34m\u001b[0m\u001b[0m\n",
            "\u001b[0;31mKeyError\u001b[0m: 'Time'"
          ]
        }
      ]
    },
    {
      "cell_type": "code",
      "metadata": {
        "id": "M6hmffvCHgqf"
      },
      "source": [
        "sns.distplot(data[\"amount\"], bins = 20 , color = \"yellow\")\n",
        "sns.set(style = \"white\")"
      ],
      "execution_count": null,
      "outputs": []
    },
    {
      "cell_type": "markdown",
      "metadata": {
        "id": "l9GgS_WSHgqf"
      },
      "source": [
        "# Standardization of Continuous Variables "
      ]
    },
    {
      "cell_type": "code",
      "metadata": {
        "id": "l-QvuKluHgqg"
      },
      "source": [
        "from sklearn import preprocessing \n",
        "# Scaling the numerical Values as they are in different scales"
      ],
      "execution_count": 16,
      "outputs": []
    },
    {
      "cell_type": "code",
      "metadata": {
        "id": "d6yvFvLOHgqg",
        "colab": {
          "base_uri": "https://localhost:8080/",
          "height": 325
        },
        "outputId": "11b2a0f8-3740-4280-f1fa-398aba1ffe6a"
      },
      "source": [
        "numerical_val = list(set(data[[\"Time\",\"Amount\"]]))"
      ],
      "execution_count": 17,
      "outputs": [
        {
          "output_type": "error",
          "ename": "KeyError",
          "evalue": "ignored",
          "traceback": [
            "\u001b[0;31m---------------------------------------------------------------------------\u001b[0m",
            "\u001b[0;31mKeyError\u001b[0m                                  Traceback (most recent call last)",
            "\u001b[0;32m<ipython-input-17-dda2c78faaf8>\u001b[0m in \u001b[0;36m<module>\u001b[0;34m()\u001b[0m\n\u001b[0;32m----> 1\u001b[0;31m \u001b[0mnumerical_val\u001b[0m \u001b[0;34m=\u001b[0m \u001b[0mlist\u001b[0m\u001b[0;34m(\u001b[0m\u001b[0mset\u001b[0m\u001b[0;34m(\u001b[0m\u001b[0mdata\u001b[0m\u001b[0;34m[\u001b[0m\u001b[0;34m[\u001b[0m\u001b[0;34m\"Time\"\u001b[0m\u001b[0;34m,\u001b[0m\u001b[0;34m\"Amount\"\u001b[0m\u001b[0;34m]\u001b[0m\u001b[0;34m]\u001b[0m\u001b[0;34m)\u001b[0m\u001b[0;34m)\u001b[0m\u001b[0;34m\u001b[0m\u001b[0;34m\u001b[0m\u001b[0m\n\u001b[0m",
            "\u001b[0;32m/usr/local/lib/python3.7/dist-packages/pandas/core/frame.py\u001b[0m in \u001b[0;36m__getitem__\u001b[0;34m(self, key)\u001b[0m\n\u001b[1;32m   2910\u001b[0m             \u001b[0;32mif\u001b[0m \u001b[0mis_iterator\u001b[0m\u001b[0;34m(\u001b[0m\u001b[0mkey\u001b[0m\u001b[0;34m)\u001b[0m\u001b[0;34m:\u001b[0m\u001b[0;34m\u001b[0m\u001b[0;34m\u001b[0m\u001b[0m\n\u001b[1;32m   2911\u001b[0m                 \u001b[0mkey\u001b[0m \u001b[0;34m=\u001b[0m \u001b[0mlist\u001b[0m\u001b[0;34m(\u001b[0m\u001b[0mkey\u001b[0m\u001b[0;34m)\u001b[0m\u001b[0;34m\u001b[0m\u001b[0;34m\u001b[0m\u001b[0m\n\u001b[0;32m-> 2912\u001b[0;31m             \u001b[0mindexer\u001b[0m \u001b[0;34m=\u001b[0m \u001b[0mself\u001b[0m\u001b[0;34m.\u001b[0m\u001b[0mloc\u001b[0m\u001b[0;34m.\u001b[0m\u001b[0m_get_listlike_indexer\u001b[0m\u001b[0;34m(\u001b[0m\u001b[0mkey\u001b[0m\u001b[0;34m,\u001b[0m \u001b[0maxis\u001b[0m\u001b[0;34m=\u001b[0m\u001b[0;36m1\u001b[0m\u001b[0;34m,\u001b[0m \u001b[0mraise_missing\u001b[0m\u001b[0;34m=\u001b[0m\u001b[0;32mTrue\u001b[0m\u001b[0;34m)\u001b[0m\u001b[0;34m[\u001b[0m\u001b[0;36m1\u001b[0m\u001b[0;34m]\u001b[0m\u001b[0;34m\u001b[0m\u001b[0;34m\u001b[0m\u001b[0m\n\u001b[0m\u001b[1;32m   2913\u001b[0m \u001b[0;34m\u001b[0m\u001b[0m\n\u001b[1;32m   2914\u001b[0m         \u001b[0;31m# take() does not accept boolean indexers\u001b[0m\u001b[0;34m\u001b[0m\u001b[0;34m\u001b[0m\u001b[0;34m\u001b[0m\u001b[0m\n",
            "\u001b[0;32m/usr/local/lib/python3.7/dist-packages/pandas/core/indexing.py\u001b[0m in \u001b[0;36m_get_listlike_indexer\u001b[0;34m(self, key, axis, raise_missing)\u001b[0m\n\u001b[1;32m   1252\u001b[0m             \u001b[0mkeyarr\u001b[0m\u001b[0;34m,\u001b[0m \u001b[0mindexer\u001b[0m\u001b[0;34m,\u001b[0m \u001b[0mnew_indexer\u001b[0m \u001b[0;34m=\u001b[0m \u001b[0max\u001b[0m\u001b[0;34m.\u001b[0m\u001b[0m_reindex_non_unique\u001b[0m\u001b[0;34m(\u001b[0m\u001b[0mkeyarr\u001b[0m\u001b[0;34m)\u001b[0m\u001b[0;34m\u001b[0m\u001b[0;34m\u001b[0m\u001b[0m\n\u001b[1;32m   1253\u001b[0m \u001b[0;34m\u001b[0m\u001b[0m\n\u001b[0;32m-> 1254\u001b[0;31m         \u001b[0mself\u001b[0m\u001b[0;34m.\u001b[0m\u001b[0m_validate_read_indexer\u001b[0m\u001b[0;34m(\u001b[0m\u001b[0mkeyarr\u001b[0m\u001b[0;34m,\u001b[0m \u001b[0mindexer\u001b[0m\u001b[0;34m,\u001b[0m \u001b[0maxis\u001b[0m\u001b[0;34m,\u001b[0m \u001b[0mraise_missing\u001b[0m\u001b[0;34m=\u001b[0m\u001b[0mraise_missing\u001b[0m\u001b[0;34m)\u001b[0m\u001b[0;34m\u001b[0m\u001b[0;34m\u001b[0m\u001b[0m\n\u001b[0m\u001b[1;32m   1255\u001b[0m         \u001b[0;32mreturn\u001b[0m \u001b[0mkeyarr\u001b[0m\u001b[0;34m,\u001b[0m \u001b[0mindexer\u001b[0m\u001b[0;34m\u001b[0m\u001b[0;34m\u001b[0m\u001b[0m\n\u001b[1;32m   1256\u001b[0m \u001b[0;34m\u001b[0m\u001b[0m\n",
            "\u001b[0;32m/usr/local/lib/python3.7/dist-packages/pandas/core/indexing.py\u001b[0m in \u001b[0;36m_validate_read_indexer\u001b[0;34m(self, key, indexer, axis, raise_missing)\u001b[0m\n\u001b[1;32m   1296\u001b[0m             \u001b[0;32mif\u001b[0m \u001b[0mmissing\u001b[0m \u001b[0;34m==\u001b[0m \u001b[0mlen\u001b[0m\u001b[0;34m(\u001b[0m\u001b[0mindexer\u001b[0m\u001b[0;34m)\u001b[0m\u001b[0;34m:\u001b[0m\u001b[0;34m\u001b[0m\u001b[0;34m\u001b[0m\u001b[0m\n\u001b[1;32m   1297\u001b[0m                 \u001b[0maxis_name\u001b[0m \u001b[0;34m=\u001b[0m \u001b[0mself\u001b[0m\u001b[0;34m.\u001b[0m\u001b[0mobj\u001b[0m\u001b[0;34m.\u001b[0m\u001b[0m_get_axis_name\u001b[0m\u001b[0;34m(\u001b[0m\u001b[0maxis\u001b[0m\u001b[0;34m)\u001b[0m\u001b[0;34m\u001b[0m\u001b[0;34m\u001b[0m\u001b[0m\n\u001b[0;32m-> 1298\u001b[0;31m                 \u001b[0;32mraise\u001b[0m \u001b[0mKeyError\u001b[0m\u001b[0;34m(\u001b[0m\u001b[0;34mf\"None of [{key}] are in the [{axis_name}]\"\u001b[0m\u001b[0;34m)\u001b[0m\u001b[0;34m\u001b[0m\u001b[0;34m\u001b[0m\u001b[0m\n\u001b[0m\u001b[1;32m   1299\u001b[0m \u001b[0;34m\u001b[0m\u001b[0m\n\u001b[1;32m   1300\u001b[0m             \u001b[0;31m# We (temporarily) allow for some missing keys with .loc, except in\u001b[0m\u001b[0;34m\u001b[0m\u001b[0;34m\u001b[0m\u001b[0;34m\u001b[0m\u001b[0m\n",
            "\u001b[0;31mKeyError\u001b[0m: \"None of [Index(['Time', 'Amount'], dtype='object')] are in the [columns]\""
          ]
        }
      ]
    },
    {
      "cell_type": "code",
      "metadata": {
        "id": "uYy7DzD_Hgqg",
        "colab": {
          "base_uri": "https://localhost:8080/",
          "height": 172
        },
        "outputId": "92841ff8-667f-440a-f34f-556a63b85f1c"
      },
      "source": [
        "new_col = [i+ \"_ Standardized\" for i in numerical_val]"
      ],
      "execution_count": 18,
      "outputs": [
        {
          "output_type": "error",
          "ename": "NameError",
          "evalue": "ignored",
          "traceback": [
            "\u001b[0;31m---------------------------------------------------------------------------\u001b[0m",
            "\u001b[0;31mNameError\u001b[0m                                 Traceback (most recent call last)",
            "\u001b[0;32m<ipython-input-18-4486c1b9dc5c>\u001b[0m in \u001b[0;36m<module>\u001b[0;34m()\u001b[0m\n\u001b[0;32m----> 1\u001b[0;31m \u001b[0mnew_col\u001b[0m \u001b[0;34m=\u001b[0m \u001b[0;34m[\u001b[0m\u001b[0mi\u001b[0m\u001b[0;34m+\u001b[0m \u001b[0;34m\"_ Standardized\"\u001b[0m \u001b[0;32mfor\u001b[0m \u001b[0mi\u001b[0m \u001b[0;32min\u001b[0m \u001b[0mnumerical_val\u001b[0m\u001b[0;34m]\u001b[0m\u001b[0;34m\u001b[0m\u001b[0;34m\u001b[0m\u001b[0m\n\u001b[0m",
            "\u001b[0;31mNameError\u001b[0m: name 'numerical_val' is not defined"
          ]
        }
      ]
    },
    {
      "cell_type": "code",
      "metadata": {
        "id": "iisJbIBnHgqg",
        "colab": {
          "base_uri": "https://localhost:8080/",
          "height": 172
        },
        "outputId": "0615f581-5ca7-4dad-879f-1d964446ca07"
      },
      "source": [
        "array = data[numerical_val].values"
      ],
      "execution_count": 19,
      "outputs": [
        {
          "output_type": "error",
          "ename": "NameError",
          "evalue": "ignored",
          "traceback": [
            "\u001b[0;31m---------------------------------------------------------------------------\u001b[0m",
            "\u001b[0;31mNameError\u001b[0m                                 Traceback (most recent call last)",
            "\u001b[0;32m<ipython-input-19-7781e09860cb>\u001b[0m in \u001b[0;36m<module>\u001b[0;34m()\u001b[0m\n\u001b[0;32m----> 1\u001b[0;31m \u001b[0marray\u001b[0m \u001b[0;34m=\u001b[0m \u001b[0mdata\u001b[0m\u001b[0;34m[\u001b[0m\u001b[0mnumerical_val\u001b[0m\u001b[0;34m]\u001b[0m\u001b[0;34m.\u001b[0m\u001b[0mvalues\u001b[0m\u001b[0;34m\u001b[0m\u001b[0;34m\u001b[0m\u001b[0m\n\u001b[0m",
            "\u001b[0;31mNameError\u001b[0m: name 'numerical_val' is not defined"
          ]
        }
      ]
    },
    {
      "cell_type": "code",
      "metadata": {
        "id": "TypfSaV8Hgqh"
      },
      "source": [
        "data_scaler = preprocessing.StandardScaler().fit(array)"
      ],
      "execution_count": null,
      "outputs": []
    },
    {
      "cell_type": "code",
      "metadata": {
        "id": "BETGLerzHgqh"
      },
      "source": [
        "data[new_col] = pd.DataFrame(data_scaler.transform(array))"
      ],
      "execution_count": null,
      "outputs": []
    },
    {
      "cell_type": "code",
      "metadata": {
        "id": "i7K3VZzmHgqh"
      },
      "source": [
        "data.columns # New standardized columns are added "
      ],
      "execution_count": null,
      "outputs": []
    },
    {
      "cell_type": "code",
      "metadata": {
        "id": "vBuuNxdpHgqi"
      },
      "source": [
        "data = data.drop(numerical_val, axis =1) "
      ],
      "execution_count": null,
      "outputs": []
    },
    {
      "cell_type": "code",
      "metadata": {
        "id": "sD2fh5CmHgqi"
      },
      "source": [
        "data.mean()"
      ],
      "execution_count": null,
      "outputs": []
    },
    {
      "cell_type": "code",
      "metadata": {
        "id": "jraKJscuHgqj"
      },
      "source": [
        "round(3.202236e-16) #Mean of the new standardised variable should be zero"
      ],
      "execution_count": null,
      "outputs": []
    },
    {
      "cell_type": "code",
      "metadata": {
        "id": "WzaFzNScHgqk"
      },
      "source": [
        "round(-1.050379e-14)"
      ],
      "execution_count": null,
      "outputs": []
    },
    {
      "cell_type": "code",
      "metadata": {
        "id": "2_1ZA3yXHgqk"
      },
      "source": [
        "data[\"Amount_ Standardized\"].std()"
      ],
      "execution_count": null,
      "outputs": []
    },
    {
      "cell_type": "code",
      "metadata": {
        "id": "xdbOUh7KHgql"
      },
      "source": [
        "data[\"Time_ Standardized\"].std()"
      ],
      "execution_count": null,
      "outputs": []
    },
    {
      "cell_type": "code",
      "metadata": {
        "id": "BHm5aKeNHgql"
      },
      "source": [
        "# Splitting up the data Randomly "
      ],
      "execution_count": null,
      "outputs": []
    },
    {
      "cell_type": "code",
      "metadata": {
        "id": "iJpCucEbHgql"
      },
      "source": [
        "from sklearn.model_selection import train_test_split\n",
        "input_vari = list(set(data.columns)- set([\"Class\"]))\n",
        "X = data[input_vari]\n",
        "Y = data[\"Class\"]"
      ],
      "execution_count": 21,
      "outputs": []
    },
    {
      "cell_type": "code",
      "metadata": {
        "colab": {
          "base_uri": "https://localhost:8080/",
          "height": 645
        },
        "id": "xcBUKxD1Hgqm",
        "outputId": "6cd1ae38-bb12-4785-b1bd-2bb55219c00c"
      },
      "source": [
        "X"
      ],
      "execution_count": 22,
      "outputs": [
        {
          "output_type": "execute_result",
          "data": {
            "text/html": [
              "<div>\n",
              "<style scoped>\n",
              "    .dataframe tbody tr th:only-of-type {\n",
              "        vertical-align: middle;\n",
              "    }\n",
              "\n",
              "    .dataframe tbody tr th {\n",
              "        vertical-align: top;\n",
              "    }\n",
              "\n",
              "    .dataframe thead th {\n",
              "        text-align: right;\n",
              "    }\n",
              "</style>\n",
              "<table border=\"1\" class=\"dataframe\">\n",
              "  <thead>\n",
              "    <tr style=\"text-align: right;\">\n",
              "      <th></th>\n",
              "      <th>amount</th>\n",
              "      <th>primary_account_id</th>\n",
              "      <th>id</th>\n",
              "      <th>available_balance</th>\n",
              "    </tr>\n",
              "  </thead>\n",
              "  <tbody>\n",
              "    <tr>\n",
              "      <th>0</th>\n",
              "      <td>133</td>\n",
              "      <td>11</td>\n",
              "      <td>15</td>\n",
              "      <td>1000.0</td>\n",
              "    </tr>\n",
              "    <tr>\n",
              "      <th>1</th>\n",
              "      <td>10</td>\n",
              "      <td>11</td>\n",
              "      <td>17</td>\n",
              "      <td>990.0</td>\n",
              "    </tr>\n",
              "    <tr>\n",
              "      <th>2</th>\n",
              "      <td>170</td>\n",
              "      <td>11</td>\n",
              "      <td>19</td>\n",
              "      <td>6545.0</td>\n",
              "    </tr>\n",
              "    <tr>\n",
              "      <th>3</th>\n",
              "      <td>10</td>\n",
              "      <td>11</td>\n",
              "      <td>21</td>\n",
              "      <td>6535.0</td>\n",
              "    </tr>\n",
              "    <tr>\n",
              "      <th>4</th>\n",
              "      <td>100</td>\n",
              "      <td>11</td>\n",
              "      <td>23</td>\n",
              "      <td>6435.0</td>\n",
              "    </tr>\n",
              "    <tr>\n",
              "      <th>5</th>\n",
              "      <td>55</td>\n",
              "      <td>11</td>\n",
              "      <td>28</td>\n",
              "      <td>6446.0</td>\n",
              "    </tr>\n",
              "    <tr>\n",
              "      <th>6</th>\n",
              "      <td>10</td>\n",
              "      <td>11</td>\n",
              "      <td>33</td>\n",
              "      <td>6456.0</td>\n",
              "    </tr>\n",
              "    <tr>\n",
              "      <th>7</th>\n",
              "      <td>10</td>\n",
              "      <td>11</td>\n",
              "      <td>35</td>\n",
              "      <td>6466.0</td>\n",
              "    </tr>\n",
              "    <tr>\n",
              "      <th>8</th>\n",
              "      <td>67</td>\n",
              "      <td>11</td>\n",
              "      <td>37</td>\n",
              "      <td>6399.0</td>\n",
              "    </tr>\n",
              "    <tr>\n",
              "      <th>9</th>\n",
              "      <td>8</td>\n",
              "      <td>11</td>\n",
              "      <td>39</td>\n",
              "      <td>6391.0</td>\n",
              "    </tr>\n",
              "    <tr>\n",
              "      <th>10</th>\n",
              "      <td>66</td>\n",
              "      <td>11</td>\n",
              "      <td>41</td>\n",
              "      <td>6547.0</td>\n",
              "    </tr>\n",
              "    <tr>\n",
              "      <th>11</th>\n",
              "      <td>104</td>\n",
              "      <td>2</td>\n",
              "      <td>43</td>\n",
              "      <td>1000.0</td>\n",
              "    </tr>\n",
              "    <tr>\n",
              "      <th>12</th>\n",
              "      <td>55</td>\n",
              "      <td>2</td>\n",
              "      <td>45</td>\n",
              "      <td>945.0</td>\n",
              "    </tr>\n",
              "    <tr>\n",
              "      <th>13</th>\n",
              "      <td>5</td>\n",
              "      <td>1</td>\n",
              "      <td>47</td>\n",
              "      <td>25.0</td>\n",
              "    </tr>\n",
              "    <tr>\n",
              "      <th>14</th>\n",
              "      <td>5</td>\n",
              "      <td>1</td>\n",
              "      <td>48</td>\n",
              "      <td>20.0</td>\n",
              "    </tr>\n",
              "    <tr>\n",
              "      <th>15</th>\n",
              "      <td>100</td>\n",
              "      <td>53</td>\n",
              "      <td>49</td>\n",
              "      <td>1000.0</td>\n",
              "    </tr>\n",
              "    <tr>\n",
              "      <th>16</th>\n",
              "      <td>10</td>\n",
              "      <td>2</td>\n",
              "      <td>57</td>\n",
              "      <td>935.0</td>\n",
              "    </tr>\n",
              "    <tr>\n",
              "      <th>17</th>\n",
              "      <td>10</td>\n",
              "      <td>11</td>\n",
              "      <td>59</td>\n",
              "      <td>6537.0</td>\n",
              "    </tr>\n",
              "    <tr>\n",
              "      <th>18</th>\n",
              "      <td>10</td>\n",
              "      <td>1</td>\n",
              "      <td>61</td>\n",
              "      <td>10.0</td>\n",
              "    </tr>\n",
              "  </tbody>\n",
              "</table>\n",
              "</div>"
            ],
            "text/plain": [
              "    amount  primary_account_id  id  available_balance\n",
              "0      133                  11  15             1000.0\n",
              "1       10                  11  17              990.0\n",
              "2      170                  11  19             6545.0\n",
              "3       10                  11  21             6535.0\n",
              "4      100                  11  23             6435.0\n",
              "5       55                  11  28             6446.0\n",
              "6       10                  11  33             6456.0\n",
              "7       10                  11  35             6466.0\n",
              "8       67                  11  37             6399.0\n",
              "9        8                  11  39             6391.0\n",
              "10      66                  11  41             6547.0\n",
              "11     104                   2  43             1000.0\n",
              "12      55                   2  45              945.0\n",
              "13       5                   1  47               25.0\n",
              "14       5                   1  48               20.0\n",
              "15     100                  53  49             1000.0\n",
              "16      10                   2  57              935.0\n",
              "17      10                  11  59             6537.0\n",
              "18      10                   1  61               10.0"
            ]
          },
          "metadata": {
            "tags": []
          },
          "execution_count": 22
        }
      ]
    },
    {
      "cell_type": "code",
      "metadata": {
        "colab": {
          "base_uri": "https://localhost:8080/"
        },
        "id": "0gUN4tizHgqn",
        "outputId": "54c384d4-86dd-4753-bc1c-aca6c5789832"
      },
      "source": [
        "Y"
      ],
      "execution_count": 23,
      "outputs": [
        {
          "output_type": "execute_result",
          "data": {
            "text/plain": [
              "0     0\n",
              "1     1\n",
              "2     0\n",
              "3     1\n",
              "4     0\n",
              "5     0\n",
              "6     0\n",
              "7     0\n",
              "8     1\n",
              "9     0\n",
              "10    0\n",
              "11    0\n",
              "12    0\n",
              "13    0\n",
              "14    1\n",
              "15    0\n",
              "16    0\n",
              "17    0\n",
              "18    0\n",
              "Name: Class, dtype: int64"
            ]
          },
          "metadata": {
            "tags": []
          },
          "execution_count": 23
        }
      ]
    },
    {
      "cell_type": "code",
      "metadata": {
        "id": "F1AaQLFKHgqn"
      },
      "source": [
        "X_train, X_test, Y_train, Y_test = train_test_split(X, Y, test_size = 0.3, random_state = 60)"
      ],
      "execution_count": 25,
      "outputs": []
    },
    {
      "cell_type": "code",
      "metadata": {
        "colab": {
          "base_uri": "https://localhost:8080/",
          "height": 457
        },
        "id": "5bLkhNcWHgqn",
        "outputId": "e5054508-4640-4858-aec5-73081a2766ea"
      },
      "source": [
        "X_train"
      ],
      "execution_count": 26,
      "outputs": [
        {
          "output_type": "execute_result",
          "data": {
            "text/html": [
              "<div>\n",
              "<style scoped>\n",
              "    .dataframe tbody tr th:only-of-type {\n",
              "        vertical-align: middle;\n",
              "    }\n",
              "\n",
              "    .dataframe tbody tr th {\n",
              "        vertical-align: top;\n",
              "    }\n",
              "\n",
              "    .dataframe thead th {\n",
              "        text-align: right;\n",
              "    }\n",
              "</style>\n",
              "<table border=\"1\" class=\"dataframe\">\n",
              "  <thead>\n",
              "    <tr style=\"text-align: right;\">\n",
              "      <th></th>\n",
              "      <th>amount</th>\n",
              "      <th>primary_account_id</th>\n",
              "      <th>id</th>\n",
              "      <th>available_balance</th>\n",
              "    </tr>\n",
              "  </thead>\n",
              "  <tbody>\n",
              "    <tr>\n",
              "      <th>5</th>\n",
              "      <td>55</td>\n",
              "      <td>11</td>\n",
              "      <td>28</td>\n",
              "      <td>6446.0</td>\n",
              "    </tr>\n",
              "    <tr>\n",
              "      <th>15</th>\n",
              "      <td>100</td>\n",
              "      <td>53</td>\n",
              "      <td>49</td>\n",
              "      <td>1000.0</td>\n",
              "    </tr>\n",
              "    <tr>\n",
              "      <th>7</th>\n",
              "      <td>10</td>\n",
              "      <td>11</td>\n",
              "      <td>35</td>\n",
              "      <td>6466.0</td>\n",
              "    </tr>\n",
              "    <tr>\n",
              "      <th>11</th>\n",
              "      <td>104</td>\n",
              "      <td>2</td>\n",
              "      <td>43</td>\n",
              "      <td>1000.0</td>\n",
              "    </tr>\n",
              "    <tr>\n",
              "      <th>2</th>\n",
              "      <td>170</td>\n",
              "      <td>11</td>\n",
              "      <td>19</td>\n",
              "      <td>6545.0</td>\n",
              "    </tr>\n",
              "    <tr>\n",
              "      <th>17</th>\n",
              "      <td>10</td>\n",
              "      <td>11</td>\n",
              "      <td>59</td>\n",
              "      <td>6537.0</td>\n",
              "    </tr>\n",
              "    <tr>\n",
              "      <th>9</th>\n",
              "      <td>8</td>\n",
              "      <td>11</td>\n",
              "      <td>39</td>\n",
              "      <td>6391.0</td>\n",
              "    </tr>\n",
              "    <tr>\n",
              "      <th>8</th>\n",
              "      <td>67</td>\n",
              "      <td>11</td>\n",
              "      <td>37</td>\n",
              "      <td>6399.0</td>\n",
              "    </tr>\n",
              "    <tr>\n",
              "      <th>3</th>\n",
              "      <td>10</td>\n",
              "      <td>11</td>\n",
              "      <td>21</td>\n",
              "      <td>6535.0</td>\n",
              "    </tr>\n",
              "    <tr>\n",
              "      <th>10</th>\n",
              "      <td>66</td>\n",
              "      <td>11</td>\n",
              "      <td>41</td>\n",
              "      <td>6547.0</td>\n",
              "    </tr>\n",
              "    <tr>\n",
              "      <th>6</th>\n",
              "      <td>10</td>\n",
              "      <td>11</td>\n",
              "      <td>33</td>\n",
              "      <td>6456.0</td>\n",
              "    </tr>\n",
              "    <tr>\n",
              "      <th>1</th>\n",
              "      <td>10</td>\n",
              "      <td>11</td>\n",
              "      <td>17</td>\n",
              "      <td>990.0</td>\n",
              "    </tr>\n",
              "    <tr>\n",
              "      <th>13</th>\n",
              "      <td>5</td>\n",
              "      <td>1</td>\n",
              "      <td>47</td>\n",
              "      <td>25.0</td>\n",
              "    </tr>\n",
              "  </tbody>\n",
              "</table>\n",
              "</div>"
            ],
            "text/plain": [
              "    amount  primary_account_id  id  available_balance\n",
              "5       55                  11  28             6446.0\n",
              "15     100                  53  49             1000.0\n",
              "7       10                  11  35             6466.0\n",
              "11     104                   2  43             1000.0\n",
              "2      170                  11  19             6545.0\n",
              "17      10                  11  59             6537.0\n",
              "9        8                  11  39             6391.0\n",
              "8       67                  11  37             6399.0\n",
              "3       10                  11  21             6535.0\n",
              "10      66                  11  41             6547.0\n",
              "6       10                  11  33             6456.0\n",
              "1       10                  11  17              990.0\n",
              "13       5                   1  47               25.0"
            ]
          },
          "metadata": {
            "tags": []
          },
          "execution_count": 26
        }
      ]
    },
    {
      "cell_type": "code",
      "metadata": {
        "colab": {
          "base_uri": "https://localhost:8080/"
        },
        "id": "z1EkF25KHgqo",
        "outputId": "5422b779-76df-42de-e84d-81d4fbdbe7b1"
      },
      "source": [
        "Y_train"
      ],
      "execution_count": 27,
      "outputs": [
        {
          "output_type": "execute_result",
          "data": {
            "text/plain": [
              "5     0\n",
              "15    0\n",
              "7     0\n",
              "11    0\n",
              "2     0\n",
              "17    0\n",
              "9     0\n",
              "8     1\n",
              "3     1\n",
              "10    0\n",
              "6     0\n",
              "1     1\n",
              "13    0\n",
              "Name: Class, dtype: int64"
            ]
          },
          "metadata": {
            "tags": []
          },
          "execution_count": 27
        }
      ]
    },
    {
      "cell_type": "code",
      "metadata": {
        "id": "bAB2q1sIHgqo"
      },
      "source": [
        "X1= pd.DataFrame(X_train, columns = input_vari)\n",
        "Y1 = pd.DataFrame(Y_train, columns = [\"Class\"])\n",
        "data_train = pd.concat([X1,Y1], axis = 1)"
      ],
      "execution_count": 29,
      "outputs": []
    },
    {
      "cell_type": "code",
      "metadata": {
        "colab": {
          "base_uri": "https://localhost:8080/"
        },
        "id": "XQitv6MfHgqo",
        "outputId": "f3e3f40d-7cad-4c85-93c4-4e449d10ae41"
      },
      "source": [
        "data_train.shape #Shape Before SMOTE"
      ],
      "execution_count": 30,
      "outputs": [
        {
          "output_type": "execute_result",
          "data": {
            "text/plain": [
              "(13, 5)"
            ]
          },
          "metadata": {
            "tags": []
          },
          "execution_count": 30
        }
      ]
    },
    {
      "cell_type": "code",
      "metadata": {
        "colab": {
          "base_uri": "https://localhost:8080/"
        },
        "id": "XQAm3iwdHgqo",
        "outputId": "45f74bae-a686-416c-97ef-e86ac2bbdd9f"
      },
      "source": [
        "data.shape # Original Data Shape"
      ],
      "execution_count": 31,
      "outputs": [
        {
          "output_type": "execute_result",
          "data": {
            "text/plain": [
              "(19, 5)"
            ]
          },
          "metadata": {
            "tags": []
          },
          "execution_count": 31
        }
      ]
    },
    {
      "cell_type": "code",
      "metadata": {
        "id": "c9IxqfkKHgqp"
      },
      "source": [
        "data_train.to_csv(\"data_train_before_smote.csv\") "
      ],
      "execution_count": 32,
      "outputs": []
    },
    {
      "cell_type": "code",
      "metadata": {
        "colab": {
          "base_uri": "https://localhost:8080/",
          "height": 238
        },
        "id": "7msfm5x5Hgqp",
        "outputId": "257c03c8-e3b7-406c-f6b3-20feb4221a9b"
      },
      "source": [
        "X_test"
      ],
      "execution_count": 33,
      "outputs": [
        {
          "output_type": "execute_result",
          "data": {
            "text/html": [
              "<div>\n",
              "<style scoped>\n",
              "    .dataframe tbody tr th:only-of-type {\n",
              "        vertical-align: middle;\n",
              "    }\n",
              "\n",
              "    .dataframe tbody tr th {\n",
              "        vertical-align: top;\n",
              "    }\n",
              "\n",
              "    .dataframe thead th {\n",
              "        text-align: right;\n",
              "    }\n",
              "</style>\n",
              "<table border=\"1\" class=\"dataframe\">\n",
              "  <thead>\n",
              "    <tr style=\"text-align: right;\">\n",
              "      <th></th>\n",
              "      <th>amount</th>\n",
              "      <th>primary_account_id</th>\n",
              "      <th>id</th>\n",
              "      <th>available_balance</th>\n",
              "    </tr>\n",
              "  </thead>\n",
              "  <tbody>\n",
              "    <tr>\n",
              "      <th>14</th>\n",
              "      <td>5</td>\n",
              "      <td>1</td>\n",
              "      <td>48</td>\n",
              "      <td>20.0</td>\n",
              "    </tr>\n",
              "    <tr>\n",
              "      <th>16</th>\n",
              "      <td>10</td>\n",
              "      <td>2</td>\n",
              "      <td>57</td>\n",
              "      <td>935.0</td>\n",
              "    </tr>\n",
              "    <tr>\n",
              "      <th>18</th>\n",
              "      <td>10</td>\n",
              "      <td>1</td>\n",
              "      <td>61</td>\n",
              "      <td>10.0</td>\n",
              "    </tr>\n",
              "    <tr>\n",
              "      <th>12</th>\n",
              "      <td>55</td>\n",
              "      <td>2</td>\n",
              "      <td>45</td>\n",
              "      <td>945.0</td>\n",
              "    </tr>\n",
              "    <tr>\n",
              "      <th>4</th>\n",
              "      <td>100</td>\n",
              "      <td>11</td>\n",
              "      <td>23</td>\n",
              "      <td>6435.0</td>\n",
              "    </tr>\n",
              "    <tr>\n",
              "      <th>0</th>\n",
              "      <td>133</td>\n",
              "      <td>11</td>\n",
              "      <td>15</td>\n",
              "      <td>1000.0</td>\n",
              "    </tr>\n",
              "  </tbody>\n",
              "</table>\n",
              "</div>"
            ],
            "text/plain": [
              "    amount  primary_account_id  id  available_balance\n",
              "14       5                   1  48               20.0\n",
              "16      10                   2  57              935.0\n",
              "18      10                   1  61               10.0\n",
              "12      55                   2  45              945.0\n",
              "4      100                  11  23             6435.0\n",
              "0      133                  11  15             1000.0"
            ]
          },
          "metadata": {
            "tags": []
          },
          "execution_count": 33
        }
      ]
    },
    {
      "cell_type": "code",
      "metadata": {
        "colab": {
          "base_uri": "https://localhost:8080/"
        },
        "id": "Z8YOg2OtHgqp",
        "outputId": "498548d0-26e4-4911-e9eb-ef63e4a6d538"
      },
      "source": [
        "X_test.columns #Checking Column Names"
      ],
      "execution_count": 34,
      "outputs": [
        {
          "output_type": "execute_result",
          "data": {
            "text/plain": [
              "Index(['amount', 'primary_account_id', 'id', 'available_balance'], dtype='object')"
            ]
          },
          "metadata": {
            "tags": []
          },
          "execution_count": 34
        }
      ]
    },
    {
      "cell_type": "code",
      "metadata": {
        "colab": {
          "base_uri": "https://localhost:8080/"
        },
        "id": "hDfHuAYjHgqq",
        "outputId": "420797ac-1cdc-4b80-9ab5-cb48a06012a2"
      },
      "source": [
        "Y_test"
      ],
      "execution_count": 35,
      "outputs": [
        {
          "output_type": "execute_result",
          "data": {
            "text/plain": [
              "14    1\n",
              "16    0\n",
              "18    0\n",
              "12    0\n",
              "4     0\n",
              "0     0\n",
              "Name: Class, dtype: int64"
            ]
          },
          "metadata": {
            "tags": []
          },
          "execution_count": 35
        }
      ]
    },
    {
      "cell_type": "code",
      "metadata": {
        "id": "XZIZDEhkHgqq"
      },
      "source": [
        "A1= pd.DataFrame(X_test, columns = input_vari)\n",
        "B1 = pd.DataFrame(Y_test, columns = [\"Class\"])\n",
        "data_test = pd.concat([A1,B1], axis = 1)"
      ],
      "execution_count": 36,
      "outputs": []
    },
    {
      "cell_type": "code",
      "metadata": {
        "colab": {
          "base_uri": "https://localhost:8080/",
          "height": 238
        },
        "id": "J-oWN0_YHgqr",
        "outputId": "9e698569-5ccd-400f-f5e9-d8b3a0f6a0b9"
      },
      "source": [
        "data_test"
      ],
      "execution_count": 37,
      "outputs": [
        {
          "output_type": "execute_result",
          "data": {
            "text/html": [
              "<div>\n",
              "<style scoped>\n",
              "    .dataframe tbody tr th:only-of-type {\n",
              "        vertical-align: middle;\n",
              "    }\n",
              "\n",
              "    .dataframe tbody tr th {\n",
              "        vertical-align: top;\n",
              "    }\n",
              "\n",
              "    .dataframe thead th {\n",
              "        text-align: right;\n",
              "    }\n",
              "</style>\n",
              "<table border=\"1\" class=\"dataframe\">\n",
              "  <thead>\n",
              "    <tr style=\"text-align: right;\">\n",
              "      <th></th>\n",
              "      <th>amount</th>\n",
              "      <th>primary_account_id</th>\n",
              "      <th>id</th>\n",
              "      <th>available_balance</th>\n",
              "      <th>Class</th>\n",
              "    </tr>\n",
              "  </thead>\n",
              "  <tbody>\n",
              "    <tr>\n",
              "      <th>14</th>\n",
              "      <td>5</td>\n",
              "      <td>1</td>\n",
              "      <td>48</td>\n",
              "      <td>20.0</td>\n",
              "      <td>1</td>\n",
              "    </tr>\n",
              "    <tr>\n",
              "      <th>16</th>\n",
              "      <td>10</td>\n",
              "      <td>2</td>\n",
              "      <td>57</td>\n",
              "      <td>935.0</td>\n",
              "      <td>0</td>\n",
              "    </tr>\n",
              "    <tr>\n",
              "      <th>18</th>\n",
              "      <td>10</td>\n",
              "      <td>1</td>\n",
              "      <td>61</td>\n",
              "      <td>10.0</td>\n",
              "      <td>0</td>\n",
              "    </tr>\n",
              "    <tr>\n",
              "      <th>12</th>\n",
              "      <td>55</td>\n",
              "      <td>2</td>\n",
              "      <td>45</td>\n",
              "      <td>945.0</td>\n",
              "      <td>0</td>\n",
              "    </tr>\n",
              "    <tr>\n",
              "      <th>4</th>\n",
              "      <td>100</td>\n",
              "      <td>11</td>\n",
              "      <td>23</td>\n",
              "      <td>6435.0</td>\n",
              "      <td>0</td>\n",
              "    </tr>\n",
              "    <tr>\n",
              "      <th>0</th>\n",
              "      <td>133</td>\n",
              "      <td>11</td>\n",
              "      <td>15</td>\n",
              "      <td>1000.0</td>\n",
              "      <td>0</td>\n",
              "    </tr>\n",
              "  </tbody>\n",
              "</table>\n",
              "</div>"
            ],
            "text/plain": [
              "    amount  primary_account_id  id  available_balance  Class\n",
              "14       5                   1  48               20.0      1\n",
              "16      10                   2  57              935.0      0\n",
              "18      10                   1  61               10.0      0\n",
              "12      55                   2  45              945.0      0\n",
              "4      100                  11  23             6435.0      0\n",
              "0      133                  11  15             1000.0      0"
            ]
          },
          "metadata": {
            "tags": []
          },
          "execution_count": 37
        }
      ]
    },
    {
      "cell_type": "code",
      "metadata": {
        "id": "Wd4fXTV7Hgqr"
      },
      "source": [
        "data_test.to_csv(\"test_data_set.csv\")"
      ],
      "execution_count": 38,
      "outputs": []
    },
    {
      "cell_type": "code",
      "metadata": {
        "colab": {
          "base_uri": "https://localhost:8080/"
        },
        "id": "n5E5nic5Hgqs",
        "outputId": "6ad10fb5-5ad2-4ff1-ed3d-e6a846e587bf"
      },
      "source": [
        "data_test[\"Class\"].value_counts()"
      ],
      "execution_count": 39,
      "outputs": [
        {
          "output_type": "execute_result",
          "data": {
            "text/plain": [
              "0    5\n",
              "1    1\n",
              "Name: Class, dtype: int64"
            ]
          },
          "metadata": {
            "tags": []
          },
          "execution_count": 39
        }
      ]
    },
    {
      "cell_type": "code",
      "metadata": {
        "colab": {
          "base_uri": "https://localhost:8080/"
        },
        "id": "fGWhByW1Hgqt",
        "outputId": "eea8a684-1425-4751-cb32-f236217b797b"
      },
      "source": [
        "data_train[\"Class\"].value_counts()"
      ],
      "execution_count": 40,
      "outputs": [
        {
          "output_type": "execute_result",
          "data": {
            "text/plain": [
              "0    10\n",
              "1     3\n",
              "Name: Class, dtype: int64"
            ]
          },
          "metadata": {
            "tags": []
          },
          "execution_count": 40
        }
      ]
    },
    {
      "cell_type": "code",
      "metadata": {
        "colab": {
          "base_uri": "https://localhost:8080/",
          "height": 297
        },
        "id": "WXZo4ThZHgqt",
        "outputId": "38a74e98-fc71-4b5c-a820-d60786dfdf92"
      },
      "source": [
        "sns.countplot(x = \"Class\" , data = data_train , color = \"orange\") "
      ],
      "execution_count": 41,
      "outputs": [
        {
          "output_type": "execute_result",
          "data": {
            "text/plain": [
              "<matplotlib.axes._subplots.AxesSubplot at 0x7fc87e03f890>"
            ]
          },
          "metadata": {
            "tags": []
          },
          "execution_count": 41
        },
        {
          "output_type": "display_data",
          "data": {
            "image/png": "[encoded data removed]",
            "text/plain": [
              "<Figure size 432x288 with 1 Axes>"
            ]
          },
          "metadata": {
            "tags": [],
            "needs_background": "light"
          }
        }
      ]
    },
    {
      "cell_type": "code",
      "metadata": {
        "scrolled": true,
        "colab": {
          "base_uri": "https://localhost:8080/",
          "height": 1000
        },
        "id": "qR4RA-PcHgqu",
        "outputId": "ff45b941-d708-4334-b2ce-a2ea1ffeb2d4"
      },
      "source": [
        "var = data_train.columns.values\n",
        "\n",
        "i = 0\n",
        "t0 = data_train.loc[data_train['Class'] == 0]\n",
        "t1 = data_train.loc[data_train['Class'] == 1]\n",
        "\n",
        "sns.set_style('whitegrid')\n",
        "plt.figure()\n",
        "fig, ax = plt.subplots(8,4,figsize=(16,28))\n",
        "\n",
        "for feature in var:\n",
        "    i += 1\n",
        "    plt.subplot(8,4,i)\n",
        "    sns.kdeplot(t0[feature], bw=0.5,label=\"Class = 0\")\n",
        "    sns.kdeplot(t1[feature], bw=0.5,label=\"Class = 1\")\n",
        "    plt.xlabel(feature, fontsize=12)\n",
        "    locs, labels = plt.xticks()\n",
        "    plt.tick_params(axis='both', which='major', labelsize=12)\n",
        "plt.show();\n",
        "\n",
        "#Credit : https://www.kaggle.com/gpreda/credit-card-fraud-detection-predictive-models"
      ],
      "execution_count": 42,
      "outputs": [
        {
          "output_type": "stream",
          "text": [
            "/usr/local/lib/python3.7/dist-packages/seaborn/distributions.py:1657: FutureWarning: The `bw` parameter is deprecated in favor of `bw_method` and `bw_adjust`. Using 0.5 for `bw_method`, but please see the docs for the new parameters and update your code.\n",
            "  warnings.warn(msg, FutureWarning)\n",
            "/usr/local/lib/python3.7/dist-packages/seaborn/distributions.py:1657: FutureWarning: The `bw` parameter is deprecated in favor of `bw_method` and `bw_adjust`. Using 0.5 for `bw_method`, but please see the docs for the new parameters and update your code.\n",
            "  warnings.warn(msg, FutureWarning)\n",
            "/usr/local/lib/python3.7/dist-packages/seaborn/distributions.py:1657: FutureWarning: The `bw` parameter is deprecated in favor of `bw_method` and `bw_adjust`. Using 0.5 for `bw_method`, but please see the docs for the new parameters and update your code.\n",
            "  warnings.warn(msg, FutureWarning)\n",
            "/usr/local/lib/python3.7/dist-packages/seaborn/distributions.py:1657: FutureWarning: The `bw` parameter is deprecated in favor of `bw_method` and `bw_adjust`. Using 0.5 for `bw_method`, but please see the docs for the new parameters and update your code.\n",
            "  warnings.warn(msg, FutureWarning)\n",
            "/usr/local/lib/python3.7/dist-packages/seaborn/distributions.py:306: UserWarning: Dataset has 0 variance; skipping density estimate.\n",
            "  warnings.warn(msg, UserWarning)\n",
            "/usr/local/lib/python3.7/dist-packages/seaborn/distributions.py:1657: FutureWarning: The `bw` parameter is deprecated in favor of `bw_method` and `bw_adjust`. Using 0.5 for `bw_method`, but please see the docs for the new parameters and update your code.\n",
            "  warnings.warn(msg, FutureWarning)\n",
            "/usr/local/lib/python3.7/dist-packages/seaborn/distributions.py:1657: FutureWarning: The `bw` parameter is deprecated in favor of `bw_method` and `bw_adjust`. Using 0.5 for `bw_method`, but please see the docs for the new parameters and update your code.\n",
            "  warnings.warn(msg, FutureWarning)\n",
            "/usr/local/lib/python3.7/dist-packages/seaborn/distributions.py:1657: FutureWarning: The `bw` parameter is deprecated in favor of `bw_method` and `bw_adjust`. Using 0.5 for `bw_method`, but please see the docs for the new parameters and update your code.\n",
            "  warnings.warn(msg, FutureWarning)\n",
            "/usr/local/lib/python3.7/dist-packages/seaborn/distributions.py:1657: FutureWarning: The `bw` parameter is deprecated in favor of `bw_method` and `bw_adjust`. Using 0.5 for `bw_method`, but please see the docs for the new parameters and update your code.\n",
            "  warnings.warn(msg, FutureWarning)\n",
            "/usr/local/lib/python3.7/dist-packages/seaborn/distributions.py:1657: FutureWarning: The `bw` parameter is deprecated in favor of `bw_method` and `bw_adjust`. Using 0.5 for `bw_method`, but please see the docs for the new parameters and update your code.\n",
            "  warnings.warn(msg, FutureWarning)\n",
            "/usr/local/lib/python3.7/dist-packages/seaborn/distributions.py:306: UserWarning: Dataset has 0 variance; skipping density estimate.\n",
            "  warnings.warn(msg, UserWarning)\n",
            "/usr/local/lib/python3.7/dist-packages/seaborn/distributions.py:1657: FutureWarning: The `bw` parameter is deprecated in favor of `bw_method` and `bw_adjust`. Using 0.5 for `bw_method`, but please see the docs for the new parameters and update your code.\n",
            "  warnings.warn(msg, FutureWarning)\n",
            "/usr/local/lib/python3.7/dist-packages/seaborn/distributions.py:306: UserWarning: Dataset has 0 variance; skipping density estimate.\n",
            "  warnings.warn(msg, UserWarning)\n"
          ],
          "name": "stderr"
        },
        {
          "output_type": "display_data",
          "data": {
            "text/plain": [
              "<Figure size 432x288 with 0 Axes>"
            ]
          },
          "metadata": {
            "tags": []
          }
        },
        {
          "output_type": "display_data",
          "data": {
            "image/png": "[encoded data removed]",
            "text/plain": [
              "<Figure size 1152x2016 with 32 Axes>"
            ]
          },
          "metadata": {
            "tags": []
          }
        }
      ]
    },
    {
      "cell_type": "code",
      "metadata": {
        "id": "wHHXnEZlHgqu"
      },
      "source": [
        "# While we a get a high accuracy of 95% on our Testing data\n",
        "# Accuracy is not the only way to evalutate the model \n",
        "# Precision and recall are other ways to get the model performance\n",
        "# Credit : https://towardsdatascience.com/accuracy-precision-recall-or-f1-331fb37c5cb9\n",
        "# If the data is imbalanced Precision and Recall is a better way to measure performance \n",
        "# http://www.davidsbatista.net/blog/2018/08/19/NLP_Metrics/\n",
        "# https://towardsdatascience.com/what-metrics-should-we-use-on-imbalanced-data-set-precision-recall-roc-e2e79252aeba\n",
        "# Since the testing dataset is highly imbalanced We should use Precision and Recall\n",
        "# Precision is a good measure to determine, when the costs of False Positive is high. "
      ],
      "execution_count": 43,
      "outputs": []
    },
    {
      "cell_type": "markdown",
      "metadata": {
        "id": "O2LxH4RNHgqv"
      },
      "source": [
        "# Decision Tree Model "
      ]
    },
    {
      "cell_type": "code",
      "metadata": {
        "id": "wFEEMit9Hgqv"
      },
      "source": [
        "from sklearn.tree import DecisionTreeClassifier\n",
        "from sklearn.metrics import confusion_matrix\n",
        "import warnings\n",
        "warnings.filterwarnings(\"ignore\")\n",
        "from sklearn.model_selection import train_test_split\n",
        "from sklearn.metrics import precision_recall_curve\n",
        "from sklearn.metrics import auc"
      ],
      "execution_count": 63,
      "outputs": []
    },
    {
      "cell_type": "code",
      "metadata": {
        "colab": {
          "base_uri": "https://localhost:8080/",
          "height": 457
        },
        "id": "1d1gQz_9Hgqv",
        "outputId": "7641da67-59bb-4122-b7d1-3f89f23857b2"
      },
      "source": [
        "X_train"
      ],
      "execution_count": 64,
      "outputs": [
        {
          "output_type": "execute_result",
          "data": {
            "text/html": [
              "<div>\n",
              "<style scoped>\n",
              "    .dataframe tbody tr th:only-of-type {\n",
              "        vertical-align: middle;\n",
              "    }\n",
              "\n",
              "    .dataframe tbody tr th {\n",
              "        vertical-align: top;\n",
              "    }\n",
              "\n",
              "    .dataframe thead th {\n",
              "        text-align: right;\n",
              "    }\n",
              "</style>\n",
              "<table border=\"1\" class=\"dataframe\">\n",
              "  <thead>\n",
              "    <tr style=\"text-align: right;\">\n",
              "      <th></th>\n",
              "      <th>amount</th>\n",
              "      <th>primary_account_id</th>\n",
              "      <th>id</th>\n",
              "      <th>available_balance</th>\n",
              "    </tr>\n",
              "  </thead>\n",
              "  <tbody>\n",
              "    <tr>\n",
              "      <th>5</th>\n",
              "      <td>55</td>\n",
              "      <td>11</td>\n",
              "      <td>28</td>\n",
              "      <td>6446.0</td>\n",
              "    </tr>\n",
              "    <tr>\n",
              "      <th>15</th>\n",
              "      <td>100</td>\n",
              "      <td>53</td>\n",
              "      <td>49</td>\n",
              "      <td>1000.0</td>\n",
              "    </tr>\n",
              "    <tr>\n",
              "      <th>7</th>\n",
              "      <td>10</td>\n",
              "      <td>11</td>\n",
              "      <td>35</td>\n",
              "      <td>6466.0</td>\n",
              "    </tr>\n",
              "    <tr>\n",
              "      <th>11</th>\n",
              "      <td>104</td>\n",
              "      <td>2</td>\n",
              "      <td>43</td>\n",
              "      <td>1000.0</td>\n",
              "    </tr>\n",
              "    <tr>\n",
              "      <th>2</th>\n",
              "      <td>170</td>\n",
              "      <td>11</td>\n",
              "      <td>19</td>\n",
              "      <td>6545.0</td>\n",
              "    </tr>\n",
              "    <tr>\n",
              "      <th>17</th>\n",
              "      <td>10</td>\n",
              "      <td>11</td>\n",
              "      <td>59</td>\n",
              "      <td>6537.0</td>\n",
              "    </tr>\n",
              "    <tr>\n",
              "      <th>9</th>\n",
              "      <td>8</td>\n",
              "      <td>11</td>\n",
              "      <td>39</td>\n",
              "      <td>6391.0</td>\n",
              "    </tr>\n",
              "    <tr>\n",
              "      <th>8</th>\n",
              "      <td>67</td>\n",
              "      <td>11</td>\n",
              "      <td>37</td>\n",
              "      <td>6399.0</td>\n",
              "    </tr>\n",
              "    <tr>\n",
              "      <th>3</th>\n",
              "      <td>10</td>\n",
              "      <td>11</td>\n",
              "      <td>21</td>\n",
              "      <td>6535.0</td>\n",
              "    </tr>\n",
              "    <tr>\n",
              "      <th>10</th>\n",
              "      <td>66</td>\n",
              "      <td>11</td>\n",
              "      <td>41</td>\n",
              "      <td>6547.0</td>\n",
              "    </tr>\n",
              "    <tr>\n",
              "      <th>6</th>\n",
              "      <td>10</td>\n",
              "      <td>11</td>\n",
              "      <td>33</td>\n",
              "      <td>6456.0</td>\n",
              "    </tr>\n",
              "    <tr>\n",
              "      <th>1</th>\n",
              "      <td>10</td>\n",
              "      <td>11</td>\n",
              "      <td>17</td>\n",
              "      <td>990.0</td>\n",
              "    </tr>\n",
              "    <tr>\n",
              "      <th>13</th>\n",
              "      <td>5</td>\n",
              "      <td>1</td>\n",
              "      <td>47</td>\n",
              "      <td>25.0</td>\n",
              "    </tr>\n",
              "  </tbody>\n",
              "</table>\n",
              "</div>"
            ],
            "text/plain": [
              "    amount  primary_account_id  id  available_balance\n",
              "5       55                  11  28             6446.0\n",
              "15     100                  53  49             1000.0\n",
              "7       10                  11  35             6466.0\n",
              "11     104                   2  43             1000.0\n",
              "2      170                  11  19             6545.0\n",
              "17      10                  11  59             6537.0\n",
              "9        8                  11  39             6391.0\n",
              "8       67                  11  37             6399.0\n",
              "3       10                  11  21             6535.0\n",
              "10      66                  11  41             6547.0\n",
              "6       10                  11  33             6456.0\n",
              "1       10                  11  17              990.0\n",
              "13       5                   1  47               25.0"
            ]
          },
          "metadata": {
            "tags": []
          },
          "execution_count": 64
        }
      ]
    },
    {
      "cell_type": "code",
      "metadata": {
        "colab": {
          "base_uri": "https://localhost:8080/"
        },
        "id": "3GMNTEBOHgqw",
        "outputId": "fab38d47-0eec-4b09-a8a5-6fd72c51e87e"
      },
      "source": [
        "Y_train"
      ],
      "execution_count": 65,
      "outputs": [
        {
          "output_type": "execute_result",
          "data": {
            "text/plain": [
              "5     0\n",
              "15    0\n",
              "7     0\n",
              "11    0\n",
              "2     0\n",
              "17    0\n",
              "9     0\n",
              "8     1\n",
              "3     1\n",
              "10    0\n",
              "6     0\n",
              "1     1\n",
              "13    0\n",
              "Name: Class, dtype: int64"
            ]
          },
          "metadata": {
            "tags": []
          },
          "execution_count": 65
        }
      ]
    },
    {
      "cell_type": "code",
      "metadata": {
        "colab": {
          "base_uri": "https://localhost:8080/"
        },
        "id": "wLrwjYQWHgqw",
        "outputId": "ffc70281-04db-4da3-d5d7-7abfb9080587"
      },
      "source": [
        "dt = DecisionTreeClassifier(criterion = \"gini\", splitter = \"best\", max_depth = 5) \n",
        "dt.fit(X_train, Y_train)"
      ],
      "execution_count": 66,
      "outputs": [
        {
          "output_type": "execute_result",
          "data": {
            "text/plain": [
              "DecisionTreeClassifier(ccp_alpha=0.0, class_weight=None, criterion='gini',\n",
              "                       max_depth=5, max_features=None, max_leaf_nodes=None,\n",
              "                       min_impurity_decrease=0.0, min_impurity_split=None,\n",
              "                       min_samples_leaf=1, min_samples_split=2,\n",
              "                       min_weight_fraction_leaf=0.0, presort='deprecated',\n",
              "                       random_state=None, splitter='best')"
            ]
          },
          "metadata": {
            "tags": []
          },
          "execution_count": 66
        }
      ]
    },
    {
      "cell_type": "code",
      "metadata": {
        "id": "KkYq6GuAHgqw"
      },
      "source": [
        "pred_y_train = dt.predict(X_train)\n",
        "pred_Y_train_proba = dt.predict_proba(X_test)"
      ],
      "execution_count": 67,
      "outputs": []
    },
    {
      "cell_type": "code",
      "metadata": {
        "id": "DZVcYEmsHgqw"
      },
      "source": [
        "col_names = [\"Accuracy\",\"Sensitivity\", \"Specificity\", \"Precision\",\"Recall\", \"FMeasure\"]\n",
        "table = pd.DataFrame(columns = col_names)\n",
        "for i in np.arange(0,1,0.05):\n",
        "    y_pred = (pred_Y_train_proba [:,1] > i).astype(int)\n",
        "    tn, fp, fn, tp = confusion_matrix(Y_train,pred_y_train).ravel()\n",
        "    Accuracy = (tp+tn)/(tp+fp+fn+tn)\n",
        "    Sensitivity = tp/(tp+fn)\n",
        "    Specificity =tn/(tn+fp)\n",
        "    Precision = tp/(tp+fp)\n",
        "    Recall = tp/(fn+tp)\n",
        "    FMeasure = (2*Precision*Recall) /(Precision+Recall)\n",
        "    table.loc[i] =[Accuracy,Sensitivity,Specificity,Precision,Recall,FMeasure]"
      ],
      "execution_count": 68,
      "outputs": []
    },
    {
      "cell_type": "code",
      "metadata": {
        "colab": {
          "base_uri": "https://localhost:8080/",
          "height": 677
        },
        "id": "24rWHDvEHgqx",
        "outputId": "73144f87-17e0-420c-9823-a0fd60840f02"
      },
      "source": [
        "table # Threshold at 0.5"
      ],
      "execution_count": 69,
      "outputs": [
        {
          "output_type": "execute_result",
          "data": {
            "text/html": [
              "<div>\n",
              "<style scoped>\n",
              "    .dataframe tbody tr th:only-of-type {\n",
              "        vertical-align: middle;\n",
              "    }\n",
              "\n",
              "    .dataframe tbody tr th {\n",
              "        vertical-align: top;\n",
              "    }\n",
              "\n",
              "    .dataframe thead th {\n",
              "        text-align: right;\n",
              "    }\n",
              "</style>\n",
              "<table border=\"1\" class=\"dataframe\">\n",
              "  <thead>\n",
              "    <tr style=\"text-align: right;\">\n",
              "      <th></th>\n",
              "      <th>Accuracy</th>\n",
              "      <th>Sensitivity</th>\n",
              "      <th>Specificity</th>\n",
              "      <th>Precision</th>\n",
              "      <th>Recall</th>\n",
              "      <th>FMeasure</th>\n",
              "    </tr>\n",
              "  </thead>\n",
              "  <tbody>\n",
              "    <tr>\n",
              "      <th>0.00</th>\n",
              "      <td>1.0</td>\n",
              "      <td>1.0</td>\n",
              "      <td>1.0</td>\n",
              "      <td>1.0</td>\n",
              "      <td>1.0</td>\n",
              "      <td>1.0</td>\n",
              "    </tr>\n",
              "    <tr>\n",
              "      <th>0.05</th>\n",
              "      <td>1.0</td>\n",
              "      <td>1.0</td>\n",
              "      <td>1.0</td>\n",
              "      <td>1.0</td>\n",
              "      <td>1.0</td>\n",
              "      <td>1.0</td>\n",
              "    </tr>\n",
              "    <tr>\n",
              "      <th>0.10</th>\n",
              "      <td>1.0</td>\n",
              "      <td>1.0</td>\n",
              "      <td>1.0</td>\n",
              "      <td>1.0</td>\n",
              "      <td>1.0</td>\n",
              "      <td>1.0</td>\n",
              "    </tr>\n",
              "    <tr>\n",
              "      <th>0.15</th>\n",
              "      <td>1.0</td>\n",
              "      <td>1.0</td>\n",
              "      <td>1.0</td>\n",
              "      <td>1.0</td>\n",
              "      <td>1.0</td>\n",
              "      <td>1.0</td>\n",
              "    </tr>\n",
              "    <tr>\n",
              "      <th>0.20</th>\n",
              "      <td>1.0</td>\n",
              "      <td>1.0</td>\n",
              "      <td>1.0</td>\n",
              "      <td>1.0</td>\n",
              "      <td>1.0</td>\n",
              "      <td>1.0</td>\n",
              "    </tr>\n",
              "    <tr>\n",
              "      <th>0.25</th>\n",
              "      <td>1.0</td>\n",
              "      <td>1.0</td>\n",
              "      <td>1.0</td>\n",
              "      <td>1.0</td>\n",
              "      <td>1.0</td>\n",
              "      <td>1.0</td>\n",
              "    </tr>\n",
              "    <tr>\n",
              "      <th>0.30</th>\n",
              "      <td>1.0</td>\n",
              "      <td>1.0</td>\n",
              "      <td>1.0</td>\n",
              "      <td>1.0</td>\n",
              "      <td>1.0</td>\n",
              "      <td>1.0</td>\n",
              "    </tr>\n",
              "    <tr>\n",
              "      <th>0.35</th>\n",
              "      <td>1.0</td>\n",
              "      <td>1.0</td>\n",
              "      <td>1.0</td>\n",
              "      <td>1.0</td>\n",
              "      <td>1.0</td>\n",
              "      <td>1.0</td>\n",
              "    </tr>\n",
              "    <tr>\n",
              "      <th>0.40</th>\n",
              "      <td>1.0</td>\n",
              "      <td>1.0</td>\n",
              "      <td>1.0</td>\n",
              "      <td>1.0</td>\n",
              "      <td>1.0</td>\n",
              "      <td>1.0</td>\n",
              "    </tr>\n",
              "    <tr>\n",
              "      <th>0.45</th>\n",
              "      <td>1.0</td>\n",
              "      <td>1.0</td>\n",
              "      <td>1.0</td>\n",
              "      <td>1.0</td>\n",
              "      <td>1.0</td>\n",
              "      <td>1.0</td>\n",
              "    </tr>\n",
              "    <tr>\n",
              "      <th>0.50</th>\n",
              "      <td>1.0</td>\n",
              "      <td>1.0</td>\n",
              "      <td>1.0</td>\n",
              "      <td>1.0</td>\n",
              "      <td>1.0</td>\n",
              "      <td>1.0</td>\n",
              "    </tr>\n",
              "    <tr>\n",
              "      <th>0.55</th>\n",
              "      <td>1.0</td>\n",
              "      <td>1.0</td>\n",
              "      <td>1.0</td>\n",
              "      <td>1.0</td>\n",
              "      <td>1.0</td>\n",
              "      <td>1.0</td>\n",
              "    </tr>\n",
              "    <tr>\n",
              "      <th>0.60</th>\n",
              "      <td>1.0</td>\n",
              "      <td>1.0</td>\n",
              "      <td>1.0</td>\n",
              "      <td>1.0</td>\n",
              "      <td>1.0</td>\n",
              "      <td>1.0</td>\n",
              "    </tr>\n",
              "    <tr>\n",
              "      <th>0.65</th>\n",
              "      <td>1.0</td>\n",
              "      <td>1.0</td>\n",
              "      <td>1.0</td>\n",
              "      <td>1.0</td>\n",
              "      <td>1.0</td>\n",
              "      <td>1.0</td>\n",
              "    </tr>\n",
              "    <tr>\n",
              "      <th>0.70</th>\n",
              "      <td>1.0</td>\n",
              "      <td>1.0</td>\n",
              "      <td>1.0</td>\n",
              "      <td>1.0</td>\n",
              "      <td>1.0</td>\n",
              "      <td>1.0</td>\n",
              "    </tr>\n",
              "    <tr>\n",
              "      <th>0.75</th>\n",
              "      <td>1.0</td>\n",
              "      <td>1.0</td>\n",
              "      <td>1.0</td>\n",
              "      <td>1.0</td>\n",
              "      <td>1.0</td>\n",
              "      <td>1.0</td>\n",
              "    </tr>\n",
              "    <tr>\n",
              "      <th>0.80</th>\n",
              "      <td>1.0</td>\n",
              "      <td>1.0</td>\n",
              "      <td>1.0</td>\n",
              "      <td>1.0</td>\n",
              "      <td>1.0</td>\n",
              "      <td>1.0</td>\n",
              "    </tr>\n",
              "    <tr>\n",
              "      <th>0.85</th>\n",
              "      <td>1.0</td>\n",
              "      <td>1.0</td>\n",
              "      <td>1.0</td>\n",
              "      <td>1.0</td>\n",
              "      <td>1.0</td>\n",
              "      <td>1.0</td>\n",
              "    </tr>\n",
              "    <tr>\n",
              "      <th>0.90</th>\n",
              "      <td>1.0</td>\n",
              "      <td>1.0</td>\n",
              "      <td>1.0</td>\n",
              "      <td>1.0</td>\n",
              "      <td>1.0</td>\n",
              "      <td>1.0</td>\n",
              "    </tr>\n",
              "    <tr>\n",
              "      <th>0.95</th>\n",
              "      <td>1.0</td>\n",
              "      <td>1.0</td>\n",
              "      <td>1.0</td>\n",
              "      <td>1.0</td>\n",
              "      <td>1.0</td>\n",
              "      <td>1.0</td>\n",
              "    </tr>\n",
              "  </tbody>\n",
              "</table>\n",
              "</div>"
            ],
            "text/plain": [
              "      Accuracy  Sensitivity  Specificity  Precision  Recall  FMeasure\n",
              "0.00       1.0          1.0          1.0        1.0     1.0       1.0\n",
              "0.05       1.0          1.0          1.0        1.0     1.0       1.0\n",
              "0.10       1.0          1.0          1.0        1.0     1.0       1.0\n",
              "0.15       1.0          1.0          1.0        1.0     1.0       1.0\n",
              "0.20       1.0          1.0          1.0        1.0     1.0       1.0\n",
              "0.25       1.0          1.0          1.0        1.0     1.0       1.0\n",
              "0.30       1.0          1.0          1.0        1.0     1.0       1.0\n",
              "0.35       1.0          1.0          1.0        1.0     1.0       1.0\n",
              "0.40       1.0          1.0          1.0        1.0     1.0       1.0\n",
              "0.45       1.0          1.0          1.0        1.0     1.0       1.0\n",
              "0.50       1.0          1.0          1.0        1.0     1.0       1.0\n",
              "0.55       1.0          1.0          1.0        1.0     1.0       1.0\n",
              "0.60       1.0          1.0          1.0        1.0     1.0       1.0\n",
              "0.65       1.0          1.0          1.0        1.0     1.0       1.0\n",
              "0.70       1.0          1.0          1.0        1.0     1.0       1.0\n",
              "0.75       1.0          1.0          1.0        1.0     1.0       1.0\n",
              "0.80       1.0          1.0          1.0        1.0     1.0       1.0\n",
              "0.85       1.0          1.0          1.0        1.0     1.0       1.0\n",
              "0.90       1.0          1.0          1.0        1.0     1.0       1.0\n",
              "0.95       1.0          1.0          1.0        1.0     1.0       1.0"
            ]
          },
          "metadata": {
            "tags": []
          },
          "execution_count": 69
        }
      ]
    },
    {
      "cell_type": "code",
      "metadata": {
        "colab": {
          "base_uri": "https://localhost:8080/",
          "height": 313
        },
        "id": "5hOpeRhZHgqx",
        "outputId": "0267d768-4b89-44fb-f768-c4ff16d649b5"
      },
      "source": [
        "from sklearn.metrics import plot_precision_recall_curve\n",
        "disp = plot_precision_recall_curve(dt, X_train, Y_train, color = \"blue\")\n",
        "disp.ax_.set_title('Precision-Recall curve - Training Data') \n",
        "#Precision vs Recall Curve for unbalanced Train Data"
      ],
      "execution_count": 70,
      "outputs": [
        {
          "output_type": "execute_result",
          "data": {
            "text/plain": [
              "Text(0.5, 1.0, 'Precision-Recall curve - Training Data')"
            ]
          },
          "metadata": {
            "tags": []
          },
          "execution_count": 70
        },
        {
          "output_type": "display_data",
          "data": {
            "image/png": "[encoded data removed]",
            "text/plain": [
              "<Figure size 432x288 with 1 Axes>"
            ]
          },
          "metadata": {
            "tags": []
          }
        }
      ]
    },
    {
      "cell_type": "markdown",
      "metadata": {
        "id": "yTPPTJwIHgqx"
      },
      "source": [
        "Testing the new model on the Testing DataSet"
      ]
    },
    {
      "cell_type": "code",
      "metadata": {
        "id": "JSGchnYqHgqy"
      },
      "source": [
        "pred_y = dt.predict(X_test)"
      ],
      "execution_count": 71,
      "outputs": []
    },
    {
      "cell_type": "code",
      "metadata": {
        "id": "3c9ULTJqHgqy"
      },
      "source": [
        "pred_Y_test_proba = dt.predict_proba(X_test)"
      ],
      "execution_count": 72,
      "outputs": []
    },
    {
      "cell_type": "code",
      "metadata": {
        "id": "vnWEA6yFHgqy"
      },
      "source": [
        "pred_prob_y = pred_Y_test_proba[:,1]"
      ],
      "execution_count": 73,
      "outputs": []
    },
    {
      "cell_type": "code",
      "metadata": {
        "id": "6lFQ8x0xHgqy"
      },
      "source": [
        "y_test_pred = (pred_prob_y > 0.5).astype(int) #Threshold selected Based on the above precision vs recall curve"
      ],
      "execution_count": 74,
      "outputs": []
    },
    {
      "cell_type": "code",
      "metadata": {
        "id": "qA4r_SAuHgqy"
      },
      "source": [
        "tn, fp, fn, tp = confusion_matrix(Y_test,y_test_pred).ravel()"
      ],
      "execution_count": 75,
      "outputs": []
    },
    {
      "cell_type": "code",
      "metadata": {
        "colab": {
          "base_uri": "https://localhost:8080/"
        },
        "id": "GoacrT3LHgqz",
        "outputId": "9a5eaa13-3d95-4f7a-dd04-80898406a73c"
      },
      "source": [
        "tn, fp, fn, tp #Similar result as the previous model"
      ],
      "execution_count": 76,
      "outputs": [
        {
          "output_type": "execute_result",
          "data": {
            "text/plain": [
              "(5, 0, 1, 0)"
            ]
          },
          "metadata": {
            "tags": []
          },
          "execution_count": 76
        }
      ]
    },
    {
      "cell_type": "code",
      "metadata": {
        "colab": {
          "base_uri": "https://localhost:8080/",
          "height": 279
        },
        "id": "BYxHc7TNHgqz",
        "outputId": "544f847f-94b5-4aaa-d1ea-027fae7be9d5"
      },
      "source": [
        "from mlxtend.plotting import plot_confusion_matrix\n",
        "import matplotlib.pyplot as plt\n",
        "import numpy as np\n",
        "\n",
        "binary1 = np.array([[85288, 21],[28, 106]])\n",
        "fig, ax = plot_confusion_matrix(conf_mat=binary1)\n",
        "plt.show()"
      ],
      "execution_count": 77,
      "outputs": [
        {
          "output_type": "display_data",
          "data": {
            "image/png": "[encoded data removed]",
            "text/plain": [
              "<Figure size 432x288 with 1 Axes>"
            ]
          },
          "metadata": {
            "tags": []
          }
        }
      ]
    },
    {
      "cell_type": "markdown",
      "metadata": {
        "id": "pULMxZJsHgqz"
      },
      "source": [
        "Now we check the Precision and Recall metrics of our new model "
      ]
    },
    {
      "cell_type": "code",
      "metadata": {
        "id": "3zx4qBTYHgqz"
      },
      "source": [
        "precision, recall, threshold = precision_recall_curve(Y_test,pred_y)"
      ],
      "execution_count": 78,
      "outputs": []
    },
    {
      "cell_type": "code",
      "metadata": {
        "colab": {
          "base_uri": "https://localhost:8080/"
        },
        "id": "jjsXZzCFHgq0",
        "outputId": "c04254c9-322a-4f18-ecdb-ac0f35a4d816"
      },
      "source": [
        "precision, recall, threshold # As you can see there is a drastic improvement in our precision metric."
      ],
      "execution_count": 79,
      "outputs": [
        {
          "output_type": "execute_result",
          "data": {
            "text/plain": [
              "(array([0.16666667, 1.        ]), array([1., 0.]), array([0]))"
            ]
          },
          "metadata": {
            "tags": []
          },
          "execution_count": 79
        }
      ]
    },
    {
      "cell_type": "code",
      "metadata": {
        "colab": {
          "base_uri": "https://localhost:8080/",
          "height": 313
        },
        "id": "aybB101aHgq0",
        "outputId": "bab9b42a-ea52-4cb6-8ee0-29063ef2f675"
      },
      "source": [
        "from sklearn.metrics import plot_precision_recall_curve\n",
        "disp = plot_precision_recall_curve(dt, X_test, Y_test, color = \"violet\")\n",
        "disp.ax_.set_title('Precision-Recall curve - Testing Data') \n",
        "#Precision vs Recall Curve for Test"
      ],
      "execution_count": 80,
      "outputs": [
        {
          "output_type": "execute_result",
          "data": {
            "text/plain": [
              "Text(0.5, 1.0, 'Precision-Recall curve - Testing Data')"
            ]
          },
          "metadata": {
            "tags": []
          },
          "execution_count": 80
        },
        {
          "output_type": "display_data",
          "data": {
            "image/png": "[encoded data removed]",
            "text/plain": [
              "<Figure size 432x288 with 1 Axes>"
            ]
          },
          "metadata": {
            "tags": []
          }
        }
      ]
    },
    {
      "cell_type": "code",
      "metadata": {
        "id": "gdQomOABHgq1"
      },
      "source": [
        "# We continue to find the best classification model without balancing the dataset and by using Precision and recall as the metric of measure."
      ],
      "execution_count": 81,
      "outputs": []
    },
    {
      "cell_type": "markdown",
      "metadata": {
        "id": "xZQIaxtlHgq1"
      },
      "source": [
        "# Logistic Regression Model"
      ]
    },
    {
      "cell_type": "code",
      "metadata": {
        "id": "muc-pmgyHgq1"
      },
      "source": [
        "import numpy as np\n",
        "import scipy as sp \n",
        "from scipy import stats\n",
        "import matplotlib.pyplot as plt\n",
        "from sklearn.model_selection import cross_val_score\n",
        "from sklearn.linear_model import LogisticRegression\n",
        "from sklearn.metrics import confusion_matrix\n",
        "# suppressing warnings\n",
        "import warnings\n",
        "warnings.filterwarnings('ignore')"
      ],
      "execution_count": 106,
      "outputs": []
    },
    {
      "cell_type": "code",
      "metadata": {
        "colab": {
          "base_uri": "https://localhost:8080/"
        },
        "id": "rhT8L01YHgq3",
        "outputId": "21d8dac0-d633-4ca7-8089-ab1570276960"
      },
      "source": [
        "lr = LogisticRegression(random_state = 0, solver='lbfgs', multi_class='ovr')\n",
        "lr.fit(X_train, Y_train)"
      ],
      "execution_count": 107,
      "outputs": [
        {
          "output_type": "execute_result",
          "data": {
            "text/plain": [
              "LogisticRegression(C=1.0, class_weight=None, dual=False, fit_intercept=True,\n",
              "                   intercept_scaling=1, l1_ratio=None, max_iter=100,\n",
              "                   multi_class='ovr', n_jobs=None, penalty='l2', random_state=0,\n",
              "                   solver='lbfgs', tol=0.0001, verbose=0, warm_start=False)"
            ]
          },
          "metadata": {
            "tags": []
          },
          "execution_count": 107
        }
      ]
    },
    {
      "cell_type": "code",
      "metadata": {
        "id": "bMbWQ3agHgq4"
      },
      "source": [
        "pred_Y_lr = lr.predict(X_train)"
      ],
      "execution_count": 108,
      "outputs": []
    },
    {
      "cell_type": "code",
      "metadata": {
        "id": "Duyfe8kiHgq4"
      },
      "source": [
        "pred_Y_lr_proba = lr.predict_proba(X_train)"
      ],
      "execution_count": 109,
      "outputs": []
    },
    {
      "cell_type": "code",
      "metadata": {
        "id": "nfeP48MuHgq5"
      },
      "source": [
        "lr_proba = pred_Y_lr_proba[:,1]"
      ],
      "execution_count": 110,
      "outputs": []
    },
    {
      "cell_type": "code",
      "metadata": {
        "id": "397-2nn8Hgq5"
      },
      "source": [
        "col_names = [\"Accuracy\",\"Sensitivity\", \"Specificity\", \"Precision\",\"Recall\", \"FMeasure\"]\n",
        "table2 = pd.DataFrame(columns = col_names)\n",
        "for i in np.arange(0,1,0.05):\n",
        "    y_pred = (pred_Y_lr_proba [:,1] > i).astype(int)\n",
        "    tn, fp, fn, tp = confusion_matrix(Y_train,y_pred).ravel()\n",
        "    Accuracy = (tp+tn)/(tp+fp+fn+tn)\n",
        "    Sensitivity = tp/(tp+fn)\n",
        "    Specificity =tn/(tn+fp)\n",
        "    Precision = tp/(tp+fp)\n",
        "    Recall = tp/(fn+tp)\n",
        "    FMeasure = (2*Precision*Recall) /(Precision+Recall)\n",
        "    table2.loc[i] =[Accuracy,Sensitivity,Specificity,Precision,Recall,FMeasure]"
      ],
      "execution_count": 111,
      "outputs": []
    },
    {
      "cell_type": "code",
      "metadata": {
        "colab": {
          "base_uri": "https://localhost:8080/",
          "height": 677
        },
        "id": "_FOqBGWoHgq5",
        "outputId": "5f41717e-24ff-4389-a607-d5a9d7fc0979"
      },
      "source": [
        "table2"
      ],
      "execution_count": 112,
      "outputs": [
        {
          "output_type": "execute_result",
          "data": {
            "text/html": [
              "<div>\n",
              "<style scoped>\n",
              "    .dataframe tbody tr th:only-of-type {\n",
              "        vertical-align: middle;\n",
              "    }\n",
              "\n",
              "    .dataframe tbody tr th {\n",
              "        vertical-align: top;\n",
              "    }\n",
              "\n",
              "    .dataframe thead th {\n",
              "        text-align: right;\n",
              "    }\n",
              "</style>\n",
              "<table border=\"1\" class=\"dataframe\">\n",
              "  <thead>\n",
              "    <tr style=\"text-align: right;\">\n",
              "      <th></th>\n",
              "      <th>Accuracy</th>\n",
              "      <th>Sensitivity</th>\n",
              "      <th>Specificity</th>\n",
              "      <th>Precision</th>\n",
              "      <th>Recall</th>\n",
              "      <th>FMeasure</th>\n",
              "    </tr>\n",
              "  </thead>\n",
              "  <tbody>\n",
              "    <tr>\n",
              "      <th>0.00</th>\n",
              "      <td>0.230769</td>\n",
              "      <td>1.000000</td>\n",
              "      <td>0.0</td>\n",
              "      <td>0.230769</td>\n",
              "      <td>1.000000</td>\n",
              "      <td>0.375000</td>\n",
              "    </tr>\n",
              "    <tr>\n",
              "      <th>0.05</th>\n",
              "      <td>0.538462</td>\n",
              "      <td>1.000000</td>\n",
              "      <td>0.4</td>\n",
              "      <td>0.333333</td>\n",
              "      <td>1.000000</td>\n",
              "      <td>0.500000</td>\n",
              "    </tr>\n",
              "    <tr>\n",
              "      <th>0.10</th>\n",
              "      <td>0.538462</td>\n",
              "      <td>0.666667</td>\n",
              "      <td>0.5</td>\n",
              "      <td>0.285714</td>\n",
              "      <td>0.666667</td>\n",
              "      <td>0.400000</td>\n",
              "    </tr>\n",
              "    <tr>\n",
              "      <th>0.15</th>\n",
              "      <td>0.615385</td>\n",
              "      <td>0.666667</td>\n",
              "      <td>0.6</td>\n",
              "      <td>0.333333</td>\n",
              "      <td>0.666667</td>\n",
              "      <td>0.444444</td>\n",
              "    </tr>\n",
              "    <tr>\n",
              "      <th>0.20</th>\n",
              "      <td>0.615385</td>\n",
              "      <td>0.666667</td>\n",
              "      <td>0.6</td>\n",
              "      <td>0.333333</td>\n",
              "      <td>0.666667</td>\n",
              "      <td>0.444444</td>\n",
              "    </tr>\n",
              "    <tr>\n",
              "      <th>0.25</th>\n",
              "      <td>0.769231</td>\n",
              "      <td>0.666667</td>\n",
              "      <td>0.8</td>\n",
              "      <td>0.500000</td>\n",
              "      <td>0.666667</td>\n",
              "      <td>0.571429</td>\n",
              "    </tr>\n",
              "    <tr>\n",
              "      <th>0.30</th>\n",
              "      <td>0.923077</td>\n",
              "      <td>0.666667</td>\n",
              "      <td>1.0</td>\n",
              "      <td>1.000000</td>\n",
              "      <td>0.666667</td>\n",
              "      <td>0.800000</td>\n",
              "    </tr>\n",
              "    <tr>\n",
              "      <th>0.35</th>\n",
              "      <td>0.923077</td>\n",
              "      <td>0.666667</td>\n",
              "      <td>1.0</td>\n",
              "      <td>1.000000</td>\n",
              "      <td>0.666667</td>\n",
              "      <td>0.800000</td>\n",
              "    </tr>\n",
              "    <tr>\n",
              "      <th>0.40</th>\n",
              "      <td>0.923077</td>\n",
              "      <td>0.666667</td>\n",
              "      <td>1.0</td>\n",
              "      <td>1.000000</td>\n",
              "      <td>0.666667</td>\n",
              "      <td>0.800000</td>\n",
              "    </tr>\n",
              "    <tr>\n",
              "      <th>0.45</th>\n",
              "      <td>0.923077</td>\n",
              "      <td>0.666667</td>\n",
              "      <td>1.0</td>\n",
              "      <td>1.000000</td>\n",
              "      <td>0.666667</td>\n",
              "      <td>0.800000</td>\n",
              "    </tr>\n",
              "    <tr>\n",
              "      <th>0.50</th>\n",
              "      <td>0.923077</td>\n",
              "      <td>0.666667</td>\n",
              "      <td>1.0</td>\n",
              "      <td>1.000000</td>\n",
              "      <td>0.666667</td>\n",
              "      <td>0.800000</td>\n",
              "    </tr>\n",
              "    <tr>\n",
              "      <th>0.55</th>\n",
              "      <td>0.923077</td>\n",
              "      <td>0.666667</td>\n",
              "      <td>1.0</td>\n",
              "      <td>1.000000</td>\n",
              "      <td>0.666667</td>\n",
              "      <td>0.800000</td>\n",
              "    </tr>\n",
              "    <tr>\n",
              "      <th>0.60</th>\n",
              "      <td>0.923077</td>\n",
              "      <td>0.666667</td>\n",
              "      <td>1.0</td>\n",
              "      <td>1.000000</td>\n",
              "      <td>0.666667</td>\n",
              "      <td>0.800000</td>\n",
              "    </tr>\n",
              "    <tr>\n",
              "      <th>0.65</th>\n",
              "      <td>0.923077</td>\n",
              "      <td>0.666667</td>\n",
              "      <td>1.0</td>\n",
              "      <td>1.000000</td>\n",
              "      <td>0.666667</td>\n",
              "      <td>0.800000</td>\n",
              "    </tr>\n",
              "    <tr>\n",
              "      <th>0.70</th>\n",
              "      <td>0.923077</td>\n",
              "      <td>0.666667</td>\n",
              "      <td>1.0</td>\n",
              "      <td>1.000000</td>\n",
              "      <td>0.666667</td>\n",
              "      <td>0.800000</td>\n",
              "    </tr>\n",
              "    <tr>\n",
              "      <th>0.75</th>\n",
              "      <td>0.846154</td>\n",
              "      <td>0.333333</td>\n",
              "      <td>1.0</td>\n",
              "      <td>1.000000</td>\n",
              "      <td>0.333333</td>\n",
              "      <td>0.500000</td>\n",
              "    </tr>\n",
              "    <tr>\n",
              "      <th>0.80</th>\n",
              "      <td>0.846154</td>\n",
              "      <td>0.333333</td>\n",
              "      <td>1.0</td>\n",
              "      <td>1.000000</td>\n",
              "      <td>0.333333</td>\n",
              "      <td>0.500000</td>\n",
              "    </tr>\n",
              "    <tr>\n",
              "      <th>0.85</th>\n",
              "      <td>0.846154</td>\n",
              "      <td>0.333333</td>\n",
              "      <td>1.0</td>\n",
              "      <td>1.000000</td>\n",
              "      <td>0.333333</td>\n",
              "      <td>0.500000</td>\n",
              "    </tr>\n",
              "    <tr>\n",
              "      <th>0.90</th>\n",
              "      <td>0.769231</td>\n",
              "      <td>0.000000</td>\n",
              "      <td>1.0</td>\n",
              "      <td>NaN</td>\n",
              "      <td>0.000000</td>\n",
              "      <td>NaN</td>\n",
              "    </tr>\n",
              "    <tr>\n",
              "      <th>0.95</th>\n",
              "      <td>0.769231</td>\n",
              "      <td>0.000000</td>\n",
              "      <td>1.0</td>\n",
              "      <td>NaN</td>\n",
              "      <td>0.000000</td>\n",
              "      <td>NaN</td>\n",
              "    </tr>\n",
              "  </tbody>\n",
              "</table>\n",
              "</div>"
            ],
            "text/plain": [
              "      Accuracy  Sensitivity  Specificity  Precision    Recall  FMeasure\n",
              "0.00  0.230769     1.000000          0.0   0.230769  1.000000  0.375000\n",
              "0.05  0.538462     1.000000          0.4   0.333333  1.000000  0.500000\n",
              "0.10  0.538462     0.666667          0.5   0.285714  0.666667  0.400000\n",
              "0.15  0.615385     0.666667          0.6   0.333333  0.666667  0.444444\n",
              "0.20  0.615385     0.666667          0.6   0.333333  0.666667  0.444444\n",
              "0.25  0.769231     0.666667          0.8   0.500000  0.666667  0.571429\n",
              "0.30  0.923077     0.666667          1.0   1.000000  0.666667  0.800000\n",
              "0.35  0.923077     0.666667          1.0   1.000000  0.666667  0.800000\n",
              "0.40  0.923077     0.666667          1.0   1.000000  0.666667  0.800000\n",
              "0.45  0.923077     0.666667          1.0   1.000000  0.666667  0.800000\n",
              "0.50  0.923077     0.666667          1.0   1.000000  0.666667  0.800000\n",
              "0.55  0.923077     0.666667          1.0   1.000000  0.666667  0.800000\n",
              "0.60  0.923077     0.666667          1.0   1.000000  0.666667  0.800000\n",
              "0.65  0.923077     0.666667          1.0   1.000000  0.666667  0.800000\n",
              "0.70  0.923077     0.666667          1.0   1.000000  0.666667  0.800000\n",
              "0.75  0.846154     0.333333          1.0   1.000000  0.333333  0.500000\n",
              "0.80  0.846154     0.333333          1.0   1.000000  0.333333  0.500000\n",
              "0.85  0.846154     0.333333          1.0   1.000000  0.333333  0.500000\n",
              "0.90  0.769231     0.000000          1.0        NaN  0.000000       NaN\n",
              "0.95  0.769231     0.000000          1.0        NaN  0.000000       NaN"
            ]
          },
          "metadata": {
            "tags": []
          },
          "execution_count": 112
        }
      ]
    },
    {
      "cell_type": "code",
      "metadata": {
        "colab": {
          "base_uri": "https://localhost:8080/",
          "height": 304
        },
        "id": "l3Ct_CEqHgq5",
        "outputId": "1fe2b2bb-f7bb-49f7-c4be-215a19bc4ed4"
      },
      "source": [
        "plt.plot(table2.Recall, table2.Precision , marker = \"*\", linewidth = 1)\n",
        "plt.xlabel(\"Recall\")\n",
        "plt.ylabel(\"Precision\")\n",
        "plt.style.use(\"fivethirtyeight\")\n",
        "plt.show()\n",
        "# Plot between Precision and Recall "
      ],
      "execution_count": 113,
      "outputs": [
        {
          "output_type": "display_data",
          "data": {
            "image/png": "[encoded data removed]",
            "text/plain": [
              "<Figure size 432x288 with 1 Axes>"
            ]
          },
          "metadata": {
            "tags": []
          }
        }
      ]
    },
    {
      "cell_type": "code",
      "metadata": {
        "id": "AiMvz2lVHgq6"
      },
      "source": [
        "#Based on the above table we can select a threshold of 0.5"
      ],
      "execution_count": 114,
      "outputs": []
    },
    {
      "cell_type": "code",
      "metadata": {
        "colab": {
          "base_uri": "https://localhost:8080/",
          "height": 343
        },
        "id": "Ob-Dr54tHgq6",
        "outputId": "e355e2d8-89c7-4535-cac6-1146bd0610b1"
      },
      "source": [
        "from sklearn.metrics import plot_precision_recall_curve\n",
        "disp = plot_precision_recall_curve(lr, X_train, Y_train, color = \"orange\")\n",
        "disp.ax_.set_title('Precision-Recall curve - Training Data') \n",
        "#Precision vs Recall Curve for Train"
      ],
      "execution_count": 115,
      "outputs": [
        {
          "output_type": "execute_result",
          "data": {
            "text/plain": [
              "Text(0.5, 1.0, 'Precision-Recall curve - Training Data')"
            ]
          },
          "metadata": {
            "tags": []
          },
          "execution_count": 115
        },
        {
          "output_type": "display_data",
          "data": {
            "image/png": "[encoded data removed]",
            "text/plain": [
              "<Figure size 432x288 with 1 Axes>"
            ]
          },
          "metadata": {
            "tags": []
          }
        }
      ]
    },
    {
      "cell_type": "code",
      "metadata": {
        "id": "bscmYhMhHgq7"
      },
      "source": [
        "from sklearn import metrics\n",
        "from sklearn.datasets import make_classification\n",
        "from sklearn.dummy import DummyClassifier\n",
        "from sklearn.linear_model import LogisticRegression\n",
        "from sklearn.model_selection import train_test_split\n",
        "from sklearn.metrics import precision_recall_curve\n",
        "from sklearn.metrics import auc"
      ],
      "execution_count": 116,
      "outputs": []
    },
    {
      "cell_type": "code",
      "metadata": {
        "id": "bKrGTxScHgq8"
      },
      "source": [
        "precision, recall, threshold = precision_recall_curve(Y_train,pred_Y_lr)"
      ],
      "execution_count": 117,
      "outputs": []
    },
    {
      "cell_type": "code",
      "metadata": {
        "colab": {
          "base_uri": "https://localhost:8080/"
        },
        "id": "rxxytSRgHgq8",
        "outputId": "68737314-0b33-4c83-aeb3-634c83c3681a"
      },
      "source": [
        "precision, recall, threshold"
      ],
      "execution_count": 118,
      "outputs": [
        {
          "output_type": "execute_result",
          "data": {
            "text/plain": [
              "(array([0.23076923, 1.        , 1.        ]),\n",
              " array([1.        , 0.66666667, 0.        ]),\n",
              " array([0, 1]))"
            ]
          },
          "metadata": {
            "tags": []
          },
          "execution_count": 118
        }
      ]
    },
    {
      "cell_type": "code",
      "metadata": {
        "id": "Rgy4ENidHgq9"
      },
      "source": [
        "from sklearn import metrics\n",
        "from sklearn.datasets import make_classification\n",
        "from sklearn.dummy import DummyClassifier\n",
        "from sklearn.linear_model import LogisticRegression\n",
        "from sklearn.model_selection import train_test_split\n",
        "from sklearn.metrics import precision_recall_curve\n",
        "from sklearn.metrics import auc"
      ],
      "execution_count": 119,
      "outputs": []
    },
    {
      "cell_type": "code",
      "metadata": {
        "colab": {
          "base_uri": "https://localhost:8080/"
        },
        "id": "Ayh9zM9PHgq9",
        "outputId": "fe44cc10-c3ab-4140-bb30-63f6ea3cc67d"
      },
      "source": [
        "precision, recall, _ = precision_recall_curve(Y_train, pred_Y_lr)\n",
        "auc_score = auc(recall, precision)\n",
        "print('Logistic Regression AUC: %.3f' % auc_score)"
      ],
      "execution_count": 120,
      "outputs": [
        {
          "output_type": "stream",
          "text": [
            "Logistic Regression AUC: 0.872\n"
          ],
          "name": "stdout"
        }
      ]
    },
    {
      "cell_type": "code",
      "metadata": {
        "id": "OTZ9GTNuHgq-"
      },
      "source": [
        "pred_Y_lr_test = lr.predict(X_test)"
      ],
      "execution_count": 121,
      "outputs": []
    },
    {
      "cell_type": "code",
      "metadata": {
        "id": "GmXTQ6AUHgq_"
      },
      "source": [
        "pred_Y_lr_test_proba = lr.predict_proba(X_test)"
      ],
      "execution_count": 122,
      "outputs": []
    },
    {
      "cell_type": "code",
      "metadata": {
        "id": "H5IOY-BjHgq_"
      },
      "source": [
        "lr_proba_test = pred_Y_lr_test_proba[:,1]"
      ],
      "execution_count": 123,
      "outputs": []
    },
    {
      "cell_type": "code",
      "metadata": {
        "id": "qHgSCp-7Hgq_"
      },
      "source": [
        "tn, fp, fn, tp = confusion_matrix(Y_test,pred_Y_lr_test).ravel()"
      ],
      "execution_count": 124,
      "outputs": []
    },
    {
      "cell_type": "code",
      "metadata": {
        "scrolled": true,
        "colab": {
          "base_uri": "https://localhost:8080/"
        },
        "id": "2fQVmq-THgrA",
        "outputId": "636bbd63-624e-4670-f7ee-1c425e4ba1a6"
      },
      "source": [
        "tn, fp, fn, tp"
      ],
      "execution_count": 125,
      "outputs": [
        {
          "output_type": "execute_result",
          "data": {
            "text/plain": [
              "(4, 1, 1, 0)"
            ]
          },
          "metadata": {
            "tags": []
          },
          "execution_count": 125
        }
      ]
    },
    {
      "cell_type": "code",
      "metadata": {
        "colab": {
          "base_uri": "https://localhost:8080/",
          "height": 304
        },
        "id": "Dc_01aESHgrB",
        "outputId": "45c5e8c2-9053-48c4-c993-bbee54c2f192"
      },
      "source": [
        "from mlxtend.plotting import plot_confusion_matrix\n",
        "import matplotlib.pyplot as plt\n",
        "import numpy as np\n",
        "\n",
        "binary1 = np.array([[85281, 28],[43, 91]])\n",
        "fig, ax = plot_confusion_matrix(conf_mat=binary1)\n",
        "plt.show()"
      ],
      "execution_count": 126,
      "outputs": [
        {
          "output_type": "display_data",
          "data": {
            "image/png": "[encoded data removed]",
            "text/plain": [
              "<Figure size 432x288 with 1 Axes>"
            ]
          },
          "metadata": {
            "tags": []
          }
        }
      ]
    },
    {
      "cell_type": "code",
      "metadata": {
        "id": "iuk_ktdGHgrC"
      },
      "source": [
        "precision, recall, threshold = precision_recall_curve(Y_test,pred_Y_lr_test)"
      ],
      "execution_count": 127,
      "outputs": []
    },
    {
      "cell_type": "code",
      "metadata": {
        "colab": {
          "base_uri": "https://localhost:8080/"
        },
        "id": "MWS7MsCpHgrD",
        "outputId": "3be3bb71-23c3-47db-ff18-fa762a57f6d7"
      },
      "source": [
        "precision, recall, threshold"
      ],
      "execution_count": 128,
      "outputs": [
        {
          "output_type": "execute_result",
          "data": {
            "text/plain": [
              "(array([0.16666667, 0.        , 1.        ]),\n",
              " array([1., 0., 0.]),\n",
              " array([0, 1]))"
            ]
          },
          "metadata": {
            "tags": []
          },
          "execution_count": 128
        }
      ]
    },
    {
      "cell_type": "code",
      "metadata": {
        "scrolled": true,
        "colab": {
          "base_uri": "https://localhost:8080/",
          "height": 343
        },
        "id": "UpnKoibJHgrE",
        "outputId": "a06d8d07-c157-4138-ad46-885e21c97078"
      },
      "source": [
        "from sklearn.metrics import plot_precision_recall_curve\n",
        "disp = plot_precision_recall_curve(lr, X_test, Y_test, color = \"red\")\n",
        "disp.ax_.set_title('Precision-Recall curve - Test Data') \n",
        "#Precision vs Recall Curve for Test Data"
      ],
      "execution_count": 129,
      "outputs": [
        {
          "output_type": "execute_result",
          "data": {
            "text/plain": [
              "Text(0.5, 1.0, 'Precision-Recall curve - Test Data')"
            ]
          },
          "metadata": {
            "tags": []
          },
          "execution_count": 129
        },
        {
          "output_type": "display_data",
          "data": {
            "image/png": "[encoded data removed]",
            "text/plain": [
              "<Figure size 432x288 with 1 Axes>"
            ]
          },
          "metadata": {
            "tags": []
          }
        }
      ]
    },
    {
      "cell_type": "markdown",
      "metadata": {
        "id": "PYvwTeXqHgrF"
      },
      "source": [
        "# Random Forest"
      ]
    },
    {
      "cell_type": "code",
      "metadata": {
        "id": "8O0aMwsUHgrF"
      },
      "source": [
        "import pandas as pd\n",
        "import numpy as np\n",
        "import scipy as sp \n",
        "from scipy import stats\n",
        "import matplotlib.pyplot as plt\n",
        "from sklearn.model_selection import cross_val_score\n",
        "from sklearn.ensemble import RandomForestClassifier\n",
        "from sklearn.metrics import confusion_matrix\n",
        "# suppressing warnings\n",
        "import warnings\n",
        "warnings.filterwarnings('ignore')"
      ],
      "execution_count": null,
      "outputs": []
    },
    {
      "cell_type": "code",
      "metadata": {
        "id": "AVdfCUlSHgrF",
        "outputId": "59000c65-2385-4c5a-c16b-5f4a41da37f2"
      },
      "source": [
        "X_train"
      ],
      "execution_count": null,
      "outputs": [
        {
          "output_type": "execute_result",
          "data": {
            "text/html": [
              "<div>\n",
              "<style scoped>\n",
              "    .dataframe tbody tr th:only-of-type {\n",
              "        vertical-align: middle;\n",
              "    }\n",
              "\n",
              "    .dataframe tbody tr th {\n",
              "        vertical-align: top;\n",
              "    }\n",
              "\n",
              "    .dataframe thead th {\n",
              "        text-align: right;\n",
              "    }\n",
              "</style>\n",
              "<table border=\"1\" class=\"dataframe\">\n",
              "  <thead>\n",
              "    <tr style=\"text-align: right;\">\n",
              "      <th></th>\n",
              "      <th>V28</th>\n",
              "      <th>V1</th>\n",
              "      <th>V8</th>\n",
              "      <th>V15</th>\n",
              "      <th>V7</th>\n",
              "      <th>V21</th>\n",
              "      <th>V4</th>\n",
              "      <th>Time_ Standardized</th>\n",
              "      <th>V22</th>\n",
              "      <th>V25</th>\n",
              "      <th>...</th>\n",
              "      <th>V19</th>\n",
              "      <th>V20</th>\n",
              "      <th>V18</th>\n",
              "      <th>V16</th>\n",
              "      <th>V14</th>\n",
              "      <th>V12</th>\n",
              "      <th>V23</th>\n",
              "      <th>V11</th>\n",
              "      <th>V27</th>\n",
              "      <th>V13</th>\n",
              "    </tr>\n",
              "  </thead>\n",
              "  <tbody>\n",
              "    <tr>\n",
              "      <td>19882</td>\n",
              "      <td>0.019545</td>\n",
              "      <td>1.223084</td>\n",
              "      <td>-0.117419</td>\n",
              "      <td>0.015495</td>\n",
              "      <td>-0.508023</td>\n",
              "      <td>0.252644</td>\n",
              "      <td>-0.656490</td>\n",
              "      <td>-1.351726</td>\n",
              "      <td>0.463601</td>\n",
              "      <td>0.414817</td>\n",
              "      <td>...</td>\n",
              "      <td>0.707894</td>\n",
              "      <td>0.214134</td>\n",
              "      <td>-0.939646</td>\n",
              "      <td>1.249910</td>\n",
              "      <td>0.076379</td>\n",
              "      <td>0.159828</td>\n",
              "      <td>-0.092708</td>\n",
              "      <td>1.629016</td>\n",
              "      <td>-0.012273</td>\n",
              "      <td>0.063098</td>\n",
              "    </tr>\n",
              "    <tr>\n",
              "      <td>28627</td>\n",
              "      <td>0.376354</td>\n",
              "      <td>-2.738265</td>\n",
              "      <td>-0.332107</td>\n",
              "      <td>0.322808</td>\n",
              "      <td>0.855199</td>\n",
              "      <td>-0.060815</td>\n",
              "      <td>-0.792852</td>\n",
              "      <td>-1.257724</td>\n",
              "      <td>0.090349</td>\n",
              "      <td>-0.057352</td>\n",
              "      <td>...</td>\n",
              "      <td>-0.895217</td>\n",
              "      <td>0.205705</td>\n",
              "      <td>-0.599378</td>\n",
              "      <td>0.254932</td>\n",
              "      <td>-0.775479</td>\n",
              "      <td>0.845622</td>\n",
              "      <td>0.113117</td>\n",
              "      <td>-0.165012</td>\n",
              "      <td>-0.902677</td>\n",
              "      <td>1.540066</td>\n",
              "    </tr>\n",
              "    <tr>\n",
              "      <td>252282</td>\n",
              "      <td>-0.023058</td>\n",
              "      <td>1.941172</td>\n",
              "      <td>-0.496164</td>\n",
              "      <td>1.134597</td>\n",
              "      <td>0.156930</td>\n",
              "      <td>-0.146344</td>\n",
              "      <td>-2.651533</td>\n",
              "      <td>1.282894</td>\n",
              "      <td>-0.100191</td>\n",
              "      <td>0.297133</td>\n",
              "      <td>...</td>\n",
              "      <td>0.238295</td>\n",
              "      <td>-0.288116</td>\n",
              "      <td>1.212992</td>\n",
              "      <td>-2.868543</td>\n",
              "      <td>0.603560</td>\n",
              "      <td>0.309101</td>\n",
              "      <td>-0.060454</td>\n",
              "      <td>-0.781103</td>\n",
              "      <td>-0.000465</td>\n",
              "      <td>-0.174029</td>\n",
              "    </tr>\n",
              "    <tr>\n",
              "      <td>283094</td>\n",
              "      <td>1.240884</td>\n",
              "      <td>-10.243984</td>\n",
              "      <td>3.746472</td>\n",
              "      <td>-0.837132</td>\n",
              "      <td>-2.164932</td>\n",
              "      <td>-0.996068</td>\n",
              "      <td>-2.460064</td>\n",
              "      <td>1.612113</td>\n",
              "      <td>-1.425127</td>\n",
              "      <td>1.492283</td>\n",
              "      <td>...</td>\n",
              "      <td>-0.428189</td>\n",
              "      <td>3.406673</td>\n",
              "      <td>-0.172658</td>\n",
              "      <td>0.660813</td>\n",
              "      <td>0.303558</td>\n",
              "      <td>2.152466</td>\n",
              "      <td>0.660345</td>\n",
              "      <td>-0.552959</td>\n",
              "      <td>2.177236</td>\n",
              "      <td>0.837591</td>\n",
              "    </tr>\n",
              "    <tr>\n",
              "      <td>201431</td>\n",
              "      <td>0.500579</td>\n",
              "      <td>-3.118979</td>\n",
              "      <td>-16.942606</td>\n",
              "      <td>0.747486</td>\n",
              "      <td>-9.120091</td>\n",
              "      <td>-8.728597</td>\n",
              "      <td>-0.978949</td>\n",
              "      <td>0.822757</td>\n",
              "      <td>2.958235</td>\n",
              "      <td>-0.018582</td>\n",
              "      <td>...</td>\n",
              "      <td>-1.423249</td>\n",
              "      <td>4.412495</td>\n",
              "      <td>0.487832</td>\n",
              "      <td>1.390717</td>\n",
              "      <td>2.856969</td>\n",
              "      <td>1.987735</td>\n",
              "      <td>1.255257</td>\n",
              "      <td>-0.790111</td>\n",
              "      <td>-0.005474</td>\n",
              "      <td>-1.597984</td>\n",
              "    </tr>\n",
              "    <tr>\n",
              "      <td>...</td>\n",
              "      <td>...</td>\n",
              "      <td>...</td>\n",
              "      <td>...</td>\n",
              "      <td>...</td>\n",
              "      <td>...</td>\n",
              "      <td>...</td>\n",
              "      <td>...</td>\n",
              "      <td>...</td>\n",
              "      <td>...</td>\n",
              "      <td>...</td>\n",
              "      <td>...</td>\n",
              "      <td>...</td>\n",
              "      <td>...</td>\n",
              "      <td>...</td>\n",
              "      <td>...</td>\n",
              "      <td>...</td>\n",
              "      <td>...</td>\n",
              "      <td>...</td>\n",
              "      <td>...</td>\n",
              "      <td>...</td>\n",
              "      <td>...</td>\n",
              "    </tr>\n",
              "    <tr>\n",
              "      <td>260257</td>\n",
              "      <td>-0.043576</td>\n",
              "      <td>2.104735</td>\n",
              "      <td>0.175389</td>\n",
              "      <td>0.173482</td>\n",
              "      <td>-1.656851</td>\n",
              "      <td>0.488025</td>\n",
              "      <td>-1.009783</td>\n",
              "      <td>1.361524</td>\n",
              "      <td>1.507397</td>\n",
              "      <td>-0.403562</td>\n",
              "      <td>...</td>\n",
              "      <td>0.427254</td>\n",
              "      <td>0.065773</td>\n",
              "      <td>-0.251647</td>\n",
              "      <td>1.957444</td>\n",
              "      <td>-0.812430</td>\n",
              "      <td>0.676295</td>\n",
              "      <td>0.149724</td>\n",
              "      <td>0.873711</td>\n",
              "      <td>0.058842</td>\n",
              "      <td>1.510768</td>\n",
              "    </tr>\n",
              "    <tr>\n",
              "      <td>64162</td>\n",
              "      <td>-0.030211</td>\n",
              "      <td>-0.471512</td>\n",
              "      <td>0.840939</td>\n",
              "      <td>2.043929</td>\n",
              "      <td>0.002159</td>\n",
              "      <td>0.310285</td>\n",
              "      <td>0.857215</td>\n",
              "      <td>-0.921450</td>\n",
              "      <td>0.977923</td>\n",
              "      <td>-0.495253</td>\n",
              "      <td>...</td>\n",
              "      <td>-1.329392</td>\n",
              "      <td>-0.302997</td>\n",
              "      <td>-1.935302</td>\n",
              "      <td>-1.511864</td>\n",
              "      <td>0.762662</td>\n",
              "      <td>0.563880</td>\n",
              "      <td>0.093360</td>\n",
              "      <td>0.608457</td>\n",
              "      <td>0.030910</td>\n",
              "      <td>-0.029949</td>\n",
              "    </tr>\n",
              "    <tr>\n",
              "      <td>174179</td>\n",
              "      <td>-0.098112</td>\n",
              "      <td>2.126687</td>\n",
              "      <td>0.052156</td>\n",
              "      <td>0.066012</td>\n",
              "      <td>-0.087291</td>\n",
              "      <td>0.442502</td>\n",
              "      <td>-1.422633</td>\n",
              "      <td>0.568462</td>\n",
              "      <td>1.293620</td>\n",
              "      <td>0.315080</td>\n",
              "      <td>...</td>\n",
              "      <td>0.139524</td>\n",
              "      <td>-0.036445</td>\n",
              "      <td>-2.318056</td>\n",
              "      <td>-0.023609</td>\n",
              "      <td>0.565906</td>\n",
              "      <td>0.117809</td>\n",
              "      <td>-0.064980</td>\n",
              "      <td>1.142851</td>\n",
              "      <td>-0.041218</td>\n",
              "      <td>0.232185</td>\n",
              "    </tr>\n",
              "    <tr>\n",
              "      <td>268687</td>\n",
              "      <td>-0.062229</td>\n",
              "      <td>2.060501</td>\n",
              "      <td>-0.271768</td>\n",
              "      <td>0.162736</td>\n",
              "      <td>0.108868</td>\n",
              "      <td>-0.301496</td>\n",
              "      <td>0.429631</td>\n",
              "      <td>1.443060</td>\n",
              "      <td>-0.789625</td>\n",
              "      <td>-0.337683</td>\n",
              "      <td>...</td>\n",
              "      <td>0.150298</td>\n",
              "      <td>-0.296357</td>\n",
              "      <td>-0.734568</td>\n",
              "      <td>-0.055036</td>\n",
              "      <td>0.499747</td>\n",
              "      <td>-0.156386</td>\n",
              "      <td>0.354650</td>\n",
              "      <td>-0.924880</td>\n",
              "      <td>-0.078106</td>\n",
              "      <td>-1.061793</td>\n",
              "    </tr>\n",
              "    <tr>\n",
              "      <td>241222</td>\n",
              "      <td>-0.545986</td>\n",
              "      <td>-4.311181</td>\n",
              "      <td>-8.358517</td>\n",
              "      <td>-1.539605</td>\n",
              "      <td>-2.365621</td>\n",
              "      <td>8.730592</td>\n",
              "      <td>-0.794847</td>\n",
              "      <td>1.181732</td>\n",
              "      <td>-1.655226</td>\n",
              "      <td>0.020118</td>\n",
              "      <td>...</td>\n",
              "      <td>-1.887557</td>\n",
              "      <td>-2.399830</td>\n",
              "      <td>0.930180</td>\n",
              "      <td>0.877187</td>\n",
              "      <td>0.179105</td>\n",
              "      <td>0.954357</td>\n",
              "      <td>0.826381</td>\n",
              "      <td>0.137327</td>\n",
              "      <td>-0.659891</td>\n",
              "      <td>-1.324286</td>\n",
              "    </tr>\n",
              "  </tbody>\n",
              "</table>\n",
              "<p>199364 rows × 30 columns</p>\n",
              "</div>"
            ],
            "text/plain": [
              "             V28         V1         V8       V15        V7       V21  \\\n",
              "19882   0.019545   1.223084  -0.117419  0.015495 -0.508023  0.252644   \n",
              "28627   0.376354  -2.738265  -0.332107  0.322808  0.855199 -0.060815   \n",
              "252282 -0.023058   1.941172  -0.496164  1.134597  0.156930 -0.146344   \n",
              "283094  1.240884 -10.243984   3.746472 -0.837132 -2.164932 -0.996068   \n",
              "201431  0.500579  -3.118979 -16.942606  0.747486 -9.120091 -8.728597   \n",
              "...          ...        ...        ...       ...       ...       ...   \n",
              "260257 -0.043576   2.104735   0.175389  0.173482 -1.656851  0.488025   \n",
              "64162  -0.030211  -0.471512   0.840939  2.043929  0.002159  0.310285   \n",
              "174179 -0.098112   2.126687   0.052156  0.066012 -0.087291  0.442502   \n",
              "268687 -0.062229   2.060501  -0.271768  0.162736  0.108868 -0.301496   \n",
              "241222 -0.545986  -4.311181  -8.358517 -1.539605 -2.365621  8.730592   \n",
              "\n",
              "              V4  Time_ Standardized       V22       V25  ...       V19  \\\n",
              "19882  -0.656490           -1.351726  0.463601  0.414817  ...  0.707894   \n",
              "28627  -0.792852           -1.257724  0.090349 -0.057352  ... -0.895217   \n",
              "252282 -2.651533            1.282894 -0.100191  0.297133  ...  0.238295   \n",
              "283094 -2.460064            1.612113 -1.425127  1.492283  ... -0.428189   \n",
              "201431 -0.978949            0.822757  2.958235 -0.018582  ... -1.423249   \n",
              "...          ...                 ...       ...       ...  ...       ...   \n",
              "260257 -1.009783            1.361524  1.507397 -0.403562  ...  0.427254   \n",
              "64162   0.857215           -0.921450  0.977923 -0.495253  ... -1.329392   \n",
              "174179 -1.422633            0.568462  1.293620  0.315080  ...  0.139524   \n",
              "268687  0.429631            1.443060 -0.789625 -0.337683  ...  0.150298   \n",
              "241222 -0.794847            1.181732 -1.655226  0.020118  ... -1.887557   \n",
              "\n",
              "             V20       V18       V16       V14       V12       V23       V11  \\\n",
              "19882   0.214134 -0.939646  1.249910  0.076379  0.159828 -0.092708  1.629016   \n",
              "28627   0.205705 -0.599378  0.254932 -0.775479  0.845622  0.113117 -0.165012   \n",
              "252282 -0.288116  1.212992 -2.868543  0.603560  0.309101 -0.060454 -0.781103   \n",
              "283094  3.406673 -0.172658  0.660813  0.303558  2.152466  0.660345 -0.552959   \n",
              "201431  4.412495  0.487832  1.390717  2.856969  1.987735  1.255257 -0.790111   \n",
              "...          ...       ...       ...       ...       ...       ...       ...   \n",
              "260257  0.065773 -0.251647  1.957444 -0.812430  0.676295  0.149724  0.873711   \n",
              "64162  -0.302997 -1.935302 -1.511864  0.762662  0.563880  0.093360  0.608457   \n",
              "174179 -0.036445 -2.318056 -0.023609  0.565906  0.117809 -0.064980  1.142851   \n",
              "268687 -0.296357 -0.734568 -0.055036  0.499747 -0.156386  0.354650 -0.924880   \n",
              "241222 -2.399830  0.930180  0.877187  0.179105  0.954357  0.826381  0.137327   \n",
              "\n",
              "             V27       V13  \n",
              "19882  -0.012273  0.063098  \n",
              "28627  -0.902677  1.540066  \n",
              "252282 -0.000465 -0.174029  \n",
              "283094  2.177236  0.837591  \n",
              "201431 -0.005474 -1.597984  \n",
              "...          ...       ...  \n",
              "260257  0.058842  1.510768  \n",
              "64162   0.030910 -0.029949  \n",
              "174179 -0.041218  0.232185  \n",
              "268687 -0.078106 -1.061793  \n",
              "241222 -0.659891 -1.324286  \n",
              "\n",
              "[199364 rows x 30 columns]"
            ]
          },
          "metadata": {
            "tags": []
          },
          "execution_count": 105
        }
      ]
    },
    {
      "cell_type": "code",
      "metadata": {
        "id": "JdmKAnzeHgrF",
        "outputId": "e00452ef-c1b8-4053-e55c-98472e0d4449"
      },
      "source": [
        "Y_train"
      ],
      "execution_count": null,
      "outputs": [
        {
          "output_type": "execute_result",
          "data": {
            "text/plain": [
              "19882     0\n",
              "28627     0\n",
              "252282    0\n",
              "283094    0\n",
              "201431    0\n",
              "         ..\n",
              "260257    0\n",
              "64162     0\n",
              "174179    0\n",
              "268687    0\n",
              "241222    0\n",
              "Name: Class, Length: 199364, dtype: int64"
            ]
          },
          "metadata": {
            "tags": []
          },
          "execution_count": 106
        }
      ]
    },
    {
      "cell_type": "code",
      "metadata": {
        "id": "2peg94Y5HgrG",
        "outputId": "5e5a04d2-ab61-4c44-e417-226368c4e702"
      },
      "source": [
        "X_test"
      ],
      "execution_count": null,
      "outputs": [
        {
          "output_type": "execute_result",
          "data": {
            "text/html": [
              "<div>\n",
              "<style scoped>\n",
              "    .dataframe tbody tr th:only-of-type {\n",
              "        vertical-align: middle;\n",
              "    }\n",
              "\n",
              "    .dataframe tbody tr th {\n",
              "        vertical-align: top;\n",
              "    }\n",
              "\n",
              "    .dataframe thead th {\n",
              "        text-align: right;\n",
              "    }\n",
              "</style>\n",
              "<table border=\"1\" class=\"dataframe\">\n",
              "  <thead>\n",
              "    <tr style=\"text-align: right;\">\n",
              "      <th></th>\n",
              "      <th>V28</th>\n",
              "      <th>V1</th>\n",
              "      <th>V8</th>\n",
              "      <th>V15</th>\n",
              "      <th>V7</th>\n",
              "      <th>V21</th>\n",
              "      <th>V4</th>\n",
              "      <th>Time_ Standardized</th>\n",
              "      <th>V22</th>\n",
              "      <th>V25</th>\n",
              "      <th>...</th>\n",
              "      <th>V19</th>\n",
              "      <th>V20</th>\n",
              "      <th>V18</th>\n",
              "      <th>V16</th>\n",
              "      <th>V14</th>\n",
              "      <th>V12</th>\n",
              "      <th>V23</th>\n",
              "      <th>V11</th>\n",
              "      <th>V27</th>\n",
              "      <th>V13</th>\n",
              "    </tr>\n",
              "  </thead>\n",
              "  <tbody>\n",
              "    <tr>\n",
              "      <td>259433</td>\n",
              "      <td>-0.331451</td>\n",
              "      <td>-0.763085</td>\n",
              "      <td>-0.865043</td>\n",
              "      <td>-0.299823</td>\n",
              "      <td>-0.317032</td>\n",
              "      <td>0.578154</td>\n",
              "      <td>2.324735</td>\n",
              "      <td>1.354027</td>\n",
              "      <td>0.207495</td>\n",
              "      <td>0.242397</td>\n",
              "      <td>...</td>\n",
              "      <td>2.853027</td>\n",
              "      <td>0.115547</td>\n",
              "      <td>0.170294</td>\n",
              "      <td>-1.728057</td>\n",
              "      <td>-1.484028</td>\n",
              "      <td>0.247109</td>\n",
              "      <td>-0.281702</td>\n",
              "      <td>-1.453601</td>\n",
              "      <td>-0.141732</td>\n",
              "      <td>0.165142</td>\n",
              "    </tr>\n",
              "    <tr>\n",
              "      <td>227002</td>\n",
              "      <td>-0.291331</td>\n",
              "      <td>-1.108486</td>\n",
              "      <td>0.075183</td>\n",
              "      <td>0.506785</td>\n",
              "      <td>1.457932</td>\n",
              "      <td>0.448833</td>\n",
              "      <td>-0.848797</td>\n",
              "      <td>1.054584</td>\n",
              "      <td>1.455308</td>\n",
              "      <td>0.733008</td>\n",
              "      <td>...</td>\n",
              "      <td>-1.083420</td>\n",
              "      <td>-0.401661</td>\n",
              "      <td>-1.589495</td>\n",
              "      <td>-2.026251</td>\n",
              "      <td>1.215360</td>\n",
              "      <td>-0.317460</td>\n",
              "      <td>-0.698171</td>\n",
              "      <td>-0.547704</td>\n",
              "      <td>-0.258377</td>\n",
              "      <td>-1.409582</td>\n",
              "    </tr>\n",
              "    <tr>\n",
              "      <td>251070</td>\n",
              "      <td>-0.046461</td>\n",
              "      <td>1.870897</td>\n",
              "      <td>-0.140235</td>\n",
              "      <td>-1.577461</td>\n",
              "      <td>0.203307</td>\n",
              "      <td>0.101600</td>\n",
              "      <td>3.947951</td>\n",
              "      <td>1.271544</td>\n",
              "      <td>0.491255</td>\n",
              "      <td>0.141246</td>\n",
              "      <td>...</td>\n",
              "      <td>-1.428012</td>\n",
              "      <td>-0.228282</td>\n",
              "      <td>-0.720885</td>\n",
              "      <td>0.348085</td>\n",
              "      <td>-0.171709</td>\n",
              "      <td>0.371409</td>\n",
              "      <td>0.064040</td>\n",
              "      <td>-1.295457</td>\n",
              "      <td>-0.020601</td>\n",
              "      <td>0.751318</td>\n",
              "    </tr>\n",
              "    <tr>\n",
              "      <td>139521</td>\n",
              "      <td>0.145102</td>\n",
              "      <td>-2.957914</td>\n",
              "      <td>0.770526</td>\n",
              "      <td>2.329116</td>\n",
              "      <td>-2.390253</td>\n",
              "      <td>0.506660</td>\n",
              "      <td>-0.809990</td>\n",
              "      <td>-0.244795</td>\n",
              "      <td>0.686935</td>\n",
              "      <td>0.013191</td>\n",
              "      <td>...</td>\n",
              "      <td>-1.243014</td>\n",
              "      <td>0.943083</td>\n",
              "      <td>-1.235610</td>\n",
              "      <td>-1.895343</td>\n",
              "      <td>-0.137933</td>\n",
              "      <td>-0.961439</td>\n",
              "      <td>0.993696</td>\n",
              "      <td>0.523432</td>\n",
              "      <td>-0.005766</td>\n",
              "      <td>-0.035951</td>\n",
              "    </tr>\n",
              "    <tr>\n",
              "      <td>200788</td>\n",
              "      <td>-0.105054</td>\n",
              "      <td>2.140080</td>\n",
              "      <td>-0.306500</td>\n",
              "      <td>-0.689785</td>\n",
              "      <td>0.755034</td>\n",
              "      <td>0.255365</td>\n",
              "      <td>0.176678</td>\n",
              "      <td>0.816292</td>\n",
              "      <td>0.762966</td>\n",
              "      <td>0.695226</td>\n",
              "      <td>...</td>\n",
              "      <td>0.552268</td>\n",
              "      <td>-0.293807</td>\n",
              "      <td>0.263638</td>\n",
              "      <td>-0.318070</td>\n",
              "      <td>1.336235</td>\n",
              "      <td>-0.359194</td>\n",
              "      <td>-0.222853</td>\n",
              "      <td>0.020210</td>\n",
              "      <td>-0.145902</td>\n",
              "      <td>-1.896512</td>\n",
              "    </tr>\n",
              "    <tr>\n",
              "      <td>...</td>\n",
              "      <td>...</td>\n",
              "      <td>...</td>\n",
              "      <td>...</td>\n",
              "      <td>...</td>\n",
              "      <td>...</td>\n",
              "      <td>...</td>\n",
              "      <td>...</td>\n",
              "      <td>...</td>\n",
              "      <td>...</td>\n",
              "      <td>...</td>\n",
              "      <td>...</td>\n",
              "      <td>...</td>\n",
              "      <td>...</td>\n",
              "      <td>...</td>\n",
              "      <td>...</td>\n",
              "      <td>...</td>\n",
              "      <td>...</td>\n",
              "      <td>...</td>\n",
              "      <td>...</td>\n",
              "      <td>...</td>\n",
              "      <td>...</td>\n",
              "    </tr>\n",
              "    <tr>\n",
              "      <td>157536</td>\n",
              "      <td>-0.065529</td>\n",
              "      <td>2.036142</td>\n",
              "      <td>-0.161290</td>\n",
              "      <td>-0.405404</td>\n",
              "      <td>-0.113620</td>\n",
              "      <td>0.155445</td>\n",
              "      <td>0.298705</td>\n",
              "      <td>0.320420</td>\n",
              "      <td>0.745847</td>\n",
              "      <td>0.248627</td>\n",
              "      <td>...</td>\n",
              "      <td>-0.112781</td>\n",
              "      <td>-0.340792</td>\n",
              "      <td>1.013496</td>\n",
              "      <td>-0.057697</td>\n",
              "      <td>2.357899</td>\n",
              "      <td>-2.167954</td>\n",
              "      <td>0.035655</td>\n",
              "      <td>1.747279</td>\n",
              "      <td>-0.035013</td>\n",
              "      <td>0.354799</td>\n",
              "    </tr>\n",
              "    <tr>\n",
              "      <td>42920</td>\n",
              "      <td>0.005636</td>\n",
              "      <td>1.218705</td>\n",
              "      <td>-0.101830</td>\n",
              "      <td>1.243708</td>\n",
              "      <td>0.026948</td>\n",
              "      <td>0.033700</td>\n",
              "      <td>0.579985</td>\n",
              "      <td>-1.126933</td>\n",
              "      <td>0.143778</td>\n",
              "      <td>0.368969</td>\n",
              "      <td>...</td>\n",
              "      <td>-0.642177</td>\n",
              "      <td>-0.193914</td>\n",
              "      <td>-0.832018</td>\n",
              "      <td>-0.219660</td>\n",
              "      <td>0.501986</td>\n",
              "      <td>0.017113</td>\n",
              "      <td>0.022221</td>\n",
              "      <td>0.085181</td>\n",
              "      <td>-0.036199</td>\n",
              "      <td>-0.669037</td>\n",
              "    </tr>\n",
              "    <tr>\n",
              "      <td>26195</td>\n",
              "      <td>0.283098</td>\n",
              "      <td>-0.734036</td>\n",
              "      <td>0.348135</td>\n",
              "      <td>0.426360</td>\n",
              "      <td>-0.785410</td>\n",
              "      <td>0.244730</td>\n",
              "      <td>1.379820</td>\n",
              "      <td>-1.281730</td>\n",
              "      <td>0.702957</td>\n",
              "      <td>-1.290582</td>\n",
              "      <td>...</td>\n",
              "      <td>0.156111</td>\n",
              "      <td>0.182743</td>\n",
              "      <td>-0.219903</td>\n",
              "      <td>-0.608182</td>\n",
              "      <td>-0.323272</td>\n",
              "      <td>0.412283</td>\n",
              "      <td>0.362454</td>\n",
              "      <td>-0.766117</td>\n",
              "      <td>0.310683</td>\n",
              "      <td>0.128284</td>\n",
              "    </tr>\n",
              "    <tr>\n",
              "      <td>84510</td>\n",
              "      <td>0.016326</td>\n",
              "      <td>1.164761</td>\n",
              "      <td>0.117051</td>\n",
              "      <td>0.714861</td>\n",
              "      <td>-0.133083</td>\n",
              "      <td>-0.214057</td>\n",
              "      <td>0.535220</td>\n",
              "      <td>-0.725990</td>\n",
              "      <td>-0.656455</td>\n",
              "      <td>0.091323</td>\n",
              "      <td>...</td>\n",
              "      <td>-0.262754</td>\n",
              "      <td>-0.136052</td>\n",
              "      <td>-0.174180</td>\n",
              "      <td>0.413178</td>\n",
              "      <td>0.062793</td>\n",
              "      <td>0.674040</td>\n",
              "      <td>0.151210</td>\n",
              "      <td>1.744074</td>\n",
              "      <td>-0.015027</td>\n",
              "      <td>-0.505368</td>\n",
              "    </tr>\n",
              "    <tr>\n",
              "      <td>29917</td>\n",
              "      <td>0.113450</td>\n",
              "      <td>0.128163</td>\n",
              "      <td>-0.468764</td>\n",
              "      <td>0.793317</td>\n",
              "      <td>1.268974</td>\n",
              "      <td>0.364471</td>\n",
              "      <td>1.783761</td>\n",
              "      <td>-1.244941</td>\n",
              "      <td>-0.263392</td>\n",
              "      <td>0.558165</td>\n",
              "      <td>...</td>\n",
              "      <td>-0.609140</td>\n",
              "      <td>0.955414</td>\n",
              "      <td>-0.252516</td>\n",
              "      <td>-0.150282</td>\n",
              "      <td>0.894949</td>\n",
              "      <td>-0.167134</td>\n",
              "      <td>-0.602626</td>\n",
              "      <td>-0.233058</td>\n",
              "      <td>-0.124656</td>\n",
              "      <td>-0.878941</td>\n",
              "    </tr>\n",
              "  </tbody>\n",
              "</table>\n",
              "<p>85443 rows × 30 columns</p>\n",
              "</div>"
            ],
            "text/plain": [
              "             V28        V1        V8       V15        V7       V21        V4  \\\n",
              "259433 -0.331451 -0.763085 -0.865043 -0.299823 -0.317032  0.578154  2.324735   \n",
              "227002 -0.291331 -1.108486  0.075183  0.506785  1.457932  0.448833 -0.848797   \n",
              "251070 -0.046461  1.870897 -0.140235 -1.577461  0.203307  0.101600  3.947951   \n",
              "139521  0.145102 -2.957914  0.770526  2.329116 -2.390253  0.506660 -0.809990   \n",
              "200788 -0.105054  2.140080 -0.306500 -0.689785  0.755034  0.255365  0.176678   \n",
              "...          ...       ...       ...       ...       ...       ...       ...   \n",
              "157536 -0.065529  2.036142 -0.161290 -0.405404 -0.113620  0.155445  0.298705   \n",
              "42920   0.005636  1.218705 -0.101830  1.243708  0.026948  0.033700  0.579985   \n",
              "26195   0.283098 -0.734036  0.348135  0.426360 -0.785410  0.244730  1.379820   \n",
              "84510   0.016326  1.164761  0.117051  0.714861 -0.133083 -0.214057  0.535220   \n",
              "29917   0.113450  0.128163 -0.468764  0.793317  1.268974  0.364471  1.783761   \n",
              "\n",
              "        Time_ Standardized       V22       V25  ...       V19       V20  \\\n",
              "259433            1.354027  0.207495  0.242397  ...  2.853027  0.115547   \n",
              "227002            1.054584  1.455308  0.733008  ... -1.083420 -0.401661   \n",
              "251070            1.271544  0.491255  0.141246  ... -1.428012 -0.228282   \n",
              "139521           -0.244795  0.686935  0.013191  ... -1.243014  0.943083   \n",
              "200788            0.816292  0.762966  0.695226  ...  0.552268 -0.293807   \n",
              "...                    ...       ...       ...  ...       ...       ...   \n",
              "157536            0.320420  0.745847  0.248627  ... -0.112781 -0.340792   \n",
              "42920            -1.126933  0.143778  0.368969  ... -0.642177 -0.193914   \n",
              "26195            -1.281730  0.702957 -1.290582  ...  0.156111  0.182743   \n",
              "84510            -0.725990 -0.656455  0.091323  ... -0.262754 -0.136052   \n",
              "29917            -1.244941 -0.263392  0.558165  ... -0.609140  0.955414   \n",
              "\n",
              "             V18       V16       V14       V12       V23       V11       V27  \\\n",
              "259433  0.170294 -1.728057 -1.484028  0.247109 -0.281702 -1.453601 -0.141732   \n",
              "227002 -1.589495 -2.026251  1.215360 -0.317460 -0.698171 -0.547704 -0.258377   \n",
              "251070 -0.720885  0.348085 -0.171709  0.371409  0.064040 -1.295457 -0.020601   \n",
              "139521 -1.235610 -1.895343 -0.137933 -0.961439  0.993696  0.523432 -0.005766   \n",
              "200788  0.263638 -0.318070  1.336235 -0.359194 -0.222853  0.020210 -0.145902   \n",
              "...          ...       ...       ...       ...       ...       ...       ...   \n",
              "157536  1.013496 -0.057697  2.357899 -2.167954  0.035655  1.747279 -0.035013   \n",
              "42920  -0.832018 -0.219660  0.501986  0.017113  0.022221  0.085181 -0.036199   \n",
              "26195  -0.219903 -0.608182 -0.323272  0.412283  0.362454 -0.766117  0.310683   \n",
              "84510  -0.174180  0.413178  0.062793  0.674040  0.151210  1.744074 -0.015027   \n",
              "29917  -0.252516 -0.150282  0.894949 -0.167134 -0.602626 -0.233058 -0.124656   \n",
              "\n",
              "             V13  \n",
              "259433  0.165142  \n",
              "227002 -1.409582  \n",
              "251070  0.751318  \n",
              "139521 -0.035951  \n",
              "200788 -1.896512  \n",
              "...          ...  \n",
              "157536  0.354799  \n",
              "42920  -0.669037  \n",
              "26195   0.128284  \n",
              "84510  -0.505368  \n",
              "29917  -0.878941  \n",
              "\n",
              "[85443 rows x 30 columns]"
            ]
          },
          "metadata": {
            "tags": []
          },
          "execution_count": 107
        }
      ]
    },
    {
      "cell_type": "code",
      "metadata": {
        "id": "fHgoE1ZHHgrG",
        "outputId": "9b8238ad-9abf-41d5-cef8-640b645b4407"
      },
      "source": [
        "Y_test"
      ],
      "execution_count": null,
      "outputs": [
        {
          "output_type": "execute_result",
          "data": {
            "text/plain": [
              "259433    0\n",
              "227002    0\n",
              "251070    0\n",
              "139521    0\n",
              "200788    0\n",
              "         ..\n",
              "157536    0\n",
              "42920     0\n",
              "26195     0\n",
              "84510     0\n",
              "29917     0\n",
              "Name: Class, Length: 85443, dtype: int64"
            ]
          },
          "metadata": {
            "tags": []
          },
          "execution_count": 108
        }
      ]
    },
    {
      "cell_type": "code",
      "metadata": {
        "id": "wcgY4HVkHgrH"
      },
      "source": [
        "def get_performance(actual_Y, pred_Y):\n",
        "    cm = confusion_matrix(actual_Y, pred_Y)\n",
        "    total = sum(sum(cm))\n",
        "    accuracy = (cm[0,0]+cm[1,1])/total\n",
        "    sensitivity = cm[0,0]/(cm[0,0]+cm[0,1])\n",
        "    specificity = cm[1,1]/(cm[1,0]+cm[1,1])\n",
        "    return accuracy, sensitivity, specificity"
      ],
      "execution_count": null,
      "outputs": []
    },
    {
      "cell_type": "code",
      "metadata": {
        "id": "N17Mmq4NHgrH",
        "outputId": "7c143e59-735b-472f-85e2-db7da029a524"
      },
      "source": [
        "rf1 = RandomForestClassifier(n_estimators=2, max_depth=5, random_state=0)\n",
        "rf1.fit(X_train, Y_train)\n",
        "\n",
        "rf2 = RandomForestClassifier(n_estimators=10, max_depth=5, random_state=0)\n",
        "rf2.fit(X_train, Y_train)\n",
        "\n",
        "rf3 = RandomForestClassifier(n_estimators=15, max_depth=5, random_state=0)\n",
        "rf3.fit(X_train, Y_train)\n",
        "\n",
        "rf4 = RandomForestClassifier(n_estimators=20, max_depth=5, random_state=0)\n",
        "rf4.fit(X_train, Y_train)\n",
        "\n",
        "rf5 = RandomForestClassifier(n_estimators=25, max_depth=5, random_state=0)\n",
        "rf5.fit(X_train, Y_train)\n",
        "\n",
        "rf6 = RandomForestClassifier(n_estimators=30, max_depth=5, random_state=0)\n",
        "rf6.fit(X_train, Y_train)\n",
        "\n",
        "rf7 = RandomForestClassifier(n_estimators=35, max_depth=5, random_state=0)\n",
        "rf7.fit(X_train, Y_train)\n",
        "\n",
        "rf8 = RandomForestClassifier(n_estimators=40, max_depth=5, random_state=0)\n",
        "rf8.fit(X_train, Y_train)\n",
        "\n",
        "rf9 = RandomForestClassifier(n_estimators=45, max_depth=5, random_state=0)\n",
        "rf9.fit(X_train, Y_train)\n",
        "\n",
        "rf10 = RandomForestClassifier(n_estimators=50, max_depth=5, random_state=0)\n",
        "rf10.fit(X_train, Y_train)\n",
        "\n",
        "rf11 = RandomForestClassifier(n_estimators=75, max_depth=5, random_state=0)\n",
        "rf11.fit(X_train, Y_train)\n",
        "\n",
        "rf12 = RandomForestClassifier(n_estimators=100, max_depth=5, random_state=0)\n",
        "rf12.fit(X_train, Y_train)\n",
        "\n",
        "rf13 = RandomForestClassifier(n_estimators=150, max_depth=5, random_state=0)\n",
        "rf13.fit(X_train, Y_train)\n",
        "\n",
        "rf14 = RandomForestClassifier(n_estimators=200, max_depth=5, random_state=0)\n",
        "rf14.fit(X_train, Y_train)"
      ],
      "execution_count": null,
      "outputs": [
        {
          "output_type": "execute_result",
          "data": {
            "text/plain": [
              "RandomForestClassifier(bootstrap=True, ccp_alpha=0.0, class_weight=None,\n",
              "                       criterion='gini', max_depth=5, max_features='auto',\n",
              "                       max_leaf_nodes=None, max_samples=None,\n",
              "                       min_impurity_decrease=0.0, min_impurity_split=None,\n",
              "                       min_samples_leaf=1, min_samples_split=2,\n",
              "                       min_weight_fraction_leaf=0.0, n_estimators=200,\n",
              "                       n_jobs=None, oob_score=False, random_state=0, verbose=0,\n",
              "                       warm_start=False)"
            ]
          },
          "metadata": {
            "tags": []
          },
          "execution_count": 110
        }
      ]
    },
    {
      "cell_type": "code",
      "metadata": {
        "id": "D4y-sYwPHgrJ"
      },
      "source": [
        "pred_Y_rf1 = rf1.predict(X_test)\n",
        "pred_Y_rf2 = rf2.predict(X_test)\n",
        "pred_Y_rf3 = rf3.predict(X_test)\n",
        "pred_Y_rf4 = rf4.predict(X_test)\n",
        "pred_Y_rf5 = rf5.predict(X_test)\n",
        "pred_Y_rf6 = rf6.predict(X_test)\n",
        "pred_Y_rf7 = rf7.predict(X_test)\n",
        "pred_Y_rf8 = rf8.predict(X_test)\n",
        "pred_Y_rf9 = rf9.predict(X_test)\n",
        "pred_Y_rf10 = rf10.predict(X_test)\n",
        "pred_Y_rf11 = rf11.predict(X_test)\n",
        "pred_Y_rf12 = rf12.predict(X_test)\n",
        "pred_Y_rf13 = rf13.predict(X_test)\n",
        "pred_Y_rf14 = rf14.predict(X_test)"
      ],
      "execution_count": null,
      "outputs": []
    },
    {
      "cell_type": "code",
      "metadata": {
        "id": "6z6q3CJAHgrJ"
      },
      "source": [
        "accuracy_rf1, sensitivity_rf1, specificity_rf1 = get_performance(Y_test, pred_Y_rf1)\n",
        "accuracy_rf2, sensitivity_rf2, specificity_rf2 = get_performance(Y_test, pred_Y_rf2)\n",
        "accuracy_rf3, sensitivity_rf3, specificity_rf3 = get_performance(Y_test, pred_Y_rf3)\n",
        "accuracy_rf4, sensitivity_rf4, specificity_rf4 = get_performance(Y_test, pred_Y_rf4)\n",
        "accuracy_rf5, sensitivity_rf5, specificity_rf5 = get_performance(Y_test, pred_Y_rf5)\n",
        "accuracy_rf6, sensitivity_rf6, specificity_rf6 = get_performance(Y_test, pred_Y_rf6)\n",
        "accuracy_rf7, sensitivity_rf7, specificity_rf7 = get_performance(Y_test, pred_Y_rf7)\n",
        "accuracy_rf8, sensitivity_rf8, specificity_rf8 = get_performance(Y_test, pred_Y_rf8)\n",
        "accuracy_rf9, sensitivity_rf9, specificity_rf9 = get_performance(Y_test, pred_Y_rf9)\n",
        "accuracy_rf10, sensitivity_rf10, specificity_rf10 = get_performance(Y_test, pred_Y_rf10)\n",
        "accuracy_rf11, sensitivity_rf11, specificity_rf11 = get_performance(Y_test, pred_Y_rf11)\n",
        "accuracy_rf12, sensitivity_rf12, specificity_rf12 = get_performance(Y_test, pred_Y_rf12)\n",
        "accuracy_rf13, sensitivity_rf13, specificity_rf13 = get_performance(Y_test, pred_Y_rf13)\n",
        "accuracy_rf14, sensitivity_rf14, specificity_rf14 = get_performance(Y_test, pred_Y_rf14)"
      ],
      "execution_count": null,
      "outputs": []
    },
    {
      "cell_type": "code",
      "metadata": {
        "id": "DskmQiCVHgrJ",
        "outputId": "477ea9b0-4b8f-4a3a-fea9-6505eb854bc0"
      },
      "source": [
        "perf2 = pd.DataFrame([accuracy_rf1, accuracy_rf2,accuracy_rf3,accuracy_rf4, accuracy_rf5, accuracy_rf6, \n",
        "                      accuracy_rf7, accuracy_rf8, accuracy_rf9, accuracy_rf10, accuracy_rf11, accuracy_rf12, \n",
        "                      accuracy_rf13,accuracy_rf14], \n",
        "                    columns = ['accuracy'], \n",
        "                    index = [\"RF-1\",\"RF-2\",\"RF-3\",\"RF-4\",\"RF-5\",\"RF-6\",\"RF-7\",\"RF-8\",\"RF-9\",\"RF-10\",\"RF-11\",\"RF-12\",\"RF-13\",\"RF-14\",])\n",
        "\n",
        "perf2['sensitivity'] = np.asarray([sensitivity_rf1,sensitivity_rf2,sensitivity_rf3,sensitivity_rf4,sensitivity_rf5,\n",
        "                                  sensitivity_rf6, sensitivity_rf7, sensitivity_rf8, sensitivity_rf9, sensitivity_rf10,\n",
        "                                  sensitivity_rf11,sensitivity_rf12, sensitivity_rf13, sensitivity_rf14])\n",
        "\n",
        "perf2['specificity'] = np.asarray([specificity_rf1,specificity_rf2, specificity_rf3, specificity_rf4, specificity_rf5,\n",
        "                                  specificity_rf6,specificity_rf7, specificity_rf8, specificity_rf9, specificity_rf10,\n",
        "                                   specificity_rf11, specificity_rf12,specificity_rf13, specificity_rf14])\n",
        "\n",
        "perf2[\"e\"] = np.asarray([2, 10, 15, 20, 25, 30, 35, 40, 45, 50, 75, 100, 150, 200])\n",
        "\n",
        "perf2"
      ],
      "execution_count": null,
      "outputs": [
        {
          "output_type": "execute_result",
          "data": {
            "text/html": [
              "<div>\n",
              "<style scoped>\n",
              "    .dataframe tbody tr th:only-of-type {\n",
              "        vertical-align: middle;\n",
              "    }\n",
              "\n",
              "    .dataframe tbody tr th {\n",
              "        vertical-align: top;\n",
              "    }\n",
              "\n",
              "    .dataframe thead th {\n",
              "        text-align: right;\n",
              "    }\n",
              "</style>\n",
              "<table border=\"1\" class=\"dataframe\">\n",
              "  <thead>\n",
              "    <tr style=\"text-align: right;\">\n",
              "      <th></th>\n",
              "      <th>accuracy</th>\n",
              "      <th>sensitivity</th>\n",
              "      <th>specificity</th>\n",
              "      <th>e</th>\n",
              "    </tr>\n",
              "  </thead>\n",
              "  <tbody>\n",
              "    <tr>\n",
              "      <td>RF-1</td>\n",
              "      <td>0.999345</td>\n",
              "      <td>0.999754</td>\n",
              "      <td>0.738806</td>\n",
              "      <td>2</td>\n",
              "    </tr>\n",
              "    <tr>\n",
              "      <td>RF-2</td>\n",
              "      <td>0.999462</td>\n",
              "      <td>0.999836</td>\n",
              "      <td>0.761194</td>\n",
              "      <td>10</td>\n",
              "    </tr>\n",
              "    <tr>\n",
              "      <td>RF-3</td>\n",
              "      <td>0.999438</td>\n",
              "      <td>0.999812</td>\n",
              "      <td>0.761194</td>\n",
              "      <td>15</td>\n",
              "    </tr>\n",
              "    <tr>\n",
              "      <td>RF-4</td>\n",
              "      <td>0.999485</td>\n",
              "      <td>0.999848</td>\n",
              "      <td>0.768657</td>\n",
              "      <td>20</td>\n",
              "    </tr>\n",
              "    <tr>\n",
              "      <td>RF-5</td>\n",
              "      <td>0.999508</td>\n",
              "      <td>0.999859</td>\n",
              "      <td>0.776119</td>\n",
              "      <td>25</td>\n",
              "    </tr>\n",
              "    <tr>\n",
              "      <td>RF-6</td>\n",
              "      <td>0.999473</td>\n",
              "      <td>0.999848</td>\n",
              "      <td>0.761194</td>\n",
              "      <td>30</td>\n",
              "    </tr>\n",
              "    <tr>\n",
              "      <td>RF-7</td>\n",
              "      <td>0.999473</td>\n",
              "      <td>0.999836</td>\n",
              "      <td>0.768657</td>\n",
              "      <td>35</td>\n",
              "    </tr>\n",
              "    <tr>\n",
              "      <td>RF-8</td>\n",
              "      <td>0.999473</td>\n",
              "      <td>0.999848</td>\n",
              "      <td>0.761194</td>\n",
              "      <td>40</td>\n",
              "    </tr>\n",
              "    <tr>\n",
              "      <td>RF-9</td>\n",
              "      <td>0.999473</td>\n",
              "      <td>0.999859</td>\n",
              "      <td>0.753731</td>\n",
              "      <td>45</td>\n",
              "    </tr>\n",
              "    <tr>\n",
              "      <td>RF-10</td>\n",
              "      <td>0.999450</td>\n",
              "      <td>0.999848</td>\n",
              "      <td>0.746269</td>\n",
              "      <td>50</td>\n",
              "    </tr>\n",
              "    <tr>\n",
              "      <td>RF-11</td>\n",
              "      <td>0.999462</td>\n",
              "      <td>0.999859</td>\n",
              "      <td>0.746269</td>\n",
              "      <td>75</td>\n",
              "    </tr>\n",
              "    <tr>\n",
              "      <td>RF-12</td>\n",
              "      <td>0.999473</td>\n",
              "      <td>0.999848</td>\n",
              "      <td>0.761194</td>\n",
              "      <td>100</td>\n",
              "    </tr>\n",
              "    <tr>\n",
              "      <td>RF-13</td>\n",
              "      <td>0.999462</td>\n",
              "      <td>0.999859</td>\n",
              "      <td>0.746269</td>\n",
              "      <td>150</td>\n",
              "    </tr>\n",
              "    <tr>\n",
              "      <td>RF-14</td>\n",
              "      <td>0.999450</td>\n",
              "      <td>0.999859</td>\n",
              "      <td>0.738806</td>\n",
              "      <td>200</td>\n",
              "    </tr>\n",
              "  </tbody>\n",
              "</table>\n",
              "</div>"
            ],
            "text/plain": [
              "       accuracy  sensitivity  specificity    e\n",
              "RF-1   0.999345     0.999754     0.738806    2\n",
              "RF-2   0.999462     0.999836     0.761194   10\n",
              "RF-3   0.999438     0.999812     0.761194   15\n",
              "RF-4   0.999485     0.999848     0.768657   20\n",
              "RF-5   0.999508     0.999859     0.776119   25\n",
              "RF-6   0.999473     0.999848     0.761194   30\n",
              "RF-7   0.999473     0.999836     0.768657   35\n",
              "RF-8   0.999473     0.999848     0.761194   40\n",
              "RF-9   0.999473     0.999859     0.753731   45\n",
              "RF-10  0.999450     0.999848     0.746269   50\n",
              "RF-11  0.999462     0.999859     0.746269   75\n",
              "RF-12  0.999473     0.999848     0.761194  100\n",
              "RF-13  0.999462     0.999859     0.746269  150\n",
              "RF-14  0.999450     0.999859     0.738806  200"
            ]
          },
          "metadata": {
            "tags": []
          },
          "execution_count": 113
        }
      ]
    },
    {
      "cell_type": "code",
      "metadata": {
        "id": "aEMAge1_HgrK",
        "outputId": "81f16e84-de89-4de3-d45e-64f8e25d06e2"
      },
      "source": [
        "plt.plot(perf2.e,perf2.accuracy, color = \"tomato\", marker = \"X\", linewidth = 1)\n",
        "plt.xlabel(\"Estimator\")\n",
        "plt.ylabel(\"Accuracy Rate of the Model\")\n",
        "plt.style.use(\"fivethirtyeight\")\n",
        "plt.show()"
      ],
      "execution_count": null,
      "outputs": [
        {
          "output_type": "display_data",
          "data": {
            "image/png": "[encoded data removed]",
            "text/plain": [
              "<Figure size 432x288 with 1 Axes>"
            ]
          },
          "metadata": {
            "tags": []
          }
        }
      ]
    },
    {
      "cell_type": "code",
      "metadata": {
        "id": "s-VjipscHgrL"
      },
      "source": [
        "# n_estimators = 100 \n",
        "# This is the number of trees you want to build before taking the maximum voting or averages of predictions. \n",
        "# Higher number of trees give you better performance but makes your code slower. \n",
        "# You should choose as high value as your processor can handle because this makes your predictions stronger and more stable.\n",
        "# Here The curve becomes uniform at 100"
      ],
      "execution_count": null,
      "outputs": []
    },
    {
      "cell_type": "code",
      "metadata": {
        "id": "qmhGzkqRHgrL",
        "outputId": "1023df25-38aa-4925-a64d-1a72679944cb"
      },
      "source": [
        "#Create a Gaussian Classifier\n",
        "rf = RandomForestClassifier(n_estimators=100, max_depth=5, random_state=0)\n",
        "rf.fit(X_train, Y_train)"
      ],
      "execution_count": null,
      "outputs": [
        {
          "output_type": "execute_result",
          "data": {
            "text/plain": [
              "RandomForestClassifier(bootstrap=True, ccp_alpha=0.0, class_weight=None,\n",
              "                       criterion='gini', max_depth=5, max_features='auto',\n",
              "                       max_leaf_nodes=None, max_samples=None,\n",
              "                       min_impurity_decrease=0.0, min_impurity_split=None,\n",
              "                       min_samples_leaf=1, min_samples_split=2,\n",
              "                       min_weight_fraction_leaf=0.0, n_estimators=100,\n",
              "                       n_jobs=None, oob_score=False, random_state=0, verbose=0,\n",
              "                       warm_start=False)"
            ]
          },
          "metadata": {
            "tags": []
          },
          "execution_count": 116
        }
      ]
    },
    {
      "cell_type": "code",
      "metadata": {
        "id": "XrpC3VPtHgrL"
      },
      "source": [
        "from sklearn.metrics import precision_recall_curve\n",
        "from sklearn.metrics import auc"
      ],
      "execution_count": null,
      "outputs": []
    },
    {
      "cell_type": "code",
      "metadata": {
        "id": "lBvyChIVHgrM"
      },
      "source": [
        "pred_Y_rf_train = rf.predict(X_train)"
      ],
      "execution_count": null,
      "outputs": []
    },
    {
      "cell_type": "code",
      "metadata": {
        "id": "dyE44c8nHgrM",
        "outputId": "eaeb5539-d936-4992-f4c7-2adb5700d9e1"
      },
      "source": [
        "from sklearn.metrics import plot_precision_recall_curve\n",
        "disp = plot_precision_recall_curve(rf, X_train, Y_train, color = \"orange\")\n",
        "disp.ax_.set_title('Precision-Recall curve - Training Data') \n",
        "#Precision vs Recall Curve for Train"
      ],
      "execution_count": null,
      "outputs": [
        {
          "output_type": "execute_result",
          "data": {
            "text/plain": [
              "Text(0.5, 1.0, 'Precision-Recall curve - Training Data')"
            ]
          },
          "metadata": {
            "tags": []
          },
          "execution_count": 119
        },
        {
          "output_type": "display_data",
          "data": {
            "image/png": "[encoded data removed]",
            "text/plain": [
              "<Figure size 432x288 with 1 Axes>"
            ]
          },
          "metadata": {
            "tags": []
          }
        }
      ]
    },
    {
      "cell_type": "code",
      "metadata": {
        "id": "oUjSNmzoHgrM"
      },
      "source": [
        "precision, recall, threshold = precision_recall_curve(Y_train,pred_Y_rf_train)"
      ],
      "execution_count": null,
      "outputs": []
    },
    {
      "cell_type": "code",
      "metadata": {
        "id": "mipA2MLhHgrM",
        "outputId": "ee3aaec0-6874-445c-e81f-e821d7beaaba"
      },
      "source": [
        "precision, recall, threshold"
      ],
      "execution_count": null,
      "outputs": [
        {
          "output_type": "execute_result",
          "data": {
            "text/plain": [
              "(array([0.00179571, 0.95714286, 1.        ]),\n",
              " array([1.        , 0.74860335, 0.        ]),\n",
              " array([0, 1], dtype=int64))"
            ]
          },
          "metadata": {
            "tags": []
          },
          "execution_count": 121
        }
      ]
    },
    {
      "cell_type": "code",
      "metadata": {
        "id": "aIXyQJN4HgrN"
      },
      "source": [
        "pred_Y_rf = rf.predict(X_test)"
      ],
      "execution_count": null,
      "outputs": []
    },
    {
      "cell_type": "code",
      "metadata": {
        "id": "W9kXCQgdHgrN",
        "outputId": "17f0cbc1-62df-4c27-926d-9ef1eb51212e"
      },
      "source": [
        "from sklearn.metrics import plot_precision_recall_curve\n",
        "disp = plot_precision_recall_curve(rf, X_test, Y_test, color = \"red\")\n",
        "disp.ax_.set_title('Precision-Recall curve - Testing Data') \n",
        "#Precision vs Recall Curve for Test"
      ],
      "execution_count": null,
      "outputs": [
        {
          "output_type": "execute_result",
          "data": {
            "text/plain": [
              "Text(0.5, 1.0, 'Precision-Recall curve - Testing Data')"
            ]
          },
          "metadata": {
            "tags": []
          },
          "execution_count": 123
        },
        {
          "output_type": "display_data",
          "data": {
            "image/png": "[encoded data removed]",
            "text/plain": [
              "<Figure size 432x288 with 1 Axes>"
            ]
          },
          "metadata": {
            "tags": []
          }
        }
      ]
    },
    {
      "cell_type": "code",
      "metadata": {
        "id": "ngLNZDJfHgrN"
      },
      "source": [
        "precision, recall, threshold = precision_recall_curve(Y_test,pred_Y_rf)"
      ],
      "execution_count": null,
      "outputs": []
    },
    {
      "cell_type": "code",
      "metadata": {
        "id": "cicMvbNkHgrN",
        "outputId": "2599d81a-1247-41f1-cd4d-dd216e3fd2f4"
      },
      "source": [
        "precision, recall, threshold"
      ],
      "execution_count": null,
      "outputs": [
        {
          "output_type": "execute_result",
          "data": {
            "text/plain": [
              "(array([0.0015683 , 0.88695652, 1.        ]),\n",
              " array([1.        , 0.76119403, 0.        ]),\n",
              " array([0, 1], dtype=int64))"
            ]
          },
          "metadata": {
            "tags": []
          },
          "execution_count": 125
        }
      ]
    },
    {
      "cell_type": "code",
      "metadata": {
        "id": "kMsfx2J_HgrN",
        "outputId": "7ad02524-78b9-4c37-8c6d-8711a44133cf"
      },
      "source": [
        "import pandas as pd\n",
        "feature_imp = pd.Series(rf.feature_importances_,index=X_train.columns.values).sort_values(ascending=False)\n",
        "feature_imp"
      ],
      "execution_count": null,
      "outputs": [
        {
          "output_type": "execute_result",
          "data": {
            "text/plain": [
              "V17                     0.205326\n",
              "V12                     0.194338\n",
              "V14                     0.114315\n",
              "V10                     0.095798\n",
              "V11                     0.090729\n",
              "V16                     0.067364\n",
              "V9                      0.037789\n",
              "V18                     0.034623\n",
              "V4                      0.032265\n",
              "V7                      0.019202\n",
              "V3                      0.012590\n",
              "V26                     0.009788\n",
              "V1                      0.009017\n",
              "V8                      0.008444\n",
              "V21                     0.008262\n",
              "V2                      0.007376\n",
              "V6                      0.007300\n",
              "V20                     0.005963\n",
              "V27                     0.005409\n",
              "V5                      0.004874\n",
              "Time_ Standardized      0.004604\n",
              "V22                     0.004266\n",
              "V24                     0.003667\n",
              "V19                     0.003385\n",
              "V15                     0.002902\n",
              "V25                     0.002668\n",
              "V28                     0.002652\n",
              "Amount_ Standardized    0.002378\n",
              "V13                     0.001420\n",
              "V23                     0.001286\n",
              "dtype: float64"
            ]
          },
          "metadata": {
            "tags": []
          },
          "execution_count": 126
        }
      ]
    },
    {
      "cell_type": "code",
      "metadata": {
        "id": "d0C92SQJHgrO",
        "outputId": "bb5a4658-bb0f-4c51-8039-16ca17c2cda7"
      },
      "source": [
        "import matplotlib.pyplot as plt\n",
        "import seaborn as sns\n",
        "%matplotlib inline\n",
        "# Creating a bar plot\n",
        "sns.barplot(x=feature_imp, y=feature_imp.index)\n",
        "# Add labels to your graph\n",
        "plt.xlabel('Feature Importance Score')\n",
        "plt.ylabel('Features')\n",
        "plt.title(\"Visualizing Important Features\")\n",
        "plt.legend()\n",
        "plt.show()"
      ],
      "execution_count": null,
      "outputs": [
        {
          "output_type": "stream",
          "text": [
            "No handles with labels found to put in legend.\n"
          ],
          "name": "stderr"
        },
        {
          "output_type": "display_data",
          "data": {
            "image/png": "[encoded data removed]",
            "text/plain": [
              "<Figure size 432x288 with 1 Axes>"
            ]
          },
          "metadata": {
            "tags": [],
            "needs_background": "light"
          }
        }
      ]
    },
    {
      "cell_type": "markdown",
      "metadata": {
        "id": "qiPP6kxYHgrO"
      },
      "source": [
        "# Naive Bayes Classifier"
      ]
    },
    {
      "cell_type": "code",
      "metadata": {
        "id": "DXMBUaamHgrP"
      },
      "source": [
        "from sklearn.naive_bayes import GaussianNB"
      ],
      "execution_count": null,
      "outputs": []
    },
    {
      "cell_type": "code",
      "metadata": {
        "id": "LNBXGyoaHgrP"
      },
      "source": [
        "naive = GaussianNB()"
      ],
      "execution_count": null,
      "outputs": []
    },
    {
      "cell_type": "code",
      "metadata": {
        "colab": {
          "base_uri": "https://localhost:8080/"
        },
        "id": "8MG4rBdhHgrP",
        "outputId": "2f462a9c-2818-4847-d635-a82f212987e8"
      },
      "source": [
        "naive.fit(X_train, Y_train)  "
      ],
      "execution_count": null,
      "outputs": [
        {
          "output_type": "execute_result",
          "data": {
            "text/plain": [
              "GaussianNB(priors=None, var_smoothing=1e-09)"
            ]
          },
          "metadata": {
            "tags": []
          },
          "execution_count": 105
        }
      ]
    },
    {
      "cell_type": "code",
      "metadata": {
        "id": "ehmzwWCpHgrP"
      },
      "source": [
        "naive_pred = naive.predict(X_train)"
      ],
      "execution_count": null,
      "outputs": []
    },
    {
      "cell_type": "code",
      "metadata": {
        "id": "7iFHnp5CHgrP"
      },
      "source": [
        "naive_pred_prob = naive.predict_proba(X_train)"
      ],
      "execution_count": null,
      "outputs": []
    },
    {
      "cell_type": "code",
      "metadata": {
        "colab": {
          "base_uri": "https://localhost:8080/"
        },
        "id": "kA-zt70nHgrQ",
        "outputId": "dfc8376c-1d85-42e0-9583-fa8a88ddde75"
      },
      "source": [
        "naive_pred_prob[:,1]"
      ],
      "execution_count": null,
      "outputs": [
        {
          "output_type": "execute_result",
          "data": {
            "text/plain": [
              "array([0.99210177, 0.        , 0.98667819, 0.        , 0.00633373,\n",
              "       0.2368967 , 0.97237359, 0.94783883, 0.99804115, 0.89864097,\n",
              "       0.99041567, 0.998698  , 0.        ])"
            ]
          },
          "metadata": {
            "tags": []
          },
          "execution_count": 108
        }
      ]
    },
    {
      "cell_type": "code",
      "metadata": {
        "id": "jw9YmFPQHgrQ"
      },
      "source": [
        "col_names = [\"Accuracy\",\"Sensitivity\", \"Specificity\", \"Precision\",\"Recall\", \"FMeasure\"]\n",
        "table3 = pd.DataFrame(columns = col_names)\n",
        "for i in np.arange(0,1,0.05):\n",
        "    y_pred = (naive_pred_prob[:,1] > i).astype(int)\n",
        "    tn, fp, fn, tp = confusion_matrix(Y_train,y_pred).ravel()\n",
        "    Accuracy = (tp+tn)/(tp+fp+fn+tn)\n",
        "    Sensitivity = tp/(tp+fn)\n",
        "    Specificity =tn/(tn+fp)\n",
        "    Precision = tp/(tp+fp)\n",
        "    Recall = tp/(fn+tp)\n",
        "    FMeasure = (2*Precision*Recall) /(Precision+Recall)\n",
        "    table3.loc[i] =[Accuracy,Sensitivity,Specificity,Precision,Recall,FMeasure]"
      ],
      "execution_count": null,
      "outputs": []
    },
    {
      "cell_type": "code",
      "metadata": {
        "colab": {
          "base_uri": "https://localhost:8080/",
          "height": 677
        },
        "id": "R7nDKD2vHgrQ",
        "outputId": "0fbf57f7-af71-42cb-c096-64d92401981a"
      },
      "source": [
        "table3"
      ],
      "execution_count": null,
      "outputs": [
        {
          "output_type": "execute_result",
          "data": {
            "text/html": [
              "<div>\n",
              "<style scoped>\n",
              "    .dataframe tbody tr th:only-of-type {\n",
              "        vertical-align: middle;\n",
              "    }\n",
              "\n",
              "    .dataframe tbody tr th {\n",
              "        vertical-align: top;\n",
              "    }\n",
              "\n",
              "    .dataframe thead th {\n",
              "        text-align: right;\n",
              "    }\n",
              "</style>\n",
              "<table border=\"1\" class=\"dataframe\">\n",
              "  <thead>\n",
              "    <tr style=\"text-align: right;\">\n",
              "      <th></th>\n",
              "      <th>Accuracy</th>\n",
              "      <th>Sensitivity</th>\n",
              "      <th>Specificity</th>\n",
              "      <th>Precision</th>\n",
              "      <th>Recall</th>\n",
              "      <th>FMeasure</th>\n",
              "    </tr>\n",
              "  </thead>\n",
              "  <tbody>\n",
              "    <tr>\n",
              "      <th>0.00</th>\n",
              "      <td>0.461538</td>\n",
              "      <td>1.000000</td>\n",
              "      <td>0.3</td>\n",
              "      <td>0.300000</td>\n",
              "      <td>1.000000</td>\n",
              "      <td>0.461538</td>\n",
              "    </tr>\n",
              "    <tr>\n",
              "      <th>0.05</th>\n",
              "      <td>0.538462</td>\n",
              "      <td>1.000000</td>\n",
              "      <td>0.4</td>\n",
              "      <td>0.333333</td>\n",
              "      <td>1.000000</td>\n",
              "      <td>0.500000</td>\n",
              "    </tr>\n",
              "    <tr>\n",
              "      <th>0.10</th>\n",
              "      <td>0.538462</td>\n",
              "      <td>1.000000</td>\n",
              "      <td>0.4</td>\n",
              "      <td>0.333333</td>\n",
              "      <td>1.000000</td>\n",
              "      <td>0.500000</td>\n",
              "    </tr>\n",
              "    <tr>\n",
              "      <th>0.15</th>\n",
              "      <td>0.538462</td>\n",
              "      <td>1.000000</td>\n",
              "      <td>0.4</td>\n",
              "      <td>0.333333</td>\n",
              "      <td>1.000000</td>\n",
              "      <td>0.500000</td>\n",
              "    </tr>\n",
              "    <tr>\n",
              "      <th>0.20</th>\n",
              "      <td>0.538462</td>\n",
              "      <td>1.000000</td>\n",
              "      <td>0.4</td>\n",
              "      <td>0.333333</td>\n",
              "      <td>1.000000</td>\n",
              "      <td>0.500000</td>\n",
              "    </tr>\n",
              "    <tr>\n",
              "      <th>0.25</th>\n",
              "      <td>0.615385</td>\n",
              "      <td>1.000000</td>\n",
              "      <td>0.5</td>\n",
              "      <td>0.375000</td>\n",
              "      <td>1.000000</td>\n",
              "      <td>0.545455</td>\n",
              "    </tr>\n",
              "    <tr>\n",
              "      <th>0.30</th>\n",
              "      <td>0.615385</td>\n",
              "      <td>1.000000</td>\n",
              "      <td>0.5</td>\n",
              "      <td>0.375000</td>\n",
              "      <td>1.000000</td>\n",
              "      <td>0.545455</td>\n",
              "    </tr>\n",
              "    <tr>\n",
              "      <th>0.35</th>\n",
              "      <td>0.615385</td>\n",
              "      <td>1.000000</td>\n",
              "      <td>0.5</td>\n",
              "      <td>0.375000</td>\n",
              "      <td>1.000000</td>\n",
              "      <td>0.545455</td>\n",
              "    </tr>\n",
              "    <tr>\n",
              "      <th>0.40</th>\n",
              "      <td>0.615385</td>\n",
              "      <td>1.000000</td>\n",
              "      <td>0.5</td>\n",
              "      <td>0.375000</td>\n",
              "      <td>1.000000</td>\n",
              "      <td>0.545455</td>\n",
              "    </tr>\n",
              "    <tr>\n",
              "      <th>0.45</th>\n",
              "      <td>0.615385</td>\n",
              "      <td>1.000000</td>\n",
              "      <td>0.5</td>\n",
              "      <td>0.375000</td>\n",
              "      <td>1.000000</td>\n",
              "      <td>0.545455</td>\n",
              "    </tr>\n",
              "    <tr>\n",
              "      <th>0.50</th>\n",
              "      <td>0.615385</td>\n",
              "      <td>1.000000</td>\n",
              "      <td>0.5</td>\n",
              "      <td>0.375000</td>\n",
              "      <td>1.000000</td>\n",
              "      <td>0.545455</td>\n",
              "    </tr>\n",
              "    <tr>\n",
              "      <th>0.55</th>\n",
              "      <td>0.615385</td>\n",
              "      <td>1.000000</td>\n",
              "      <td>0.5</td>\n",
              "      <td>0.375000</td>\n",
              "      <td>1.000000</td>\n",
              "      <td>0.545455</td>\n",
              "    </tr>\n",
              "    <tr>\n",
              "      <th>0.60</th>\n",
              "      <td>0.615385</td>\n",
              "      <td>1.000000</td>\n",
              "      <td>0.5</td>\n",
              "      <td>0.375000</td>\n",
              "      <td>1.000000</td>\n",
              "      <td>0.545455</td>\n",
              "    </tr>\n",
              "    <tr>\n",
              "      <th>0.65</th>\n",
              "      <td>0.615385</td>\n",
              "      <td>1.000000</td>\n",
              "      <td>0.5</td>\n",
              "      <td>0.375000</td>\n",
              "      <td>1.000000</td>\n",
              "      <td>0.545455</td>\n",
              "    </tr>\n",
              "    <tr>\n",
              "      <th>0.70</th>\n",
              "      <td>0.615385</td>\n",
              "      <td>1.000000</td>\n",
              "      <td>0.5</td>\n",
              "      <td>0.375000</td>\n",
              "      <td>1.000000</td>\n",
              "      <td>0.545455</td>\n",
              "    </tr>\n",
              "    <tr>\n",
              "      <th>0.75</th>\n",
              "      <td>0.615385</td>\n",
              "      <td>1.000000</td>\n",
              "      <td>0.5</td>\n",
              "      <td>0.375000</td>\n",
              "      <td>1.000000</td>\n",
              "      <td>0.545455</td>\n",
              "    </tr>\n",
              "    <tr>\n",
              "      <th>0.80</th>\n",
              "      <td>0.615385</td>\n",
              "      <td>1.000000</td>\n",
              "      <td>0.5</td>\n",
              "      <td>0.375000</td>\n",
              "      <td>1.000000</td>\n",
              "      <td>0.545455</td>\n",
              "    </tr>\n",
              "    <tr>\n",
              "      <th>0.85</th>\n",
              "      <td>0.615385</td>\n",
              "      <td>1.000000</td>\n",
              "      <td>0.5</td>\n",
              "      <td>0.375000</td>\n",
              "      <td>1.000000</td>\n",
              "      <td>0.545455</td>\n",
              "    </tr>\n",
              "    <tr>\n",
              "      <th>0.90</th>\n",
              "      <td>0.692308</td>\n",
              "      <td>1.000000</td>\n",
              "      <td>0.6</td>\n",
              "      <td>0.428571</td>\n",
              "      <td>1.000000</td>\n",
              "      <td>0.600000</td>\n",
              "    </tr>\n",
              "    <tr>\n",
              "      <th>0.95</th>\n",
              "      <td>0.615385</td>\n",
              "      <td>0.666667</td>\n",
              "      <td>0.6</td>\n",
              "      <td>0.333333</td>\n",
              "      <td>0.666667</td>\n",
              "      <td>0.444444</td>\n",
              "    </tr>\n",
              "  </tbody>\n",
              "</table>\n",
              "</div>"
            ],
            "text/plain": [
              "      Accuracy  Sensitivity  Specificity  Precision    Recall  FMeasure\n",
              "0.00  0.461538     1.000000          0.3   0.300000  1.000000  0.461538\n",
              "0.05  0.538462     1.000000          0.4   0.333333  1.000000  0.500000\n",
              "0.10  0.538462     1.000000          0.4   0.333333  1.000000  0.500000\n",
              "0.15  0.538462     1.000000          0.4   0.333333  1.000000  0.500000\n",
              "0.20  0.538462     1.000000          0.4   0.333333  1.000000  0.500000\n",
              "0.25  0.615385     1.000000          0.5   0.375000  1.000000  0.545455\n",
              "0.30  0.615385     1.000000          0.5   0.375000  1.000000  0.545455\n",
              "0.35  0.615385     1.000000          0.5   0.375000  1.000000  0.545455\n",
              "0.40  0.615385     1.000000          0.5   0.375000  1.000000  0.545455\n",
              "0.45  0.615385     1.000000          0.5   0.375000  1.000000  0.545455\n",
              "0.50  0.615385     1.000000          0.5   0.375000  1.000000  0.545455\n",
              "0.55  0.615385     1.000000          0.5   0.375000  1.000000  0.545455\n",
              "0.60  0.615385     1.000000          0.5   0.375000  1.000000  0.545455\n",
              "0.65  0.615385     1.000000          0.5   0.375000  1.000000  0.545455\n",
              "0.70  0.615385     1.000000          0.5   0.375000  1.000000  0.545455\n",
              "0.75  0.615385     1.000000          0.5   0.375000  1.000000  0.545455\n",
              "0.80  0.615385     1.000000          0.5   0.375000  1.000000  0.545455\n",
              "0.85  0.615385     1.000000          0.5   0.375000  1.000000  0.545455\n",
              "0.90  0.692308     1.000000          0.6   0.428571  1.000000  0.600000\n",
              "0.95  0.615385     0.666667          0.6   0.333333  0.666667  0.444444"
            ]
          },
          "metadata": {
            "tags": []
          },
          "execution_count": 110
        }
      ]
    },
    {
      "cell_type": "code",
      "metadata": {
        "colab": {
          "base_uri": "https://localhost:8080/",
          "height": 300
        },
        "id": "ECaYAwKVHgrQ",
        "outputId": "00a37be8-d5e4-4e76-f10d-c949a573be92"
      },
      "source": [
        "plt.plot(table3.Recall, table3.Precision , marker = \"*\", linewidth = 1)\n",
        "plt.xlabel(\"Recall\")\n",
        "plt.ylabel(\"Precision\")\n",
        "plt.style.use(\"fivethirtyeight\")\n",
        "plt.show()\n",
        "# Plot between Precision and Recall "
      ],
      "execution_count": null,
      "outputs": [
        {
          "output_type": "display_data",
          "data": {
            "image/png": "[encoded data removed]",
            "text/plain": [
              "<Figure size 432x288 with 1 Axes>"
            ]
          },
          "metadata": {
            "tags": []
          }
        }
      ]
    },
    {
      "cell_type": "code",
      "metadata": {
        "id": "vzxZjnH3HgrR"
      },
      "source": [
        "naive_pred_test = naive.predict(X_test)"
      ],
      "execution_count": null,
      "outputs": []
    },
    {
      "cell_type": "code",
      "metadata": {
        "id": "9SOJkgY7HgrS"
      },
      "source": [
        "tn, fp, fn, tp = confusion_matrix(Y_test,naive_pred_test).ravel()"
      ],
      "execution_count": null,
      "outputs": []
    },
    {
      "cell_type": "code",
      "metadata": {
        "colab": {
          "base_uri": "https://localhost:8080/"
        },
        "id": "sf0w6LdvHgrS",
        "outputId": "4183943c-163c-44b4-9567-d8b1fa65cde2"
      },
      "source": [
        "tn, fp, fn, tp #Threshold of 0.5"
      ],
      "execution_count": null,
      "outputs": [
        {
          "output_type": "execute_result",
          "data": {
            "text/plain": [
              "(3, 2, 1, 0)"
            ]
          },
          "metadata": {
            "tags": []
          },
          "execution_count": 114
        }
      ]
    },
    {
      "cell_type": "code",
      "metadata": {
        "colab": {
          "base_uri": "https://localhost:8080/",
          "height": 300
        },
        "id": "BJSfUgNnHgrS",
        "outputId": "ef646408-390d-4261-dbf2-9cbae02ba4a6"
      },
      "source": [
        "from mlxtend.plotting import plot_confusion_matrix\n",
        "import matplotlib.pyplot as plt\n",
        "import numpy as np\n",
        "\n",
        "binary1 = np.array([[83425, 1884],[17, 117]])\n",
        "fig, ax = plot_confusion_matrix(conf_mat=binary1)\n",
        "plt.show()"
      ],
      "execution_count": null,
      "outputs": [
        {
          "output_type": "display_data",
          "data": {
            "image/png": "[encoded data removed]",
            "text/plain": [
              "<Figure size 432x288 with 1 Axes>"
            ]
          },
          "metadata": {
            "tags": []
          }
        }
      ]
    },
    {
      "cell_type": "code",
      "metadata": {
        "colab": {
          "base_uri": "https://localhost:8080/",
          "height": 339
        },
        "id": "7aV53Q8OHgrT",
        "outputId": "f6f5adfe-6329-4740-9aa5-dc656fe8d389"
      },
      "source": [
        "from sklearn.metrics import plot_precision_recall_curve\n",
        "disp = plot_precision_recall_curve(naive, X_train, Y_train, color = \"orange\")\n",
        "disp.ax_.set_title('Precision-Recall curve - Training Data') \n",
        "#Precision vs Recall Curve for Train Data"
      ],
      "execution_count": null,
      "outputs": [
        {
          "output_type": "execute_result",
          "data": {
            "text/plain": [
              "Text(0.5, 1.0, 'Precision-Recall curve - Training Data')"
            ]
          },
          "metadata": {
            "tags": []
          },
          "execution_count": 116
        },
        {
          "output_type": "display_data",
          "data": {
            "image/png": "[encoded data removed]",
            "text/plain": [
              "<Figure size 432x288 with 1 Axes>"
            ]
          },
          "metadata": {
            "tags": []
          }
        }
      ]
    },
    {
      "cell_type": "code",
      "metadata": {
        "id": "SKaUCaL2HgrT"
      },
      "source": [
        "precision, recall, threshold = precision_recall_curve(Y_test,naive_pred_test)"
      ],
      "execution_count": null,
      "outputs": []
    },
    {
      "cell_type": "code",
      "metadata": {
        "colab": {
          "base_uri": "https://localhost:8080/"
        },
        "id": "M9DPiFY2HgrT",
        "outputId": "00dd2d7b-3a7f-473e-cde3-e251e1f685e0"
      },
      "source": [
        "precision, recall, threshold  "
      ],
      "execution_count": null,
      "outputs": [
        {
          "output_type": "execute_result",
          "data": {
            "text/plain": [
              "(array([0.16666667, 0.        , 1.        ]),\n",
              " array([1., 0., 0.]),\n",
              " array([0, 1]))"
            ]
          },
          "metadata": {
            "tags": []
          },
          "execution_count": 118
        }
      ]
    },
    {
      "cell_type": "code",
      "metadata": {
        "colab": {
          "base_uri": "https://localhost:8080/",
          "height": 339
        },
        "id": "Yg75rQzNHgrT",
        "outputId": "0d68edc2-8943-4962-8bb3-261fc061bfbe"
      },
      "source": [
        "from sklearn.metrics import plot_precision_recall_curve\n",
        "disp = plot_precision_recall_curve(naive, X_test, Y_test, color = \"red\")\n",
        "disp.ax_.set_title('Precision-Recall curve - Test Data') \n",
        "#Precision vs Recall Curve for Test Data"
      ],
      "execution_count": null,
      "outputs": [
        {
          "output_type": "execute_result",
          "data": {
            "text/plain": [
              "Text(0.5, 1.0, 'Precision-Recall curve - Test Data')"
            ]
          },
          "metadata": {
            "tags": []
          },
          "execution_count": 119
        },
        {
          "output_type": "display_data",
          "data": {
            "image/png": "[encoded data removed]",
            "text/plain": [
              "<Figure size 432x288 with 1 Axes>"
            ]
          },
          "metadata": {
            "tags": []
          }
        }
      ]
    },
    {
      "cell_type": "code",
      "metadata": {
        "id": "aJKghjwlHgrU"
      },
      "source": [
        "#Though the Naive Bayes Model performs well interms of Accuracy but it is poor interms of Precsion."
      ],
      "execution_count": null,
      "outputs": []
    },
    {
      "cell_type": "markdown",
      "metadata": {
        "id": "cCABkibGHgrU"
      },
      "source": [
        "# Performance Summary & Model Selection"
      ]
    },
    {
      "cell_type": "code",
      "metadata": {
        "id": "kerhCbLhHgrU"
      },
      "source": [
        "def detailed_stats(X_test, Y_train, Y_test, y_pred, clf):\n",
        "    \n",
        "    scores = cross_val_score(clf, X_test, Y_test, cv=5)\n",
        "    score = np.mean(scores)\n",
        "    tn, fp, fn, tp = confusion_matrix(Y_test, y_pred).ravel()\n",
        "    fpr = fp/(fp+tn)\n",
        "    precision = tp / (tp + fp)\n",
        "    sensitivity = tp / (tp + fn)\n",
        "    specificity = tn / (tn + fp)\n",
        "    accuracy = (tp+tn)/(tp+fp+tn+fn)\n",
        "    fmeasure = (2*precision*sensitivity) /(precision+sensitivity)\n",
        "    return [score, accuracy, sensitivity, specificity, fpr, precision, fmeasure]"
      ],
      "execution_count": null,
      "outputs": []
    },
    {
      "cell_type": "code",
      "metadata": {
        "id": "fcQ1cnZqHgrV",
        "outputId": "3f142a82-05eb-4882-ead3-c2ab84309871"
      },
      "source": [
        "models_list = [lr,dt, rf, naive]\n",
        "index = ['Logistic Regression','Decision Tree', 'Random Forest', 'Naive Bayes']\n",
        "prediction_list = [pred_Y_lr_test, pred_y,pred_Y_rf ,naive_pred_test]\n",
        "performance = pd.DataFrame(columns = ['CV_Score', 'Accuracy', 'Sensitivity','Specificity', 'fpr', 'Precision', 'FMeasure'])\n",
        "for id, model in enumerate(models_list):\n",
        "    performance.loc[index[id]] = detailed_stats(X_test, Y_train, Y_test, prediction_list[id], model)\n",
        "performance"
      ],
      "execution_count": null,
      "outputs": [
        {
          "output_type": "execute_result",
          "data": {
            "text/html": [
              "<div>\n",
              "<style scoped>\n",
              "    .dataframe tbody tr th:only-of-type {\n",
              "        vertical-align: middle;\n",
              "    }\n",
              "\n",
              "    .dataframe tbody tr th {\n",
              "        vertical-align: top;\n",
              "    }\n",
              "\n",
              "    .dataframe thead th {\n",
              "        text-align: right;\n",
              "    }\n",
              "</style>\n",
              "<table border=\"1\" class=\"dataframe\">\n",
              "  <thead>\n",
              "    <tr style=\"text-align: right;\">\n",
              "      <th></th>\n",
              "      <th>CV_Score</th>\n",
              "      <th>Accuracy</th>\n",
              "      <th>Sensitivity</th>\n",
              "      <th>Specificity</th>\n",
              "      <th>fpr</th>\n",
              "      <th>Precision</th>\n",
              "      <th>FMeasure</th>\n",
              "    </tr>\n",
              "  </thead>\n",
              "  <tbody>\n",
              "    <tr>\n",
              "      <td>Logistic Regression</td>\n",
              "      <td>0.999064</td>\n",
              "      <td>0.999169</td>\n",
              "      <td>0.679104</td>\n",
              "      <td>0.999672</td>\n",
              "      <td>0.000328</td>\n",
              "      <td>0.764706</td>\n",
              "      <td>0.719368</td>\n",
              "    </tr>\n",
              "    <tr>\n",
              "      <td>Decision Tree</td>\n",
              "      <td>0.999391</td>\n",
              "      <td>0.999427</td>\n",
              "      <td>0.791045</td>\n",
              "      <td>0.999754</td>\n",
              "      <td>0.000246</td>\n",
              "      <td>0.834646</td>\n",
              "      <td>0.812261</td>\n",
              "    </tr>\n",
              "    <tr>\n",
              "      <td>Random Forest</td>\n",
              "      <td>0.999438</td>\n",
              "      <td>0.999473</td>\n",
              "      <td>0.761194</td>\n",
              "      <td>0.999848</td>\n",
              "      <td>0.000152</td>\n",
              "      <td>0.886957</td>\n",
              "      <td>0.819277</td>\n",
              "    </tr>\n",
              "    <tr>\n",
              "      <td>Naive Bayes</td>\n",
              "      <td>0.979355</td>\n",
              "      <td>0.977751</td>\n",
              "      <td>0.873134</td>\n",
              "      <td>0.977916</td>\n",
              "      <td>0.022084</td>\n",
              "      <td>0.058471</td>\n",
              "      <td>0.109602</td>\n",
              "    </tr>\n",
              "  </tbody>\n",
              "</table>\n",
              "</div>"
            ],
            "text/plain": [
              "                     CV_Score  Accuracy  Sensitivity  Specificity       fpr  \\\n",
              "Logistic Regression  0.999064  0.999169     0.679104     0.999672  0.000328   \n",
              "Decision Tree        0.999391  0.999427     0.791045     0.999754  0.000246   \n",
              "Random Forest        0.999438  0.999473     0.761194     0.999848  0.000152   \n",
              "Naive Bayes          0.979355  0.977751     0.873134     0.977916  0.022084   \n",
              "\n",
              "                     Precision  FMeasure  \n",
              "Logistic Regression   0.764706  0.719368  \n",
              "Decision Tree         0.834646  0.812261  \n",
              "Random Forest         0.886957  0.819277  \n",
              "Naive Bayes           0.058471  0.109602  "
            ]
          },
          "metadata": {
            "tags": []
          },
          "execution_count": 149
        }
      ]
    },
    {
      "cell_type": "code",
      "metadata": {
        "id": "Q-C7kVADHgrV",
        "outputId": "f53ef02d-6d8e-43e4-b9ad-9e2457b7c2c9"
      },
      "source": [
        "# Accuracy and Cross validation score Graph\n",
        "performance.reset_index().plot(x='index' ,y=['Precision'],kind='bar')"
      ],
      "execution_count": null,
      "outputs": [
        {
          "output_type": "execute_result",
          "data": {
            "text/plain": [
              "<matplotlib.axes._subplots.AxesSubplot at 0x2074fe46c88>"
            ]
          },
          "metadata": {
            "tags": []
          },
          "execution_count": 151
        },
        {
          "output_type": "display_data",
          "data": {
            "image/png": "[encoded data removed]",
            "text/plain": [
              "<Figure size 432x288 with 1 Axes>"
            ]
          },
          "metadata": {
            "tags": []
          }
        }
      ]
    },
    {
      "cell_type": "code",
      "metadata": {
        "id": "QhOfrsYxHgrV"
      },
      "source": [
        "# Since we had imbalance in the dataset. We decided the best model based on Precision"
      ],
      "execution_count": null,
      "outputs": []
    }
  ]
}